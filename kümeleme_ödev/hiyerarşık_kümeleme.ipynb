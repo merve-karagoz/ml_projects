{
  "nbformat": 4,
  "nbformat_minor": 0,
  "metadata": {
    "kernelspec": {
      "display_name": "Python 3",
      "language": "python",
      "name": "python3"
    },
    "language_info": {
      "codemirror_mode": {
        "name": "ipython",
        "version": 3
      },
      "file_extension": ".py",
      "mimetype": "text/x-python",
      "name": "python",
      "nbconvert_exporter": "python",
      "pygments_lexer": "ipython3",
      "version": "3.7.6"
    },
    "papermill": {
      "duration": 26.489672,
      "end_time": "2020-09-26T07:21:59.864847",
      "environment_variables": {},
      "exception": null,
      "input_path": "__notebook__.ipynb",
      "output_path": "__notebook__.ipynb",
      "parameters": {},
      "start_time": "2020-09-26T07:21:33.375175",
      "version": "2.1.0"
    },
    "colab": {
      "provenance": [],
      "collapsed_sections": []
    }
  },
  "cells": [
    {
      "cell_type": "markdown",
      "metadata": {
        "_cell_guid": "b1076dfc-b9ad-4769-8c92-a6c4dae69d19",
        "_uuid": "8f2839f25d086af736a60e9eeb907d3b93b6e0e5",
        "papermill": {
          "duration": 0.05436,
          "end_time": "2020-09-26T07:21:38.229835",
          "exception": false,
          "start_time": "2020-09-26T07:21:38.175475",
          "status": "completed"
        },
        "tags": [],
        "id": "aM7bw7Vfq8iX"
      },
      "source": [
        "<h2 style='height:40px;text-align:center;font-size:30px;background-color:red;border:20px;color:white'>ABD Eyaletlerine Göre Şiddet Suç Oranları<h2>\n"
      ]
    },
    {
      "cell_type": "markdown",
      "metadata": {
        "_cell_guid": "79c7e3d0-c299-4dcb-8224-4455121ee9b0",
        "_uuid": "d629ff2d2480ee46fbb7e2d37f6b5fab8052498a",
        "collapsed": true,
        "papermill": {
          "duration": 0.047826,
          "end_time": "2020-09-26T07:21:38.424533",
          "exception": false,
          "start_time": "2020-09-26T07:21:38.376707",
          "status": "completed"
        },
        "tags": [],
        "id": "8EfFi98Eq8it"
      },
      "source": [
        "## Veri tanımlaması\n",
        "**ABD Eyaletine Göre Şiddet Suç Oranları:** \n",
        " Bu veri seti, 1973'te 50 ABD eyaletinin her birinde 100.000 kişi başına saldırı, cinayet ve tecavüz nedeniyle tutuklama istatistiklerini içerir. Ayrıca, kentsel alanlarda yaşayan nüfusun yüzdesi de verilmiştir. Bu, USArrest veri setini kullanarak suçtaki kalıpları ve eğilimleri belirlemek ve analiz etmek için sistematik bir yaklaşım.  "
      ]
    },
    {
      "cell_type": "markdown",
      "metadata": {
        "papermill": {
          "duration": 0.0469,
          "end_time": "2020-09-26T07:21:38.900402",
          "exception": false,
          "start_time": "2020-09-26T07:21:38.853502",
          "status": "completed"
        },
        "tags": [],
        "id": "rae6SY3Mq8ix"
      },
      "source": [
        "## Import the Desired Libraries:"
      ]
    },
    {
      "cell_type": "code",
      "metadata": {
        "execution": {
          "iopub.execute_input": "2020-09-26T07:21:39.003452Z",
          "iopub.status.busy": "2020-09-26T07:21:39.002483Z",
          "iopub.status.idle": "2020-09-26T07:21:39.005530Z",
          "shell.execute_reply": "2020-09-26T07:21:39.004904Z"
        },
        "papermill": {
          "duration": 0.057878,
          "end_time": "2020-09-26T07:21:39.005667",
          "exception": false,
          "start_time": "2020-09-26T07:21:38.947789",
          "status": "completed"
        },
        "tags": [],
        "id": "M5xeiLFPq8iy"
      },
      "source": [
        "# ignoring any warnings\n",
        "import warnings\n",
        "warnings.filterwarnings('always')\n",
        "warnings.filterwarnings('ignore')"
      ],
      "execution_count": null,
      "outputs": []
    },
    {
      "cell_type": "code",
      "metadata": {
        "execution": {
          "iopub.execute_input": "2020-09-26T07:21:39.110227Z",
          "iopub.status.busy": "2020-09-26T07:21:39.109361Z",
          "iopub.status.idle": "2020-09-26T07:21:40.131282Z",
          "shell.execute_reply": "2020-09-26T07:21:40.130538Z"
        },
        "papermill": {
          "duration": 1.077131,
          "end_time": "2020-09-26T07:21:40.131471",
          "exception": false,
          "start_time": "2020-09-26T07:21:39.054340",
          "status": "completed"
        },
        "tags": [],
        "id": "6AEiDvNaq8iz"
      },
      "source": [
        "import matplotlib.pyplot as plt\n",
        "import pandas as pd\n",
        "import numpy as np\n",
        "import seaborn as sns"
      ],
      "execution_count": null,
      "outputs": []
    },
    {
      "cell_type": "code",
      "metadata": {
        "execution": {
          "iopub.execute_input": "2020-09-26T07:21:40.237749Z",
          "iopub.status.busy": "2020-09-26T07:21:40.236839Z",
          "iopub.status.idle": "2020-09-26T07:21:40.310573Z",
          "shell.execute_reply": "2020-09-26T07:21:40.309764Z"
        },
        "papermill": {
          "duration": 0.12917,
          "end_time": "2020-09-26T07:21:40.310724",
          "exception": false,
          "start_time": "2020-09-26T07:21:40.181554",
          "status": "completed"
        },
        "tags": [],
        "id": "hSzMIjHtq8i0"
      },
      "source": [
        "from sklearn.preprocessing import StandardScaler\n",
        "scaler= StandardScaler()"
      ],
      "execution_count": null,
      "outputs": []
    },
    {
      "cell_type": "code",
      "metadata": {
        "execution": {
          "iopub.execute_input": "2020-09-26T07:21:40.416337Z",
          "iopub.status.busy": "2020-09-26T07:21:40.415478Z",
          "iopub.status.idle": "2020-09-26T07:21:40.775689Z",
          "shell.execute_reply": "2020-09-26T07:21:40.776409Z"
        },
        "papermill": {
          "duration": 0.41649,
          "end_time": "2020-09-26T07:21:40.776600",
          "exception": false,
          "start_time": "2020-09-26T07:21:40.360110",
          "status": "completed"
        },
        "tags": [],
        "id": "pWoVLAd8q8i1"
      },
      "source": [
        "import scipy.cluster.hierarchy as sch\n",
        "from sklearn.cluster import AgglomerativeClustering"
      ],
      "execution_count": null,
      "outputs": []
    },
    {
      "cell_type": "markdown",
      "metadata": {
        "papermill": {
          "duration": 0.048246,
          "end_time": "2020-09-26T07:21:40.874933",
          "exception": false,
          "start_time": "2020-09-26T07:21:40.826687",
          "status": "completed"
        },
        "tags": [],
        "id": "ldgff1jFq8i1"
      },
      "source": [
        "## Reading and Understanding the Data"
      ]
    },
    {
      "cell_type": "code",
      "metadata": {
        "execution": {
          "iopub.execute_input": "2020-09-26T07:21:40.983011Z",
          "iopub.status.busy": "2020-09-26T07:21:40.982172Z",
          "iopub.status.idle": "2020-09-26T07:21:40.997190Z",
          "shell.execute_reply": "2020-09-26T07:21:40.996441Z"
        },
        "papermill": {
          "duration": 0.073649,
          "end_time": "2020-09-26T07:21:40.997344",
          "exception": false,
          "start_time": "2020-09-26T07:21:40.923695",
          "status": "completed"
        },
        "tags": [],
        "id": "fIVD_zToq8i2",
        "colab": {
          "base_uri": "https://localhost:8080/",
          "height": 165
        },
        "outputId": "7426d1f9-39c2-4bb2-d861-0a09232400d0"
      },
      "source": [
        "crime = pd.read_csv(\"/content/sample_data/USArrests.csv\")"
      ],
      "execution_count": 5,
      "outputs": [
        {
          "output_type": "error",
          "ename": "NameError",
          "evalue": "ignored",
          "traceback": [
            "\u001b[0;31m---------------------------------------------------------------------------\u001b[0m",
            "\u001b[0;31mNameError\u001b[0m                                 Traceback (most recent call last)",
            "\u001b[0;32m<ipython-input-5-85e94826a08d>\u001b[0m in \u001b[0;36m<module>\u001b[0;34m\u001b[0m\n\u001b[0;32m----> 1\u001b[0;31m \u001b[0mcrime\u001b[0m \u001b[0;34m=\u001b[0m \u001b[0mpd\u001b[0m\u001b[0;34m.\u001b[0m\u001b[0mread_csv\u001b[0m\u001b[0;34m(\u001b[0m\u001b[0;34m\"/content/sample_data/USArrests.csv\"\u001b[0m\u001b[0;34m)\u001b[0m\u001b[0;34m\u001b[0m\u001b[0;34m\u001b[0m\u001b[0m\n\u001b[0m",
            "\u001b[0;31mNameError\u001b[0m: name 'pd' is not defined"
          ]
        }
      ]
    },
    {
      "cell_type": "code",
      "metadata": {
        "execution": {
          "iopub.execute_input": "2020-09-26T07:21:41.113502Z",
          "iopub.status.busy": "2020-09-26T07:21:41.112602Z",
          "iopub.status.idle": "2020-09-26T07:21:41.124869Z",
          "shell.execute_reply": "2020-09-26T07:21:41.124085Z"
        },
        "papermill": {
          "duration": 0.078395,
          "end_time": "2020-09-26T07:21:41.125030",
          "exception": false,
          "start_time": "2020-09-26T07:21:41.046635",
          "status": "completed"
        },
        "tags": [],
        "id": "P5DBmJT9q8i2",
        "colab": {
          "base_uri": "https://localhost:8080/",
          "height": 204
        },
        "outputId": "bbc8afed-8f3e-4e49-e46e-b59e0d6749ec"
      },
      "source": [
        "#peeking at the dataset\n",
        "crime.head(5)"
      ],
      "execution_count": null,
      "outputs": [
        {
          "output_type": "execute_result",
          "data": {
            "text/html": [
              "<div>\n",
              "<style scoped>\n",
              "    .dataframe tbody tr th:only-of-type {\n",
              "        vertical-align: middle;\n",
              "    }\n",
              "\n",
              "    .dataframe tbody tr th {\n",
              "        vertical-align: top;\n",
              "    }\n",
              "\n",
              "    .dataframe thead th {\n",
              "        text-align: right;\n",
              "    }\n",
              "</style>\n",
              "<table border=\"1\" class=\"dataframe\">\n",
              "  <thead>\n",
              "    <tr style=\"text-align: right;\">\n",
              "      <th></th>\n",
              "      <th>Unnamed: 0</th>\n",
              "      <th>Murder</th>\n",
              "      <th>Assault</th>\n",
              "      <th>UrbanPop</th>\n",
              "      <th>Rape</th>\n",
              "    </tr>\n",
              "  </thead>\n",
              "  <tbody>\n",
              "    <tr>\n",
              "      <th>0</th>\n",
              "      <td>Alabama</td>\n",
              "      <td>13.2</td>\n",
              "      <td>236</td>\n",
              "      <td>58</td>\n",
              "      <td>21.2</td>\n",
              "    </tr>\n",
              "    <tr>\n",
              "      <th>1</th>\n",
              "      <td>Alaska</td>\n",
              "      <td>10.0</td>\n",
              "      <td>263</td>\n",
              "      <td>48</td>\n",
              "      <td>44.5</td>\n",
              "    </tr>\n",
              "    <tr>\n",
              "      <th>2</th>\n",
              "      <td>Arizona</td>\n",
              "      <td>8.1</td>\n",
              "      <td>294</td>\n",
              "      <td>80</td>\n",
              "      <td>31.0</td>\n",
              "    </tr>\n",
              "    <tr>\n",
              "      <th>3</th>\n",
              "      <td>Arkansas</td>\n",
              "      <td>8.8</td>\n",
              "      <td>190</td>\n",
              "      <td>50</td>\n",
              "      <td>19.5</td>\n",
              "    </tr>\n",
              "    <tr>\n",
              "      <th>4</th>\n",
              "      <td>California</td>\n",
              "      <td>9.0</td>\n",
              "      <td>276</td>\n",
              "      <td>91</td>\n",
              "      <td>40.6</td>\n",
              "    </tr>\n",
              "  </tbody>\n",
              "</table>\n",
              "</div>"
            ],
            "text/plain": [
              "   Unnamed: 0  Murder  Assault  UrbanPop  Rape\n",
              "0     Alabama    13.2      236        58  21.2\n",
              "1      Alaska    10.0      263        48  44.5\n",
              "2     Arizona     8.1      294        80  31.0\n",
              "3    Arkansas     8.8      190        50  19.5\n",
              "4  California     9.0      276        91  40.6"
            ]
          },
          "metadata": {
            "tags": []
          },
          "execution_count": 6
        }
      ]
    },
    {
      "cell_type": "markdown",
      "metadata": {
        "papermill": {
          "duration": 0.050024,
          "end_time": "2020-09-26T07:21:41.225936",
          "exception": false,
          "start_time": "2020-09-26T07:21:41.175912",
          "status": "completed"
        },
        "tags": [],
        "id": "qJKpq6hrq8i5"
      },
      "source": [
        "### Our dataset consists of crime rates for Murder, Assault, UrbanPop and Rape"
      ]
    },
    {
      "cell_type": "code",
      "metadata": {
        "execution": {
          "iopub.execute_input": "2020-09-26T07:21:41.334696Z",
          "iopub.status.busy": "2020-09-26T07:21:41.333390Z",
          "iopub.status.idle": "2020-09-26T07:21:41.338644Z",
          "shell.execute_reply": "2020-09-26T07:21:41.337992Z"
        },
        "papermill": {
          "duration": 0.061772,
          "end_time": "2020-09-26T07:21:41.338796",
          "exception": false,
          "start_time": "2020-09-26T07:21:41.277024",
          "status": "completed"
        },
        "tags": [],
        "id": "MRLllahPq8i5",
        "colab": {
          "base_uri": "https://localhost:8080/"
        },
        "outputId": "3f973f4b-a439-4c46-a49e-62a35de5b5f3"
      },
      "source": [
        "# Let's see how many rows and columns we got!\n",
        "crime.shape"
      ],
      "execution_count": null,
      "outputs": [
        {
          "output_type": "execute_result",
          "data": {
            "text/plain": [
              "(50, 5)"
            ]
          },
          "metadata": {
            "tags": []
          },
          "execution_count": 8
        }
      ]
    },
    {
      "cell_type": "code",
      "metadata": {
        "execution": {
          "iopub.execute_input": "2020-09-26T07:21:41.458102Z",
          "iopub.status.busy": "2020-09-26T07:21:41.456973Z",
          "iopub.status.idle": "2020-09-26T07:21:41.461639Z",
          "shell.execute_reply": "2020-09-26T07:21:41.462226Z"
        },
        "papermill": {
          "duration": 0.073169,
          "end_time": "2020-09-26T07:21:41.462433",
          "exception": false,
          "start_time": "2020-09-26T07:21:41.389264",
          "status": "completed"
        },
        "tags": [],
        "id": "oCmfDyUwq8i6",
        "colab": {
          "base_uri": "https://localhost:8080/"
        },
        "outputId": "b10fd6ac-c958-4dde-a1a2-37f85dd56c9d"
      },
      "source": [
        "#Let's see some facts here\n",
        "crime.info()"
      ],
      "execution_count": null,
      "outputs": [
        {
          "output_type": "stream",
          "text": [
            "<class 'pandas.core.frame.DataFrame'>\n",
            "RangeIndex: 50 entries, 0 to 49\n",
            "Data columns (total 5 columns):\n",
            " #   Column      Non-Null Count  Dtype  \n",
            "---  ------      --------------  -----  \n",
            " 0   Unnamed: 0  50 non-null     object \n",
            " 1   Murder      50 non-null     float64\n",
            " 2   Assault     50 non-null     int64  \n",
            " 3   UrbanPop    50 non-null     int64  \n",
            " 4   Rape        50 non-null     float64\n",
            "dtypes: float64(2), int64(2), object(1)\n",
            "memory usage: 2.1+ KB\n"
          ],
          "name": "stdout"
        }
      ]
    },
    {
      "cell_type": "markdown",
      "metadata": {
        "papermill": {
          "duration": 0.051251,
          "end_time": "2020-09-26T07:21:41.565389",
          "exception": false,
          "start_time": "2020-09-26T07:21:41.514138",
          "status": "completed"
        },
        "tags": [],
        "id": "akz2BNUCq8i7"
      },
      "source": [
        "**We have 50 rows and 5 columns.**"
      ]
    },
    {
      "cell_type": "code",
      "metadata": {
        "execution": {
          "iopub.execute_input": "2020-09-26T07:21:41.684099Z",
          "iopub.status.busy": "2020-09-26T07:21:41.683228Z",
          "iopub.status.idle": "2020-09-26T07:21:41.708523Z",
          "shell.execute_reply": "2020-09-26T07:21:41.709198Z"
        },
        "papermill": {
          "duration": 0.092304,
          "end_time": "2020-09-26T07:21:41.709410",
          "exception": false,
          "start_time": "2020-09-26T07:21:41.617106",
          "status": "completed"
        },
        "tags": [],
        "id": "n0PPwSNcq8i7",
        "colab": {
          "base_uri": "https://localhost:8080/",
          "height": 297
        },
        "outputId": "26bed37f-2325-40df-b50c-8b6604e44f10"
      },
      "source": [
        "# Let's get some statistics summary\n",
        "crime.describe()"
      ],
      "execution_count": null,
      "outputs": [
        {
          "output_type": "execute_result",
          "data": {
            "text/html": [
              "<div>\n",
              "<style scoped>\n",
              "    .dataframe tbody tr th:only-of-type {\n",
              "        vertical-align: middle;\n",
              "    }\n",
              "\n",
              "    .dataframe tbody tr th {\n",
              "        vertical-align: top;\n",
              "    }\n",
              "\n",
              "    .dataframe thead th {\n",
              "        text-align: right;\n",
              "    }\n",
              "</style>\n",
              "<table border=\"1\" class=\"dataframe\">\n",
              "  <thead>\n",
              "    <tr style=\"text-align: right;\">\n",
              "      <th></th>\n",
              "      <th>Murder</th>\n",
              "      <th>Assault</th>\n",
              "      <th>UrbanPop</th>\n",
              "      <th>Rape</th>\n",
              "    </tr>\n",
              "  </thead>\n",
              "  <tbody>\n",
              "    <tr>\n",
              "      <th>count</th>\n",
              "      <td>50.00000</td>\n",
              "      <td>50.000000</td>\n",
              "      <td>50.000000</td>\n",
              "      <td>50.000000</td>\n",
              "    </tr>\n",
              "    <tr>\n",
              "      <th>mean</th>\n",
              "      <td>7.78800</td>\n",
              "      <td>170.760000</td>\n",
              "      <td>65.540000</td>\n",
              "      <td>21.232000</td>\n",
              "    </tr>\n",
              "    <tr>\n",
              "      <th>std</th>\n",
              "      <td>4.35551</td>\n",
              "      <td>83.337661</td>\n",
              "      <td>14.474763</td>\n",
              "      <td>9.366385</td>\n",
              "    </tr>\n",
              "    <tr>\n",
              "      <th>min</th>\n",
              "      <td>0.80000</td>\n",
              "      <td>45.000000</td>\n",
              "      <td>32.000000</td>\n",
              "      <td>7.300000</td>\n",
              "    </tr>\n",
              "    <tr>\n",
              "      <th>25%</th>\n",
              "      <td>4.07500</td>\n",
              "      <td>109.000000</td>\n",
              "      <td>54.500000</td>\n",
              "      <td>15.075000</td>\n",
              "    </tr>\n",
              "    <tr>\n",
              "      <th>50%</th>\n",
              "      <td>7.25000</td>\n",
              "      <td>159.000000</td>\n",
              "      <td>66.000000</td>\n",
              "      <td>20.100000</td>\n",
              "    </tr>\n",
              "    <tr>\n",
              "      <th>75%</th>\n",
              "      <td>11.25000</td>\n",
              "      <td>249.000000</td>\n",
              "      <td>77.750000</td>\n",
              "      <td>26.175000</td>\n",
              "    </tr>\n",
              "    <tr>\n",
              "      <th>max</th>\n",
              "      <td>17.40000</td>\n",
              "      <td>337.000000</td>\n",
              "      <td>91.000000</td>\n",
              "      <td>46.000000</td>\n",
              "    </tr>\n",
              "  </tbody>\n",
              "</table>\n",
              "</div>"
            ],
            "text/plain": [
              "         Murder     Assault   UrbanPop       Rape\n",
              "count  50.00000   50.000000  50.000000  50.000000\n",
              "mean    7.78800  170.760000  65.540000  21.232000\n",
              "std     4.35551   83.337661  14.474763   9.366385\n",
              "min     0.80000   45.000000  32.000000   7.300000\n",
              "25%     4.07500  109.000000  54.500000  15.075000\n",
              "50%     7.25000  159.000000  66.000000  20.100000\n",
              "75%    11.25000  249.000000  77.750000  26.175000\n",
              "max    17.40000  337.000000  91.000000  46.000000"
            ]
          },
          "metadata": {
            "tags": []
          },
          "execution_count": 10
        }
      ]
    },
    {
      "cell_type": "markdown",
      "metadata": {
        "papermill": {
          "duration": 0.051883,
          "end_time": "2020-09-26T07:21:41.813678",
          "exception": false,
          "start_time": "2020-09-26T07:21:41.761795",
          "status": "completed"
        },
        "tags": [],
        "id": "ZmGWHTeDq8i8"
      },
      "source": [
        "### Let's check for missing values."
      ]
    },
    {
      "cell_type": "code",
      "metadata": {
        "execution": {
          "iopub.execute_input": "2020-09-26T07:21:41.929917Z",
          "iopub.status.busy": "2020-09-26T07:21:41.928763Z",
          "iopub.status.idle": "2020-09-26T07:21:41.933959Z",
          "shell.execute_reply": "2020-09-26T07:21:41.933163Z"
        },
        "papermill": {
          "duration": 0.067722,
          "end_time": "2020-09-26T07:21:41.934149",
          "exception": false,
          "start_time": "2020-09-26T07:21:41.866427",
          "status": "completed"
        },
        "tags": [],
        "id": "iznpG2oSq8i9",
        "colab": {
          "base_uri": "https://localhost:8080/"
        },
        "outputId": "77bce740-0efb-4c52-b2aa-92f0bbc2c0d6"
      },
      "source": [
        "crime.isnull().sum()"
      ],
      "execution_count": null,
      "outputs": [
        {
          "output_type": "execute_result",
          "data": {
            "text/plain": [
              "Unnamed: 0    0\n",
              "Murder        0\n",
              "Assault       0\n",
              "UrbanPop      0\n",
              "Rape          0\n",
              "dtype: int64"
            ]
          },
          "metadata": {
            "tags": []
          },
          "execution_count": 11
        }
      ]
    },
    {
      "cell_type": "markdown",
      "metadata": {
        "papermill": {
          "duration": 0.072799,
          "end_time": "2020-09-26T07:21:42.068581",
          "exception": false,
          "start_time": "2020-09-26T07:21:41.995782",
          "status": "completed"
        },
        "tags": [],
        "id": "5z5dBO-Vq8i9"
      },
      "source": [
        "**We have no missing values!**"
      ]
    },
    {
      "cell_type": "code",
      "metadata": {
        "execution": {
          "iopub.execute_input": "2020-09-26T07:21:42.207535Z",
          "iopub.status.busy": "2020-09-26T07:21:42.206564Z",
          "iopub.status.idle": "2020-09-26T07:21:42.210498Z",
          "shell.execute_reply": "2020-09-26T07:21:42.209624Z"
        },
        "papermill": {
          "duration": 0.072944,
          "end_time": "2020-09-26T07:21:42.210650",
          "exception": false,
          "start_time": "2020-09-26T07:21:42.137706",
          "status": "completed"
        },
        "tags": [],
        "id": "hR_FAnHwq8i-"
      },
      "source": [
        "# Renaming the column as Unnmaed doesn't make sense.\n",
        "crime = crime.rename(columns={'Unnamed: 0':'State'})"
      ],
      "execution_count": null,
      "outputs": []
    },
    {
      "cell_type": "code",
      "metadata": {
        "execution": {
          "iopub.execute_input": "2020-09-26T07:21:42.333770Z",
          "iopub.status.busy": "2020-09-26T07:21:42.332559Z",
          "iopub.status.idle": "2020-09-26T07:21:42.337736Z",
          "shell.execute_reply": "2020-09-26T07:21:42.337057Z"
        },
        "papermill": {
          "duration": 0.073409,
          "end_time": "2020-09-26T07:21:42.337877",
          "exception": false,
          "start_time": "2020-09-26T07:21:42.264468",
          "status": "completed"
        },
        "tags": [],
        "id": "MtA05uEQq8i-",
        "colab": {
          "base_uri": "https://localhost:8080/",
          "height": 204
        },
        "outputId": "0b4dc7ed-ffe2-43ea-f524-6608bd0254e3"
      },
      "source": [
        "crime.head()"
      ],
      "execution_count": null,
      "outputs": [
        {
          "output_type": "execute_result",
          "data": {
            "text/html": [
              "<div>\n",
              "<style scoped>\n",
              "    .dataframe tbody tr th:only-of-type {\n",
              "        vertical-align: middle;\n",
              "    }\n",
              "\n",
              "    .dataframe tbody tr th {\n",
              "        vertical-align: top;\n",
              "    }\n",
              "\n",
              "    .dataframe thead th {\n",
              "        text-align: right;\n",
              "    }\n",
              "</style>\n",
              "<table border=\"1\" class=\"dataframe\">\n",
              "  <thead>\n",
              "    <tr style=\"text-align: right;\">\n",
              "      <th></th>\n",
              "      <th>State</th>\n",
              "      <th>Murder</th>\n",
              "      <th>Assault</th>\n",
              "      <th>UrbanPop</th>\n",
              "      <th>Rape</th>\n",
              "    </tr>\n",
              "  </thead>\n",
              "  <tbody>\n",
              "    <tr>\n",
              "      <th>0</th>\n",
              "      <td>Alabama</td>\n",
              "      <td>13.2</td>\n",
              "      <td>236</td>\n",
              "      <td>58</td>\n",
              "      <td>21.2</td>\n",
              "    </tr>\n",
              "    <tr>\n",
              "      <th>1</th>\n",
              "      <td>Alaska</td>\n",
              "      <td>10.0</td>\n",
              "      <td>263</td>\n",
              "      <td>48</td>\n",
              "      <td>44.5</td>\n",
              "    </tr>\n",
              "    <tr>\n",
              "      <th>2</th>\n",
              "      <td>Arizona</td>\n",
              "      <td>8.1</td>\n",
              "      <td>294</td>\n",
              "      <td>80</td>\n",
              "      <td>31.0</td>\n",
              "    </tr>\n",
              "    <tr>\n",
              "      <th>3</th>\n",
              "      <td>Arkansas</td>\n",
              "      <td>8.8</td>\n",
              "      <td>190</td>\n",
              "      <td>50</td>\n",
              "      <td>19.5</td>\n",
              "    </tr>\n",
              "    <tr>\n",
              "      <th>4</th>\n",
              "      <td>California</td>\n",
              "      <td>9.0</td>\n",
              "      <td>276</td>\n",
              "      <td>91</td>\n",
              "      <td>40.6</td>\n",
              "    </tr>\n",
              "  </tbody>\n",
              "</table>\n",
              "</div>"
            ],
            "text/plain": [
              "        State  Murder  Assault  UrbanPop  Rape\n",
              "0     Alabama    13.2      236        58  21.2\n",
              "1      Alaska    10.0      263        48  44.5\n",
              "2     Arizona     8.1      294        80  31.0\n",
              "3    Arkansas     8.8      190        50  19.5\n",
              "4  California     9.0      276        91  40.6"
            ]
          },
          "metadata": {
            "tags": []
          },
          "execution_count": 13
        }
      ]
    },
    {
      "cell_type": "markdown",
      "metadata": {
        "id": "p2eYKKYUfxbK"
      },
      "source": [
        "# Exploratory Data Analysis"
      ]
    },
    {
      "cell_type": "markdown",
      "metadata": {
        "papermill": {
          "duration": 0.053297,
          "end_time": "2020-09-26T07:21:42.444817",
          "exception": false,
          "start_time": "2020-09-26T07:21:42.391520",
          "status": "completed"
        },
        "tags": [],
        "id": "nQMlUlnbq8i_"
      },
      "source": [
        "## 1) Murder Rate"
      ]
    },
    {
      "cell_type": "code",
      "metadata": {
        "execution": {
          "iopub.execute_input": "2020-09-26T07:21:42.561386Z",
          "iopub.status.busy": "2020-09-26T07:21:42.560438Z",
          "iopub.status.idle": "2020-09-26T07:21:43.845046Z",
          "shell.execute_reply": "2020-09-26T07:21:43.845654Z"
        },
        "papermill": {
          "duration": 1.345923,
          "end_time": "2020-09-26T07:21:43.845836",
          "exception": false,
          "start_time": "2020-09-26T07:21:42.499913",
          "status": "completed"
        },
        "tags": [],
        "id": "8F8uxCIEq8i_",
        "colab": {
          "base_uri": "https://localhost:8080/",
          "height": 420
        },
        "outputId": "57b55b95-6f79-4a60-d372-60f107107ee2"
      },
      "source": [
        "plt.figure(figsize=(20,5))\n",
        "crime.groupby('State')['Murder'].max().plot(kind='bar')"
      ],
      "execution_count": null,
      "outputs": [
        {
          "output_type": "execute_result",
          "data": {
            "text/plain": [
              "<matplotlib.axes._subplots.AxesSubplot at 0x7f64d9662a90>"
            ]
          },
          "metadata": {
            "tags": []
          },
          "execution_count": 14
        },
        {
          "output_type": "display_data",
          "data": {
            "image/png": "[encoded data removed]",
            "text/plain": [
              "<Figure size 1440x360 with 1 Axes>"
            ]
          },
          "metadata": {
            "tags": [],
            "needs_background": "light"
          }
        }
      ]
    },
    {
      "cell_type": "markdown",
      "metadata": {
        "papermill": {
          "duration": 0.055769,
          "end_time": "2020-09-26T07:21:43.957517",
          "exception": false,
          "start_time": "2020-09-26T07:21:43.901748",
          "status": "completed"
        },
        "tags": [],
        "id": "zb5yxGa4q8jA"
      },
      "source": [
        "### **Observations**:\n",
        "\n",
        "* Highest Murder Rate : Georgia and Missisippi\n",
        "* Lowest Murder Rate : Idaho , Iowa, Maine, New Hampshire, North Dakota, Vermont and Wisconsin."
      ]
    },
    {
      "cell_type": "markdown",
      "metadata": {
        "papermill": {
          "duration": 0.055252,
          "end_time": "2020-09-26T07:21:44.067986",
          "exception": false,
          "start_time": "2020-09-26T07:21:44.012734",
          "status": "completed"
        },
        "tags": [],
        "id": "MUTbnjbOq8jB"
      },
      "source": [
        "## 2) Assault Rate"
      ]
    },
    {
      "cell_type": "code",
      "metadata": {
        "execution": {
          "iopub.execute_input": "2020-09-26T07:21:44.185150Z",
          "iopub.status.busy": "2020-09-26T07:21:44.184069Z",
          "iopub.status.idle": "2020-09-26T07:21:45.445161Z",
          "shell.execute_reply": "2020-09-26T07:21:45.444490Z"
        },
        "papermill": {
          "duration": 1.322265,
          "end_time": "2020-09-26T07:21:45.445288",
          "exception": false,
          "start_time": "2020-09-26T07:21:44.123023",
          "status": "completed"
        },
        "tags": [],
        "id": "FJDy3Lsvq8jB",
        "outputId": "d62f0511-12d4-4af1-b4f2-65de1e8054fb"
      },
      "source": [
        "plt.figure(figsize=(20,5))\n",
        "crime.groupby('State')['Assault'].max().plot(kind='bar')"
      ],
      "execution_count": null,
      "outputs": [
        {
          "output_type": "execute_result",
          "data": {
            "text/plain": [
              "<matplotlib.axes._subplots.AxesSubplot at 0x7f88952941d0>"
            ]
          },
          "metadata": {
            "tags": []
          },
          "execution_count": 14
        },
        {
          "output_type": "display_data",
          "data": {
            "image/png": "[encoded data removed]",
            "text/plain": [
              "<Figure size 1440x360 with 1 Axes>"
            ]
          },
          "metadata": {
            "tags": [],
            "needs_background": "light"
          }
        }
      ]
    },
    {
      "cell_type": "markdown",
      "metadata": {
        "papermill": {
          "duration": 0.080064,
          "end_time": "2020-09-26T07:21:45.606175",
          "exception": false,
          "start_time": "2020-09-26T07:21:45.526111",
          "status": "completed"
        },
        "tags": [],
        "id": "fxDMWXa0q8jC"
      },
      "source": [
        "### **Observations**:\n",
        "\n",
        "* Highest Assualt Rate : Florida and North California.\n",
        "* Lowest Assualt Rate : Hawaii, North Dakota, Vermont , New Hampshire and Wisconsin."
      ]
    },
    {
      "cell_type": "markdown",
      "metadata": {
        "papermill": {
          "duration": 0.059832,
          "end_time": "2020-09-26T07:21:45.731862",
          "exception": false,
          "start_time": "2020-09-26T07:21:45.672030",
          "status": "completed"
        },
        "tags": [],
        "id": "XQdkqPznq8jC"
      },
      "source": [
        "## 3) Rape Rate"
      ]
    },
    {
      "cell_type": "code",
      "metadata": {
        "execution": {
          "iopub.execute_input": "2020-09-26T07:21:45.860855Z",
          "iopub.status.busy": "2020-09-26T07:21:45.859324Z",
          "iopub.status.idle": "2020-09-26T07:21:47.070269Z",
          "shell.execute_reply": "2020-09-26T07:21:47.069595Z"
        },
        "papermill": {
          "duration": 1.278271,
          "end_time": "2020-09-26T07:21:47.070424",
          "exception": false,
          "start_time": "2020-09-26T07:21:45.792153",
          "status": "completed"
        },
        "tags": [],
        "id": "qvCfBdLrq8jD",
        "outputId": "20d60480-ae58-46d8-9e39-fdcf0a0af6f3"
      },
      "source": [
        "plt.figure(figsize=(20,5))\n",
        "crime.groupby('State')['Rape'].max().plot(kind='bar')"
      ],
      "execution_count": null,
      "outputs": [
        {
          "output_type": "execute_result",
          "data": {
            "text/plain": [
              "<matplotlib.axes._subplots.AxesSubplot at 0x7f8895375b90>"
            ]
          },
          "metadata": {
            "tags": []
          },
          "execution_count": 15
        },
        {
          "output_type": "display_data",
          "data": {
            "image/png": "[encoded data removed]",
            "text/plain": [
              "<Figure size 1440x360 with 1 Axes>"
            ]
          },
          "metadata": {
            "tags": [],
            "needs_background": "light"
          }
        }
      ]
    },
    {
      "cell_type": "markdown",
      "metadata": {
        "papermill": {
          "duration": 0.060271,
          "end_time": "2020-09-26T07:21:47.190957",
          "exception": false,
          "start_time": "2020-09-26T07:21:47.130686",
          "status": "completed"
        },
        "tags": [],
        "id": "fB9dGmk0q8jD"
      },
      "source": [
        "### Observations:\n",
        "\n",
        "* Highest UrbanPop Rate : Nevada and Alaska.\n",
        "* Lowest UrbanPop Rate  : Maine, North Dakota,Vermont,Connecticut,New Hampshire, Wisconsin,Rhode Island and West Virginia"
      ]
    },
    {
      "cell_type": "markdown",
      "metadata": {
        "papermill": {
          "duration": 0.060931,
          "end_time": "2020-09-26T07:21:47.311842",
          "exception": false,
          "start_time": "2020-09-26T07:21:47.250911",
          "status": "completed"
        },
        "tags": [],
        "id": "bEM3zHIyq8jE"
      },
      "source": [
        "## 4) UrbanPop : Percent Urban Population"
      ]
    },
    {
      "cell_type": "code",
      "metadata": {
        "execution": {
          "iopub.execute_input": "2020-09-26T07:21:47.448088Z",
          "iopub.status.busy": "2020-09-26T07:21:47.438416Z",
          "iopub.status.idle": "2020-09-26T07:21:48.674170Z",
          "shell.execute_reply": "2020-09-26T07:21:48.673281Z"
        },
        "papermill": {
          "duration": 1.302376,
          "end_time": "2020-09-26T07:21:48.674333",
          "exception": false,
          "start_time": "2020-09-26T07:21:47.371957",
          "status": "completed"
        },
        "tags": [],
        "id": "zBT7QINLq8jE",
        "colab": {
          "base_uri": "https://localhost:8080/",
          "height": 420
        },
        "outputId": "f1f5c75c-d255-40de-c9ab-c4a0e039d8e7"
      },
      "source": [
        "plt.figure(figsize=(20,5))\n",
        "crime.groupby('State')['UrbanPop'].max().plot(kind='bar')"
      ],
      "execution_count": null,
      "outputs": [
        {
          "output_type": "execute_result",
          "data": {
            "text/plain": [
              "<matplotlib.axes._subplots.AxesSubplot at 0x7f64d8e83c90>"
            ]
          },
          "metadata": {
            "tags": []
          },
          "execution_count": 15
        },
        {
          "output_type": "display_data",
          "data": {
            "image/png": "[encoded data removed]",
            "text/plain": [
              "<Figure size 1440x360 with 1 Axes>"
            ]
          },
          "metadata": {
            "tags": [],
            "needs_background": "light"
          }
        }
      ]
    },
    {
      "cell_type": "code",
      "metadata": {
        "execution": {
          "iopub.execute_input": "2020-09-26T07:21:50.365459Z",
          "iopub.status.busy": "2020-09-26T07:21:50.364422Z",
          "iopub.status.idle": "2020-09-26T07:21:50.368314Z",
          "shell.execute_reply": "2020-09-26T07:21:50.367635Z"
        },
        "papermill": {
          "duration": 0.083189,
          "end_time": "2020-09-26T07:21:50.368456",
          "exception": false,
          "start_time": "2020-09-26T07:21:50.285267",
          "status": "completed"
        },
        "tags": [],
        "id": "KGKtJV99q8jQ"
      },
      "source": [
        "data = crime.iloc[:,1:].values"
      ],
      "execution_count": null,
      "outputs": []
    },
    {
      "cell_type": "code",
      "metadata": {
        "execution": {
          "iopub.execute_input": "2020-09-26T07:21:50.513713Z",
          "iopub.status.busy": "2020-09-26T07:21:50.512699Z",
          "iopub.status.idle": "2020-09-26T07:21:50.520176Z",
          "shell.execute_reply": "2020-09-26T07:21:50.519285Z"
        },
        "papermill": {
          "duration": 0.082074,
          "end_time": "2020-09-26T07:21:50.520328",
          "exception": false,
          "start_time": "2020-09-26T07:21:50.438254",
          "status": "completed"
        },
        "tags": [],
        "id": "GG4FYERiq8jQ"
      },
      "source": [
        "scaled_data = scaler.fit_transform(data)"
      ],
      "execution_count": null,
      "outputs": []
    },
    {
      "cell_type": "markdown",
      "metadata": {
        "papermill": {
          "duration": 0.069969,
          "end_time": "2020-09-26T07:21:50.660922",
          "exception": false,
          "start_time": "2020-09-26T07:21:50.590953",
          "status": "completed"
        },
        "tags": [],
        "id": "hcLb1joNq8jR"
      },
      "source": [
        "# Types of Linkages:"
      ]
    },
    {
      "cell_type": "markdown",
      "metadata": {
        "papermill": {
          "duration": 0.066578,
          "end_time": "2020-09-26T07:21:50.796292",
          "exception": false,
          "start_time": "2020-09-26T07:21:50.729714",
          "status": "completed"
        },
        "tags": [],
        "id": "oYeXB_Omq8jR"
      },
      "source": [
        "## 1) Single Leakage:\n",
        "\n",
        "The distance between 2 clusters is defined as the shortest distance between points in the two clusters"
      ]
    },
    {
      "cell_type": "code",
      "metadata": {
        "execution": {
          "iopub.execute_input": "2020-09-26T07:21:50.945383Z",
          "iopub.status.busy": "2020-09-26T07:21:50.944569Z",
          "iopub.status.idle": "2020-09-26T07:21:51.898348Z",
          "shell.execute_reply": "2020-09-26T07:21:51.898949Z"
        },
        "papermill": {
          "duration": 1.034872,
          "end_time": "2020-09-26T07:21:51.899106",
          "exception": false,
          "start_time": "2020-09-26T07:21:50.864234",
          "status": "completed"
        },
        "tags": [],
        "id": "m0b7BTXdq8jS",
        "colab": {
          "base_uri": "https://localhost:8080/",
          "height": 367
        },
        "outputId": "93a37162-e405-478f-99e4-6db0c07a881a"
      },
      "source": [
        "plt.figure(figsize=(20,5))\n",
        "plt.title(\"Crime Rate Dendograms\")\n",
        "dend = sch.dendrogram(sch.linkage(scaled_data, method='single'))\n",
        "plt.xlabel('Crime Rate')\n",
        "plt.ylabel('Euclidean distances')"
      ],
      "execution_count": null,
      "outputs": [
        {
          "output_type": "execute_result",
          "data": {
            "text/plain": [
              "Text(0, 0.5, 'Euclidean distances')"
            ]
          },
          "metadata": {
            "tags": []
          },
          "execution_count": 18
        },
        {
          "output_type": "display_data",
          "data": {
            "image/png": "[encoded data removed]",
            "text/plain": [
              "<Figure size 1440x360 with 1 Axes>"
            ]
          },
          "metadata": {
            "tags": [],
            "needs_background": "light"
          }
        }
      ]
    },
    {
      "cell_type": "markdown",
      "metadata": {
        "papermill": {
          "duration": 0.071195,
          "end_time": "2020-09-26T07:21:52.039641",
          "exception": false,
          "start_time": "2020-09-26T07:21:51.968446",
          "status": "completed"
        },
        "tags": [],
        "id": "UkyQnJutq8jS"
      },
      "source": [
        "The hierarchy class has a dendrogram method which takes the value returned by the linkage method of the same class. The linkage method takes the dataset and the method to minimize distances as parameters."
      ]
    },
    {
      "cell_type": "markdown",
      "metadata": {
        "papermill": {
          "duration": 0.071041,
          "end_time": "2020-09-26T07:21:52.180848",
          "exception": false,
          "start_time": "2020-09-26T07:21:52.109807",
          "status": "completed"
        },
        "tags": [],
        "id": "C58hXDY8q8jT"
      },
      "source": [
        "## 2) Complete Linkage:\n",
        "\n",
        "The distance between 2 clusters is defined as the maximum distance between any 2 points in the clusters"
      ]
    },
    {
      "cell_type": "code",
      "metadata": {
        "execution": {
          "iopub.execute_input": "2020-09-26T07:21:52.340484Z",
          "iopub.status.busy": "2020-09-26T07:21:52.339381Z",
          "iopub.status.idle": "2020-09-26T07:21:53.344592Z",
          "shell.execute_reply": "2020-09-26T07:21:53.343983Z"
        },
        "papermill": {
          "duration": 1.092472,
          "end_time": "2020-09-26T07:21:53.344721",
          "exception": false,
          "start_time": "2020-09-26T07:21:52.252249",
          "status": "completed"
        },
        "tags": [],
        "id": "5omqciOSq8jT",
        "colab": {
          "base_uri": "https://localhost:8080/",
          "height": 367
        },
        "outputId": "06d505ab-02af-4c18-e0d5-7db649a26452"
      },
      "source": [
        "plt.figure(figsize=(20,5))\n",
        "plt.title(\"Crime Rate Dendograms\")\n",
        "dend = sch.dendrogram(sch.linkage(scaled_data, method='complete'))\n",
        "plt.xlabel('Crime Rate')\n",
        "plt.ylabel('Euclidean distances')"
      ],
      "execution_count": null,
      "outputs": [
        {
          "output_type": "execute_result",
          "data": {
            "text/plain": [
              "Text(0, 0.5, 'Euclidean distances')"
            ]
          },
          "metadata": {
            "tags": []
          },
          "execution_count": 19
        },
        {
          "output_type": "display_data",
          "data": {
            "image/png": "[encoded data removed]",
            "text/plain": [
              "<Figure size 1440x360 with 1 Axes>"
            ]
          },
          "metadata": {
            "tags": [],
            "needs_background": "light"
          }
        }
      ]
    },
    {
      "cell_type": "markdown",
      "metadata": {
        "papermill": {
          "duration": 0.078831,
          "end_time": "2020-09-26T07:21:53.495427",
          "exception": false,
          "start_time": "2020-09-26T07:21:53.416596",
          "status": "completed"
        },
        "tags": [],
        "id": "EIvT6OSnq8jW"
      },
      "source": [
        "## 3) Average Linkage: \n",
        "    \n",
        "The distance between 2 clusters is defined as the average distance between every point of one cluster to every other point of the other cluster."
      ]
    },
    {
      "cell_type": "code",
      "metadata": {
        "execution": {
          "iopub.execute_input": "2020-09-26T07:21:53.651456Z",
          "iopub.status.busy": "2020-09-26T07:21:53.650525Z",
          "iopub.status.idle": "2020-09-26T07:21:54.717867Z",
          "shell.execute_reply": "2020-09-26T07:21:54.717084Z"
        },
        "papermill": {
          "duration": 1.151056,
          "end_time": "2020-09-26T07:21:54.718004",
          "exception": false,
          "start_time": "2020-09-26T07:21:53.566948",
          "status": "completed"
        },
        "tags": [],
        "id": "fsoYO4eHq8jW",
        "colab": {
          "base_uri": "https://localhost:8080/",
          "height": 367
        },
        "outputId": "3ef4ad09-c074-4064-cf54-b0e9f299c99d"
      },
      "source": [
        "plt.figure(figsize=(20,5))\n",
        "plt.title(\"Crime Rate Dendograms\")\n",
        "dend = sch.dendrogram(sch.linkage(scaled_data, method='average'))\n",
        "plt.xlabel('Crime Rate')\n",
        "plt.ylabel('Euclidean distances')"
      ],
      "execution_count": null,
      "outputs": [
        {
          "output_type": "execute_result",
          "data": {
            "text/plain": [
              "Text(0, 0.5, 'Euclidean distances')"
            ]
          },
          "metadata": {
            "tags": []
          },
          "execution_count": 20
        },
        {
          "output_type": "display_data",
          "data": {
            "image/png": "[encoded data removed]",
            "text/plain": [
              "<Figure size 1440x360 with 1 Axes>"
            ]
          },
          "metadata": {
            "tags": [],
            "needs_background": "light"
          }
        }
      ]
    },
    {
      "cell_type": "markdown",
      "metadata": {
        "papermill": {
          "duration": 0.0726,
          "end_time": "2020-09-26T07:21:54.863903",
          "exception": false,
          "start_time": "2020-09-26T07:21:54.791303",
          "status": "completed"
        },
        "tags": [],
        "id": "aBzLUzLSq8jX"
      },
      "source": [
        "The single linkage type will produce dendrograms which are not structured properly, whereas complete or average linkage will produce clusters which have a proper tree-like structure."
      ]
    },
    {
      "cell_type": "code",
      "metadata": {
        "execution": {
          "iopub.execute_input": "2020-09-26T07:21:55.077994Z",
          "iopub.status.busy": "2020-09-26T07:21:55.075597Z",
          "iopub.status.idle": "2020-09-26T07:21:56.011542Z",
          "shell.execute_reply": "2020-09-26T07:21:56.010712Z"
        },
        "papermill": {
          "duration": 1.030731,
          "end_time": "2020-09-26T07:21:56.011684",
          "exception": false,
          "start_time": "2020-09-26T07:21:54.980953",
          "status": "completed"
        },
        "tags": [],
        "id": "L_emqzBDq8jX",
        "colab": {
          "base_uri": "https://localhost:8080/",
          "height": 513
        },
        "outputId": "cf57b6fc-4fe0-44c5-a9a3-8d05c8a75177"
      },
      "source": [
        "# With Ward method\n",
        "plt.figure(figsize=(20,8))\n",
        "dendrogram = sch.dendrogram(sch.linkage(data, method  = \"ward\"))\n",
        "plt.title('Dendrogram')\n",
        "plt.xlabel('Crime Rate')\n",
        "plt.ylabel('Euclidean distances')\n",
        "plt.show()"
      ],
      "execution_count": null,
      "outputs": [
        {
          "output_type": "display_data",
          "data": {
            "image/png": "[encoded data removed]",
            "text/plain": [
              "<Figure size 1440x576 with 1 Axes>"
            ]
          },
          "metadata": {
            "tags": [],
            "needs_background": "light"
          }
        }
      ]
    },
    {
      "cell_type": "markdown",
      "metadata": {
        "papermill": {
          "duration": 0.0728,
          "end_time": "2020-09-26T07:21:56.158106",
          "exception": false,
          "start_time": "2020-09-26T07:21:56.085306",
          "status": "completed"
        },
        "tags": [],
        "id": "CYVopaJ7q8jY"
      },
      "source": [
        "## How do we determine the optimal number of clusters from this diagram? \n",
        "\n",
        "We look for the largest distance that we can vertically without crossing any horizontal line and this one is the red framed line on the above diagram. Let’s count the number of lines on the diagram and determine the optimal number of clusters. Cluster number will be 3 for this dataset."
      ]
    },
    {
      "cell_type": "code",
      "metadata": {
        "execution": {
          "iopub.execute_input": "2020-09-26T07:21:56.311680Z",
          "iopub.status.busy": "2020-09-26T07:21:56.310537Z",
          "iopub.status.idle": "2020-09-26T07:21:56.313993Z",
          "shell.execute_reply": "2020-09-26T07:21:56.313296Z"
        },
        "papermill": {
          "duration": 0.082502,
          "end_time": "2020-09-26T07:21:56.314112",
          "exception": false,
          "start_time": "2020-09-26T07:21:56.231610",
          "status": "completed"
        },
        "tags": [],
        "id": "dlHYmfFBq8jZ"
      },
      "source": [
        "# Fit the Agglomerative Clustering\n",
        " \n",
        "AC = AgglomerativeClustering(n_clusters = 3, affinity = 'euclidean', linkage ='ward')"
      ],
      "execution_count": null,
      "outputs": []
    },
    {
      "cell_type": "markdown",
      "metadata": {
        "papermill": {
          "duration": 0.073308,
          "end_time": "2020-09-26T07:21:56.460942",
          "exception": false,
          "start_time": "2020-09-26T07:21:56.387634",
          "status": "completed"
        },
        "tags": [],
        "id": "aySKP6nmq8ja"
      },
      "source": [
        "### **Ward** method \n",
        "It is actually a method that tries to minimize the variance within each cluster. In K-means when we were trying to minimize the wcss to plot our elbow method chart, here it’s almost the same the only difference is that instead of minimizing wcss we are minimizing the within-cluster variants. That is the variance within each cluster."
      ]
    },
    {
      "cell_type": "code",
      "metadata": {
        "execution": {
          "iopub.execute_input": "2020-09-26T07:21:56.614903Z",
          "iopub.status.busy": "2020-09-26T07:21:56.614034Z",
          "iopub.status.idle": "2020-09-26T07:21:56.619861Z",
          "shell.execute_reply": "2020-09-26T07:21:56.619067Z"
        },
        "papermill": {
          "duration": 0.085473,
          "end_time": "2020-09-26T07:21:56.619988",
          "exception": false,
          "start_time": "2020-09-26T07:21:56.534515",
          "status": "completed"
        },
        "tags": [],
        "id": "RaCUe6nBq8ja",
        "colab": {
          "base_uri": "https://localhost:8080/"
        },
        "outputId": "2dd3023c-02fe-47ea-a8a5-2c2782dc87eb"
      },
      "source": [
        "# Fit and predict to have the cluster labels.\n",
        "y_pred =AC.fit_predict(data)\n",
        "y_pred"
      ],
      "execution_count": null,
      "outputs": [
        {
          "output_type": "execute_result",
          "data": {
            "text/plain": [
              "array([1, 1, 1, 2, 1, 2, 0, 1, 1, 2, 0, 0, 1, 0, 0, 0, 0, 1, 0, 1, 2, 1,\n",
              "       0, 1, 2, 0, 0, 1, 0, 2, 1, 1, 1, 0, 0, 2, 2, 0, 2, 1, 0, 2, 2, 0,\n",
              "       0, 2, 2, 0, 0, 2])"
            ]
          },
          "metadata": {
            "tags": []
          },
          "execution_count": 23
        }
      ]
    },
    {
      "cell_type": "code",
      "metadata": {
        "execution": {
          "iopub.execute_input": "2020-09-26T07:21:56.778988Z",
          "iopub.status.busy": "2020-09-26T07:21:56.777882Z",
          "iopub.status.idle": "2020-09-26T07:21:56.781649Z",
          "shell.execute_reply": "2020-09-26T07:21:56.780892Z"
        },
        "papermill": {
          "duration": 0.085805,
          "end_time": "2020-09-26T07:21:56.781799",
          "exception": false,
          "start_time": "2020-09-26T07:21:56.695994",
          "status": "completed"
        },
        "tags": [],
        "id": "ooKR8Ledq8jb"
      },
      "source": [
        "# Fetch the cluster labels\n",
        "crime['cluster labels']= y_pred"
      ],
      "execution_count": null,
      "outputs": []
    },
    {
      "cell_type": "code",
      "metadata": {
        "execution": {
          "iopub.execute_input": "2020-09-26T07:21:56.955591Z",
          "iopub.status.busy": "2020-09-26T07:21:56.954387Z",
          "iopub.status.idle": "2020-09-26T07:21:56.959731Z",
          "shell.execute_reply": "2020-09-26T07:21:56.959064Z"
        },
        "papermill": {
          "duration": 0.101451,
          "end_time": "2020-09-26T07:21:56.959882",
          "exception": false,
          "start_time": "2020-09-26T07:21:56.858431",
          "status": "completed"
        },
        "tags": [],
        "id": "3V39d_7hq8jc",
        "colab": {
          "base_uri": "https://localhost:8080/",
          "height": 1000
        },
        "outputId": "6a528cf3-2cf5-4bec-854b-fd76ae9c6379"
      },
      "source": [
        "# Let's see which State falls in which cluster\n",
        "crime[['State','cluster labels']]"
      ],
      "execution_count": null,
      "outputs": [
        {
          "output_type": "execute_result",
          "data": {
            "text/html": [
              "<div>\n",
              "<style scoped>\n",
              "    .dataframe tbody tr th:only-of-type {\n",
              "        vertical-align: middle;\n",
              "    }\n",
              "\n",
              "    .dataframe tbody tr th {\n",
              "        vertical-align: top;\n",
              "    }\n",
              "\n",
              "    .dataframe thead th {\n",
              "        text-align: right;\n",
              "    }\n",
              "</style>\n",
              "<table border=\"1\" class=\"dataframe\">\n",
              "  <thead>\n",
              "    <tr style=\"text-align: right;\">\n",
              "      <th></th>\n",
              "      <th>State</th>\n",
              "      <th>cluster labels</th>\n",
              "    </tr>\n",
              "  </thead>\n",
              "  <tbody>\n",
              "    <tr>\n",
              "      <th>0</th>\n",
              "      <td>Alabama</td>\n",
              "      <td>1</td>\n",
              "    </tr>\n",
              "    <tr>\n",
              "      <th>1</th>\n",
              "      <td>Alaska</td>\n",
              "      <td>1</td>\n",
              "    </tr>\n",
              "    <tr>\n",
              "      <th>2</th>\n",
              "      <td>Arizona</td>\n",
              "      <td>1</td>\n",
              "    </tr>\n",
              "    <tr>\n",
              "      <th>3</th>\n",
              "      <td>Arkansas</td>\n",
              "      <td>2</td>\n",
              "    </tr>\n",
              "    <tr>\n",
              "      <th>4</th>\n",
              "      <td>California</td>\n",
              "      <td>1</td>\n",
              "    </tr>\n",
              "    <tr>\n",
              "      <th>5</th>\n",
              "      <td>Colorado</td>\n",
              "      <td>2</td>\n",
              "    </tr>\n",
              "    <tr>\n",
              "      <th>6</th>\n",
              "      <td>Connecticut</td>\n",
              "      <td>0</td>\n",
              "    </tr>\n",
              "    <tr>\n",
              "      <th>7</th>\n",
              "      <td>Delaware</td>\n",
              "      <td>1</td>\n",
              "    </tr>\n",
              "    <tr>\n",
              "      <th>8</th>\n",
              "      <td>Florida</td>\n",
              "      <td>1</td>\n",
              "    </tr>\n",
              "    <tr>\n",
              "      <th>9</th>\n",
              "      <td>Georgia</td>\n",
              "      <td>2</td>\n",
              "    </tr>\n",
              "    <tr>\n",
              "      <th>10</th>\n",
              "      <td>Hawaii</td>\n",
              "      <td>0</td>\n",
              "    </tr>\n",
              "    <tr>\n",
              "      <th>11</th>\n",
              "      <td>Idaho</td>\n",
              "      <td>0</td>\n",
              "    </tr>\n",
              "    <tr>\n",
              "      <th>12</th>\n",
              "      <td>Illinois</td>\n",
              "      <td>1</td>\n",
              "    </tr>\n",
              "    <tr>\n",
              "      <th>13</th>\n",
              "      <td>Indiana</td>\n",
              "      <td>0</td>\n",
              "    </tr>\n",
              "    <tr>\n",
              "      <th>14</th>\n",
              "      <td>Iowa</td>\n",
              "      <td>0</td>\n",
              "    </tr>\n",
              "    <tr>\n",
              "      <th>15</th>\n",
              "      <td>Kansas</td>\n",
              "      <td>0</td>\n",
              "    </tr>\n",
              "    <tr>\n",
              "      <th>16</th>\n",
              "      <td>Kentucky</td>\n",
              "      <td>0</td>\n",
              "    </tr>\n",
              "    <tr>\n",
              "      <th>17</th>\n",
              "      <td>Louisiana</td>\n",
              "      <td>1</td>\n",
              "    </tr>\n",
              "    <tr>\n",
              "      <th>18</th>\n",
              "      <td>Maine</td>\n",
              "      <td>0</td>\n",
              "    </tr>\n",
              "    <tr>\n",
              "      <th>19</th>\n",
              "      <td>Maryland</td>\n",
              "      <td>1</td>\n",
              "    </tr>\n",
              "    <tr>\n",
              "      <th>20</th>\n",
              "      <td>Massachusetts</td>\n",
              "      <td>2</td>\n",
              "    </tr>\n",
              "    <tr>\n",
              "      <th>21</th>\n",
              "      <td>Michigan</td>\n",
              "      <td>1</td>\n",
              "    </tr>\n",
              "    <tr>\n",
              "      <th>22</th>\n",
              "      <td>Minnesota</td>\n",
              "      <td>0</td>\n",
              "    </tr>\n",
              "    <tr>\n",
              "      <th>23</th>\n",
              "      <td>Mississippi</td>\n",
              "      <td>1</td>\n",
              "    </tr>\n",
              "    <tr>\n",
              "      <th>24</th>\n",
              "      <td>Missouri</td>\n",
              "      <td>2</td>\n",
              "    </tr>\n",
              "    <tr>\n",
              "      <th>25</th>\n",
              "      <td>Montana</td>\n",
              "      <td>0</td>\n",
              "    </tr>\n",
              "    <tr>\n",
              "      <th>26</th>\n",
              "      <td>Nebraska</td>\n",
              "      <td>0</td>\n",
              "    </tr>\n",
              "    <tr>\n",
              "      <th>27</th>\n",
              "      <td>Nevada</td>\n",
              "      <td>1</td>\n",
              "    </tr>\n",
              "    <tr>\n",
              "      <th>28</th>\n",
              "      <td>New Hampshire</td>\n",
              "      <td>0</td>\n",
              "    </tr>\n",
              "    <tr>\n",
              "      <th>29</th>\n",
              "      <td>New Jersey</td>\n",
              "      <td>2</td>\n",
              "    </tr>\n",
              "    <tr>\n",
              "      <th>30</th>\n",
              "      <td>New Mexico</td>\n",
              "      <td>1</td>\n",
              "    </tr>\n",
              "    <tr>\n",
              "      <th>31</th>\n",
              "      <td>New York</td>\n",
              "      <td>1</td>\n",
              "    </tr>\n",
              "    <tr>\n",
              "      <th>32</th>\n",
              "      <td>North Carolina</td>\n",
              "      <td>1</td>\n",
              "    </tr>\n",
              "    <tr>\n",
              "      <th>33</th>\n",
              "      <td>North Dakota</td>\n",
              "      <td>0</td>\n",
              "    </tr>\n",
              "    <tr>\n",
              "      <th>34</th>\n",
              "      <td>Ohio</td>\n",
              "      <td>0</td>\n",
              "    </tr>\n",
              "    <tr>\n",
              "      <th>35</th>\n",
              "      <td>Oklahoma</td>\n",
              "      <td>2</td>\n",
              "    </tr>\n",
              "    <tr>\n",
              "      <th>36</th>\n",
              "      <td>Oregon</td>\n",
              "      <td>2</td>\n",
              "    </tr>\n",
              "    <tr>\n",
              "      <th>37</th>\n",
              "      <td>Pennsylvania</td>\n",
              "      <td>0</td>\n",
              "    </tr>\n",
              "    <tr>\n",
              "      <th>38</th>\n",
              "      <td>Rhode Island</td>\n",
              "      <td>2</td>\n",
              "    </tr>\n",
              "    <tr>\n",
              "      <th>39</th>\n",
              "      <td>South Carolina</td>\n",
              "      <td>1</td>\n",
              "    </tr>\n",
              "    <tr>\n",
              "      <th>40</th>\n",
              "      <td>South Dakota</td>\n",
              "      <td>0</td>\n",
              "    </tr>\n",
              "    <tr>\n",
              "      <th>41</th>\n",
              "      <td>Tennessee</td>\n",
              "      <td>2</td>\n",
              "    </tr>\n",
              "    <tr>\n",
              "      <th>42</th>\n",
              "      <td>Texas</td>\n",
              "      <td>2</td>\n",
              "    </tr>\n",
              "    <tr>\n",
              "      <th>43</th>\n",
              "      <td>Utah</td>\n",
              "      <td>0</td>\n",
              "    </tr>\n",
              "    <tr>\n",
              "      <th>44</th>\n",
              "      <td>Vermont</td>\n",
              "      <td>0</td>\n",
              "    </tr>\n",
              "    <tr>\n",
              "      <th>45</th>\n",
              "      <td>Virginia</td>\n",
              "      <td>2</td>\n",
              "    </tr>\n",
              "    <tr>\n",
              "      <th>46</th>\n",
              "      <td>Washington</td>\n",
              "      <td>2</td>\n",
              "    </tr>\n",
              "    <tr>\n",
              "      <th>47</th>\n",
              "      <td>West Virginia</td>\n",
              "      <td>0</td>\n",
              "    </tr>\n",
              "    <tr>\n",
              "      <th>48</th>\n",
              "      <td>Wisconsin</td>\n",
              "      <td>0</td>\n",
              "    </tr>\n",
              "    <tr>\n",
              "      <th>49</th>\n",
              "      <td>Wyoming</td>\n",
              "      <td>2</td>\n",
              "    </tr>\n",
              "  </tbody>\n",
              "</table>\n",
              "</div>"
            ],
            "text/plain": [
              "             State  cluster labels\n",
              "0          Alabama               1\n",
              "1           Alaska               1\n",
              "2          Arizona               1\n",
              "3         Arkansas               2\n",
              "4       California               1\n",
              "5         Colorado               2\n",
              "6      Connecticut               0\n",
              "7         Delaware               1\n",
              "8          Florida               1\n",
              "9          Georgia               2\n",
              "10          Hawaii               0\n",
              "11           Idaho               0\n",
              "12        Illinois               1\n",
              "13         Indiana               0\n",
              "14            Iowa               0\n",
              "15          Kansas               0\n",
              "16        Kentucky               0\n",
              "17       Louisiana               1\n",
              "18           Maine               0\n",
              "19        Maryland               1\n",
              "20   Massachusetts               2\n",
              "21        Michigan               1\n",
              "22       Minnesota               0\n",
              "23     Mississippi               1\n",
              "24        Missouri               2\n",
              "25         Montana               0\n",
              "26        Nebraska               0\n",
              "27          Nevada               1\n",
              "28   New Hampshire               0\n",
              "29      New Jersey               2\n",
              "30      New Mexico               1\n",
              "31        New York               1\n",
              "32  North Carolina               1\n",
              "33    North Dakota               0\n",
              "34            Ohio               0\n",
              "35        Oklahoma               2\n",
              "36          Oregon               2\n",
              "37    Pennsylvania               0\n",
              "38    Rhode Island               2\n",
              "39  South Carolina               1\n",
              "40    South Dakota               0\n",
              "41       Tennessee               2\n",
              "42           Texas               2\n",
              "43            Utah               0\n",
              "44         Vermont               0\n",
              "45        Virginia               2\n",
              "46      Washington               2\n",
              "47   West Virginia               0\n",
              "48       Wisconsin               0\n",
              "49         Wyoming               2"
            ]
          },
          "metadata": {
            "tags": []
          },
          "execution_count": 25
        }
      ]
    },
    {
      "cell_type": "code",
      "metadata": {
        "execution": {
          "iopub.execute_input": "2020-09-26T07:21:57.139888Z",
          "iopub.status.busy": "2020-09-26T07:21:57.138920Z",
          "iopub.status.idle": "2020-09-26T07:21:57.356266Z",
          "shell.execute_reply": "2020-09-26T07:21:57.355382Z"
        },
        "papermill": {
          "duration": 0.314115,
          "end_time": "2020-09-26T07:21:57.356418",
          "exception": false,
          "start_time": "2020-09-26T07:21:57.042303",
          "status": "completed"
        },
        "tags": [],
        "id": "wA8k2XcNq8jc",
        "colab": {
          "base_uri": "https://localhost:8080/",
          "height": 351
        },
        "outputId": "e49900a8-3ebc-4db8-a391-656f19975dc7"
      },
      "source": [
        "plt.figure(figsize=(10,5))\n",
        "sns.boxplot(x='cluster labels', y='Murder', data=crime)"
      ],
      "execution_count": null,
      "outputs": [
        {
          "output_type": "execute_result",
          "data": {
            "text/plain": [
              "<matplotlib.axes._subplots.AxesSubplot at 0x7f64d014a250>"
            ]
          },
          "metadata": {
            "tags": []
          },
          "execution_count": 26
        },
        {
          "output_type": "display_data",
          "data": {
            "image/png": "[encoded data removed]",
            "text/plain": [
              "<Figure size 720x360 with 1 Axes>"
            ]
          },
          "metadata": {
            "tags": [],
            "needs_background": "light"
          }
        }
      ]
    },
    {
      "cell_type": "code",
      "metadata": {
        "execution": {
          "iopub.execute_input": "2020-09-26T07:21:57.530036Z",
          "iopub.status.busy": "2020-09-26T07:21:57.529160Z",
          "iopub.status.idle": "2020-09-26T07:21:57.741782Z",
          "shell.execute_reply": "2020-09-26T07:21:57.741102Z"
        },
        "papermill": {
          "duration": 0.307687,
          "end_time": "2020-09-26T07:21:57.741922",
          "exception": false,
          "start_time": "2020-09-26T07:21:57.434235",
          "status": "completed"
        },
        "tags": [],
        "id": "l8XNfrX6q8jd",
        "colab": {
          "base_uri": "https://localhost:8080/",
          "height": 351
        },
        "outputId": "d9652bfd-bd98-4c6c-d50a-4c51e766bc5a"
      },
      "source": [
        "plt.figure(figsize=(10,5))\n",
        "sns.boxplot(x='cluster labels', y='Rape', data=crime)"
      ],
      "execution_count": null,
      "outputs": [
        {
          "output_type": "execute_result",
          "data": {
            "text/plain": [
              "<matplotlib.axes._subplots.AxesSubplot at 0x7f64d0069250>"
            ]
          },
          "metadata": {
            "tags": []
          },
          "execution_count": 27
        },
        {
          "output_type": "display_data",
          "data": {
            "image/png": "[encoded data removed]",
            "text/plain": [
              "<Figure size 720x360 with 1 Axes>"
            ]
          },
          "metadata": {
            "tags": [],
            "needs_background": "light"
          }
        }
      ]
    },
    {
      "cell_type": "code",
      "metadata": {
        "execution": {
          "iopub.execute_input": "2020-09-26T07:21:57.916034Z",
          "iopub.status.busy": "2020-09-26T07:21:57.913874Z",
          "iopub.status.idle": "2020-09-26T07:21:58.110272Z",
          "shell.execute_reply": "2020-09-26T07:21:58.109618Z"
        },
        "papermill": {
          "duration": 0.29056,
          "end_time": "2020-09-26T07:21:58.110396",
          "exception": false,
          "start_time": "2020-09-26T07:21:57.819836",
          "status": "completed"
        },
        "tags": [],
        "id": "3h1pY8ATq8jd",
        "colab": {
          "base_uri": "https://localhost:8080/",
          "height": 353
        },
        "outputId": "a20cccd4-b486-425b-dd39-2c1f8f7bd53f"
      },
      "source": [
        "plt.figure(figsize=(10,5))\n",
        "sns.boxplot(x='cluster labels', y='Assault', data=crime)"
      ],
      "execution_count": null,
      "outputs": [
        {
          "output_type": "execute_result",
          "data": {
            "text/plain": [
              "<matplotlib.axes._subplots.AxesSubplot at 0x7f64cfffd610>"
            ]
          },
          "metadata": {
            "tags": []
          },
          "execution_count": 28
        },
        {
          "output_type": "display_data",
          "data": {
            "image/png": "[encoded data removed]",
            "text/plain": [
              "<Figure size 720x360 with 1 Axes>"
            ]
          },
          "metadata": {
            "tags": [],
            "needs_background": "light"
          }
        }
      ]
    },
    {
      "cell_type": "markdown",
      "metadata": {
        "papermill": {
          "duration": 0.08007,
          "end_time": "2020-09-26T07:21:58.269823",
          "exception": false,
          "start_time": "2020-09-26T07:21:58.189753",
          "status": "completed"
        },
        "tags": [],
        "id": "pwjzc6z8q8je"
      },
      "source": [
        "## **Observations**:\n",
        "\n",
        "* The Cities in the Cluster-0 seems to be Safe-Zone where there are relativley less Murders,Assaults and Rapes.\n",
        "* The Cities in Cluster-1 seems to have higher crime rates and can be regarded as Danger-Zone.\n",
        "* The Cities in Cluster-3 seems to have moderate crime rates when compared to other zones and can be called as Moderate-Zone\n"
      ]
    },
    {
      "cell_type": "markdown",
      "metadata": {
        "id": "tOCgd3VKmVk_"
      },
      "source": [
        "Let's display the cities in each zone now!"
      ]
    },
    {
      "cell_type": "code",
      "metadata": {
        "execution": {
          "iopub.execute_input": "2020-09-26T07:21:58.440359Z",
          "iopub.status.busy": "2020-09-26T07:21:58.439488Z",
          "iopub.status.idle": "2020-09-26T07:21:58.443943Z",
          "shell.execute_reply": "2020-09-26T07:21:58.443383Z"
        },
        "papermill": {
          "duration": 0.094078,
          "end_time": "2020-09-26T07:21:58.444071",
          "exception": false,
          "start_time": "2020-09-26T07:21:58.349993",
          "status": "completed"
        },
        "tags": [],
        "id": "7H1GN1Qnq8je",
        "outputId": "c383a29a-1c17-49e6-a286-acbefa4c770c"
      },
      "source": [
        "Safe_Zone= crime.groupby('cluster labels')['State'].unique()[0]\n",
        "Safe_Zone"
      ],
      "execution_count": null,
      "outputs": [
        {
          "output_type": "execute_result",
          "data": {
            "text/plain": [
              "array(['Connecticut', 'Hawaii', 'Idaho', 'Indiana', 'Iowa', 'Kansas',\n",
              "       'Kentucky', 'Maine', 'Minnesota', 'Montana', 'Nebraska',\n",
              "       'New Hampshire', 'North Dakota', 'Ohio', 'Pennsylvania',\n",
              "       'South Dakota', 'Utah', 'Vermont', 'West Virginia', 'Wisconsin'],\n",
              "      dtype=object)"
            ]
          },
          "metadata": {
            "tags": []
          },
          "execution_count": 33
        }
      ]
    },
    {
      "cell_type": "code",
      "metadata": {
        "execution": {
          "iopub.execute_input": "2020-09-26T07:21:58.613303Z",
          "iopub.status.busy": "2020-09-26T07:21:58.612415Z",
          "iopub.status.idle": "2020-09-26T07:21:58.616962Z",
          "shell.execute_reply": "2020-09-26T07:21:58.617514Z"
        },
        "papermill": {
          "duration": 0.093492,
          "end_time": "2020-09-26T07:21:58.617668",
          "exception": false,
          "start_time": "2020-09-26T07:21:58.524176",
          "status": "completed"
        },
        "tags": [],
        "id": "DkgeEBm5q8jf",
        "outputId": "1e6d6df4-049d-4d45-d68a-0d934b121368"
      },
      "source": [
        "Danger_Zone= crime.groupby('cluster labels')['State'].unique()[1]\n",
        "Danger_Zone"
      ],
      "execution_count": null,
      "outputs": [
        {
          "output_type": "execute_result",
          "data": {
            "text/plain": [
              "array(['Alabama', 'Alaska', 'Arizona', 'California', 'Delaware',\n",
              "       'Florida', 'Illinois', 'Louisiana', 'Maryland', 'Michigan',\n",
              "       'Mississippi', 'Nevada', 'New Mexico', 'New York',\n",
              "       'North Carolina', 'South Carolina'], dtype=object)"
            ]
          },
          "metadata": {
            "tags": []
          },
          "execution_count": 34
        }
      ]
    },
    {
      "cell_type": "code",
      "metadata": {
        "execution": {
          "iopub.execute_input": "2020-09-26T07:21:58.788404Z",
          "iopub.status.busy": "2020-09-26T07:21:58.786103Z",
          "iopub.status.idle": "2020-09-26T07:21:58.792286Z",
          "shell.execute_reply": "2020-09-26T07:21:58.792814Z"
        },
        "papermill": {
          "duration": 0.094135,
          "end_time": "2020-09-26T07:21:58.793002",
          "exception": false,
          "start_time": "2020-09-26T07:21:58.698867",
          "status": "completed"
        },
        "tags": [],
        "id": "BqSS3OKLq8jg",
        "outputId": "b5c1ed0a-b0ee-44dc-8352-928317950d17"
      },
      "source": [
        "Moderate_Zone= crime.groupby('cluster labels')['State'].unique()[2]\n",
        "Moderate_Zone"
      ],
      "execution_count": null,
      "outputs": [
        {
          "output_type": "execute_result",
          "data": {
            "text/plain": [
              "array(['Arkansas', 'Colorado', 'Georgia', 'Massachusetts', 'Missouri',\n",
              "       'New Jersey', 'Oklahoma', 'Oregon', 'Rhode Island', 'Tennessee',\n",
              "       'Texas', 'Virginia', 'Washington', 'Wyoming'], dtype=object)"
            ]
          },
          "metadata": {
            "tags": []
          },
          "execution_count": 35
        }
      ]
    },
    {
      "cell_type": "markdown",
      "metadata": {
        "id": "VZY5o6L7mb9x"
      },
      "source": [
        "## Creating a scatter plot based on the danger level clusters of the cities\n",
        "\n",
        "\n"
      ]
    },
    {
      "cell_type": "code",
      "metadata": {
        "execution": {
          "iopub.execute_input": "2020-09-26T07:21:58.967910Z",
          "iopub.status.busy": "2020-09-26T07:21:58.967165Z",
          "iopub.status.idle": "2020-09-26T07:21:59.335579Z",
          "shell.execute_reply": "2020-09-26T07:21:59.334800Z"
        },
        "papermill": {
          "duration": 0.46047,
          "end_time": "2020-09-26T07:21:59.335707",
          "exception": false,
          "start_time": "2020-09-26T07:21:58.875237",
          "status": "completed"
        },
        "tags": [],
        "id": "r9L1o1Dzq8jg",
        "outputId": "5e057c14-9db6-4e56-add7-28a423cedcf9"
      },
      "source": [
        "plt.figure(figsize=(10,5))\n",
        "plt.scatter(data[y_pred==0, 0], data[y_pred==0, 1], s=100, c='red', label ='Safe_Zone')\n",
        "plt.scatter(data[y_pred==1, 0], data[y_pred==1, 1], s=100, c='blue', label ='Danger_Zone')\n",
        "plt.scatter(data[y_pred==2, 0], data[y_pred==2, 1], s=100, c='green', label ='Moderate_Zone')\n",
        "plt.legend()\n",
        "plt.show()"
      ],
      "execution_count": null,
      "outputs": [
        {
          "output_type": "display_data",
          "data": {
            "image/png": "[encoded data removed]",
            "text/plain": [
              "<Figure size 720x360 with 1 Axes>"
            ]
          },
          "metadata": {
            "tags": [],
            "needs_background": "light"
          }
        }
      ]
    }
  ]
}