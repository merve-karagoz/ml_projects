{
  "nbformat": 4,
  "nbformat_minor": 0,
  "metadata": {
    "colab": {
      "provenance": [],
      "authorship_tag": "ABX9TyMLY2dwzcDu8ZIuyZOVOeov",
      "include_colab_link": true
    },
    "kernelspec": {
      "name": "python3",
      "display_name": "Python 3"
    },
    "language_info": {
      "name": "python"
    }
  },
  "cells": [
    {
      "cell_type": "markdown",
      "metadata": {
        "id": "view-in-github",
        "colab_type": "text"
      },
      "source": [
        "<a href=\"https://colab.research.google.com/github/merve-karagoz/ml_projects/blob/main/math_for_ml.ipynb\" target=\"_parent\"><img src=\"https://colab.research.google.com/assets/colab-badge.svg\" alt=\"Open In Colab\"/></a>"
      ]
    },
    {
      "cell_type": "code",
      "execution_count": null,
      "metadata": {
        "id": "kl2S80BmTLjd"
      },
      "outputs": [],
      "source": [
        "import numpy as np"
      ]
    },
    {
      "cell_type": "code",
      "source": [
        "# devrik matris oluşturma:\n",
        "A = np.array(range(12)).reshape(4,3) # 4*3 lük matris\n",
        "A"
      ],
      "metadata": {
        "colab": {
          "base_uri": "https://localhost:8080/"
        },
        "id": "e9PFmopATPVX",
        "outputId": "fe939c83-4d86-4efc-b735-7a89277eaa7a"
      },
      "execution_count": null,
      "outputs": [
        {
          "output_type": "execute_result",
          "data": {
            "text/plain": [
              "array([[ 0,  1,  2],\n",
              "       [ 3,  4,  5],\n",
              "       [ 6,  7,  8],\n",
              "       [ 9, 10, 11]])"
            ]
          },
          "metadata": {},
          "execution_count": 31
        }
      ]
    },
    {
      "cell_type": "code",
      "source": [
        "A.T"
      ],
      "metadata": {
        "colab": {
          "base_uri": "https://localhost:8080/"
        },
        "id": "3UTVUajFTQFX",
        "outputId": "059bbeba-5986-429e-f4f0-483a9502c60a"
      },
      "execution_count": null,
      "outputs": [
        {
          "output_type": "execute_result",
          "data": {
            "text/plain": [
              "array([[ 0,  3,  6,  9],\n",
              "       [ 1,  4,  7, 10],\n",
              "       [ 2,  5,  8, 11]])"
            ]
          },
          "metadata": {},
          "execution_count": 6
        }
      ]
    },
    {
      "cell_type": "code",
      "source": [
        "# matrislerde toplama ve çıkarma işlemi:\n",
        "m = np.random.randint(20, size=(5, 3))\n",
        "m"
      ],
      "metadata": {
        "colab": {
          "base_uri": "https://localhost:8080/"
        },
        "id": "BlC4jJVodeag",
        "outputId": "4d56d478-98cf-437b-df6b-60def738354d"
      },
      "execution_count": null,
      "outputs": [
        {
          "output_type": "execute_result",
          "data": {
            "text/plain": [
              "array([[ 0,  2,  1],\n",
              "       [ 2,  0, 12],\n",
              "       [12, 12,  0],\n",
              "       [ 4,  2,  0],\n",
              "       [11, 14, 19]])"
            ]
          },
          "metadata": {},
          "execution_count": 7
        }
      ]
    },
    {
      "cell_type": "code",
      "source": [
        "m2 = np.random.randint(5, size=(5, 3))\n",
        "m2"
      ],
      "metadata": {
        "colab": {
          "base_uri": "https://localhost:8080/"
        },
        "id": "pbut1JURdeOg",
        "outputId": "b4557f5e-8673-419f-cb70-69878e518c47"
      },
      "execution_count": null,
      "outputs": [
        {
          "output_type": "execute_result",
          "data": {
            "text/plain": [
              "array([[2, 0, 2],\n",
              "       [2, 0, 2],\n",
              "       [4, 3, 0],\n",
              "       [3, 0, 2],\n",
              "       [3, 4, 0]])"
            ]
          },
          "metadata": {},
          "execution_count": 8
        }
      ]
    },
    {
      "cell_type": "code",
      "source": [
        "m + m2"
      ],
      "metadata": {
        "colab": {
          "base_uri": "https://localhost:8080/"
        },
        "id": "MFdzx_P-deIF",
        "outputId": "82acec20-9957-4f85-95f5-e8d045499ebb"
      },
      "execution_count": null,
      "outputs": [
        {
          "output_type": "execute_result",
          "data": {
            "text/plain": [
              "array([[ 2,  2,  3],\n",
              "       [ 4,  0, 14],\n",
              "       [16, 15,  0],\n",
              "       [ 7,  2,  2],\n",
              "       [14, 18, 19]])"
            ]
          },
          "metadata": {},
          "execution_count": 9
        }
      ]
    },
    {
      "cell_type": "code",
      "source": [
        "m - m2"
      ],
      "metadata": {
        "id": "OPxnHcy5fZwg",
        "outputId": "66fcb41a-9927-47b1-d53c-b3b9aa3f76b2",
        "colab": {
          "base_uri": "https://localhost:8080/"
        }
      },
      "execution_count": null,
      "outputs": [
        {
          "output_type": "execute_result",
          "data": {
            "text/plain": [
              "array([[-2,  2, -1],\n",
              "       [ 0,  0, 10],\n",
              "       [ 8,  9,  0],\n",
              "       [ 1,  2, -2],\n",
              "       [ 8, 10, 19]])"
            ]
          },
          "metadata": {},
          "execution_count": 10
        }
      ]
    },
    {
      "cell_type": "code",
      "source": [
        "# matrisin tersi\n",
        "from numpy.random import RandomState\n",
        "rnd=RandomState(42)\n",
        "n=4\n",
        "A=np.zeros((n,n))\n",
        "for i in range(n):\n",
        "    for j in range(n):\n",
        "        A[i,j]=rnd.randint(0,3)\n",
        "\n",
        "A_inv=np.linalg.inv(A)\n",
        "print(\"A:\\n\",A,end=\"\\n\\n\")\n",
        "print(\"A matrisin tersi A^-1:\\n\",A,end=\"\\n\\n\")\n",
        "print(\"A matrisinin tersiyle çarpımı A.A^-1:\\n\",A.dot(A_inv))"
      ],
      "metadata": {
        "colab": {
          "base_uri": "https://localhost:8080/"
        },
        "id": "RA0xeNvBjvCq",
        "outputId": "a2c07b32-1448-4361-f2c0-1f49170ef94f"
      },
      "execution_count": null,
      "outputs": [
        {
          "output_type": "stream",
          "name": "stdout",
          "text": [
            "A:\n",
            " [[2. 0. 2. 2.]\n",
            " [0. 0. 2. 1.]\n",
            " [2. 2. 2. 2.]\n",
            " [0. 2. 1. 0.]]\n",
            "\n",
            "A matrisin tersi A^-1:\n",
            " [[2. 0. 2. 2.]\n",
            " [0. 0. 2. 1.]\n",
            " [2. 2. 2. 2.]\n",
            " [0. 2. 1. 0.]]\n",
            "\n",
            "A matrisinin tersiyle çarpımı A.A^-1:\n",
            " [[1. 0. 0. 0.]\n",
            " [0. 1. 0. 0.]\n",
            " [0. 0. 1. 0.]\n",
            " [0. 0. 0. 1.]]\n"
          ]
        }
      ]
    },
    {
      "cell_type": "code",
      "source": [
        "# dot çapraz çarpım\n",
        "a=np.array([3, 9, 7])\n",
        "b=np.array([4, 6, 3])\n",
        "\n",
        "c=a*b\n",
        "a_dot_b= np.sum(c)\n",
        "\n",
        "print(\"a   :\", a)\n",
        "print(\"b   :\", b)\n",
        "print(\"a.b :\", a_dot_b)"
      ],
      "metadata": {
        "id": "pZidksj8m7lo",
        "colab": {
          "base_uri": "https://localhost:8080/"
        },
        "outputId": "91a51336-3d0f-44b8-e219-adde242def30"
      },
      "execution_count": null,
      "outputs": [
        {
          "output_type": "stream",
          "name": "stdout",
          "text": [
            "a   : [3 9 7]\n",
            "b   : [4 6 3]\n",
            "a.b : 87\n"
          ]
        }
      ]
    },
    {
      "cell_type": "code",
      "source": [
        "a = np.array([1.0, 2.0, 3.0])\n",
        "b = np.array([2.0, 2.0, 2.0])\n",
        "a * b"
      ],
      "metadata": {
        "colab": {
          "base_uri": "https://localhost:8080/"
        },
        "id": "W7717P9_LjoJ",
        "outputId": "70c3799d-983b-47ad-ca3c-af33edf2a48c"
      },
      "execution_count": null,
      "outputs": [
        {
          "output_type": "execute_result",
          "data": {
            "text/plain": [
              "array([2., 4., 6.])"
            ]
          },
          "metadata": {},
          "execution_count": 3
        }
      ]
    },
    {
      "cell_type": "code",
      "source": [
        "a = np.array([1.0, 2.0, 3.0])\n",
        "b = 2.0\n",
        "a * b"
      ],
      "metadata": {
        "colab": {
          "base_uri": "https://localhost:8080/"
        },
        "id": "2wk-G09hMIYM",
        "outputId": "35ff3345-63a9-4f82-9b72-d3854b5b33af"
      },
      "execution_count": null,
      "outputs": [
        {
          "output_type": "execute_result",
          "data": {
            "text/plain": [
              "array([2., 4., 6.])"
            ]
          },
          "metadata": {},
          "execution_count": 4
        }
      ]
    },
    {
      "cell_type": "code",
      "source": [
        "# determinant\n",
        "rnd=RandomState(24)\n",
        "n=4\n",
        "A=np.zeros((n,n))\n",
        "for i in range(n):\n",
        "    for j in range(n):\n",
        "            A[i,j]=rnd.randint(0,3)\n",
        "\n",
        "A_det=np.linalg.det(A)           \n",
        "print(\"A:\\n\",A,end=\"\\n\\n\")\n",
        "print(\"A matrisinin determinantı:\",A_det)"
      ],
      "metadata": {
        "colab": {
          "base_uri": "https://localhost:8080/"
        },
        "id": "rHBk3s-BU3Pg",
        "outputId": "60e14908-2c50-4407-ab7f-e7f4743cd581"
      },
      "execution_count": null,
      "outputs": [
        {
          "output_type": "stream",
          "name": "stdout",
          "text": [
            "A:\n",
            " [[2. 0. 1. 1.]\n",
            " [1. 0. 0. 2.]\n",
            " [1. 2. 1. 1.]\n",
            " [0. 0. 2. 0.]]\n",
            "\n",
            "A matrisinin determinantı: 11.999999999999995\n"
          ]
        }
      ]
    },
    {
      "cell_type": "code",
      "source": [
        "a = np.array([[1,2], [3,4]]) \n",
        "print(np.linalg.det(a))"
      ],
      "metadata": {
        "colab": {
          "base_uri": "https://localhost:8080/"
        },
        "id": "dQ0vncM7VuAH",
        "outputId": "417b8cfc-b990-4fb8-f7f3-58eb995a0bf8"
      },
      "execution_count": null,
      "outputs": [
        {
          "output_type": "stream",
          "name": "stdout",
          "text": [
            "-2.0000000000000004\n"
          ]
        }
      ]
    },
    {
      "cell_type": "code",
      "source": [
        "b = np.array([[6,1,1], [4, -2, 5], [2,8,7]]) \n",
        "print(b) \n",
        "print(np.linalg.det(b))"
      ],
      "metadata": {
        "colab": {
          "base_uri": "https://localhost:8080/"
        },
        "id": "w8k2ZB5TV8Dg",
        "outputId": "4ba11a29-037a-406b-b298-29d879a78793"
      },
      "execution_count": null,
      "outputs": [
        {
          "output_type": "stream",
          "name": "stdout",
          "text": [
            "[[ 6  1  1]\n",
            " [ 4 -2  5]\n",
            " [ 2  8  7]]\n",
            "-306.0\n"
          ]
        }
      ]
    },
    {
      "cell_type": "code",
      "source": [
        "# broadcasting\n",
        "a = np.array([1.0, 2.0, 3.0])\n",
        "b = np.array([2.0, 2.0, 2.0 ])\n",
        "a*b"
      ],
      "metadata": {
        "colab": {
          "base_uri": "https://localhost:8080/"
        },
        "id": "_vJ_0Zy8U2N2",
        "outputId": "f6499514-c467-4b98-8209-9585fcf29a1f"
      },
      "execution_count": null,
      "outputs": [
        {
          "output_type": "execute_result",
          "data": {
            "text/plain": [
              "array([2., 4., 6.])"
            ]
          },
          "metadata": {},
          "execution_count": 3
        }
      ]
    },
    {
      "cell_type": "code",
      "source": [
        "a = np.array([1.0, 2.0, 3.0])\n",
        "b = 2.0\n",
        "a*b"
      ],
      "metadata": {
        "colab": {
          "base_uri": "https://localhost:8080/"
        },
        "id": "UW32LkQGU2F4",
        "outputId": "7ff79458-e0cb-431a-b6a5-36bceb7f216e"
      },
      "execution_count": null,
      "outputs": [
        {
          "output_type": "execute_result",
          "data": {
            "text/plain": [
              "array([2., 4., 6.])"
            ]
          },
          "metadata": {},
          "execution_count": 4
        }
      ]
    },
    {
      "cell_type": "code",
      "source": [
        "a = np.array([3, 9, 7])\n",
        "b = np.array([4, 6, 3])\n",
        "\n",
        "c = a * b\n",
        "a_dot_b = np.sum(c)\n",
        "\n",
        "print(\"a  :\", a)\n",
        "print(\"b  :\", b)\n",
        "print(\"a.b:\", a_dot_b)"
      ],
      "metadata": {
        "colab": {
          "base_uri": "https://localhost:8080/"
        },
        "id": "_ruuemjoU18m",
        "outputId": "d30dc7d4-3a59-424c-aa17-2e6a6be1c807"
      },
      "execution_count": null,
      "outputs": [
        {
          "output_type": "stream",
          "name": "stdout",
          "text": [
            "a  : [3 9 7]\n",
            "b  : [4 6 3]\n",
            "a.b: 87\n"
          ]
        }
      ]
    },
    {
      "cell_type": "code",
      "source": [
        "# Singular-value decomposition\n",
        "from numpy import array\n",
        "from scipy.linalg import svd\n",
        "# define a matrix\n",
        "A = array([[3, 1, 1], [-1, 3, 1]])\n",
        "print(\"A=\",A)\n",
        "# SVD\n",
        "U, S, V_T = svd(A)\n",
        "# left singular vectors\n",
        "print(\"U=\")\n",
        "print(U)\n",
        "# singular values\n",
        "print(\"S=\")\n",
        "print(S)\n",
        "#right singular vectors\n",
        "print(\"V_T=\")\n",
        "print(V_T)"
      ],
      "metadata": {
        "colab": {
          "base_uri": "https://localhost:8080/"
        },
        "id": "3wn4AwbInn2a",
        "outputId": "5bf422eb-5595-4330-e6f5-01cf50f60e9a"
      },
      "execution_count": null,
      "outputs": [
        {
          "output_type": "stream",
          "name": "stdout",
          "text": [
            "A= [[ 3  1  1]\n",
            " [-1  3  1]]\n",
            "U=\n",
            "[[-0.70710678 -0.70710678]\n",
            " [-0.70710678  0.70710678]]\n",
            "S=\n",
            "[3.46410162 3.16227766]\n",
            "V_T=\n",
            "[[-4.08248290e-01 -8.16496581e-01 -4.08248290e-01]\n",
            " [-8.94427191e-01  4.47213595e-01  5.26260748e-16]\n",
            " [-1.82574186e-01 -3.65148372e-01  9.12870929e-01]]\n"
          ]
        }
      ]
    },
    {
      "cell_type": "code",
      "source": [
        "# Creating S diagonal matrix\n",
        "S_diag = array([[3.46410162, 0, 0], [0, 3.16227766, 0]])\n",
        "S_diag"
      ],
      "metadata": {
        "colab": {
          "base_uri": "https://localhost:8080/"
        },
        "id": "TSFXPpx1nnap",
        "outputId": "e83abadb-dce9-48ae-db94-96f802b23713"
      },
      "execution_count": null,
      "outputs": [
        {
          "output_type": "execute_result",
          "data": {
            "text/plain": [
              "array([[3.46410162, 0.        , 0.        ],\n",
              "       [0.        , 3.16227766, 0.        ]])"
            ]
          },
          "metadata": {},
          "execution_count": 10
        }
      ]
    },
    {
      "cell_type": "code",
      "source": [
        "B = U.dot(S_diag.dot(V_T))\n",
        "print(\"Reconstructed matrix:\")\n",
        "print(B)"
      ],
      "metadata": {
        "colab": {
          "base_uri": "https://localhost:8080/"
        },
        "id": "uSMmeZ3xqjmZ",
        "outputId": "e08151f5-c92f-468e-e063-3dfcd8d9968e"
      },
      "execution_count": null,
      "outputs": [
        {
          "output_type": "stream",
          "name": "stdout",
          "text": [
            "Reconstructed matrix:\n",
            "[[ 3.  1.  1.]\n",
            " [-1.  3.  1.]]\n"
          ]
        }
      ]
    },
    {
      "cell_type": "code",
      "source": [
        "# simetrik matris ayrışımı\n",
        "n = 3\n",
        "A=np.zeros((n,n),dtype=np.int32)\n",
        "for i in range(n):\n",
        "    for j in range(n):\n",
        "      A[i,j]=np.random.randint(1,10)\n",
        "\n",
        "egienvalues, egienvectors=np.linalg.eig(A)\n",
        "\n",
        "print(\"öz değerler:\\n\",egienvalues,end=\"\\n\\n\")\n",
        "print(\"öz vektörler matrisi:\\n\",egienvectors,end=\"\\n\\n\")\n",
        "for i, egienvector in enumerate(egienvectors.T):\n",
        "    print(\"{}.öz vektör:{}\".format(i+1,egienvector))"
      ],
      "metadata": {
        "colab": {
          "base_uri": "https://localhost:8080/"
        },
        "id": "R4IXvlCdSQsB",
        "outputId": "df58c711-b8d9-400c-abac-e9a6a414e5d3"
      },
      "execution_count": null,
      "outputs": [
        {
          "output_type": "stream",
          "name": "stdout",
          "text": [
            "öz değerler:\n",
            " [11.41869517  2.07026403  3.5110408 ]\n",
            "\n",
            "öz vektörler matrisi:\n",
            " [[-0.7109633  -0.54238076  0.25988498]\n",
            " [-0.40558386 -0.69557653 -0.96418998]\n",
            " [-0.57448492  0.47116495  0.05289115]]\n",
            "\n",
            "1.öz vektör:[-0.7109633  -0.40558386 -0.57448492]\n",
            "2.öz vektör:[-0.54238076 -0.69557653  0.47116495]\n",
            "3.öz vektör:[ 0.25988498 -0.96418998  0.05289115]\n"
          ]
        }
      ]
    },
    {
      "cell_type": "code",
      "source": [
        "n=1\n",
        "print(\"egienvectors[:,{}]*egienvalues[{}]:{}\".format(\n",
        "    n,\n",
        "    n,\n",
        "    egienvectors[:,n]*egienvalues[n])\n",
        ")\n",
        "print(\"A.dot(egienvectors[:,{}]           :{}\".format(n,A.dot(egienvectors[:,n])))"
      ],
      "metadata": {
        "id": "bUk4ENkdSRFr",
        "colab": {
          "base_uri": "https://localhost:8080/"
        },
        "outputId": "52495575-e9a6-4b7c-9396-eceeb7198507"
      },
      "execution_count": null,
      "outputs": [
        {
          "output_type": "stream",
          "name": "stdout",
          "text": [
            "egienvectors[:,1]*egienvalues[1]:[ 1.03044527-1.10513357j -1.57958923-0.41346002j -0.00932755+2.31556228j]\n",
            "A.dot(egienvectors[:,1]           :[ 1.03044527-1.10513357j -1.57958923-0.41346002j -0.00932755+2.31556228j]\n"
          ]
        }
      ]
    },
    {
      "cell_type": "code",
      "source": [
        "LAMBDA=np.diag(egienvalues)\n",
        "print(\"A:\\n\", A,end=\"\\n\\n\")\n",
        "print(\"Q:\\n\", egienvector,end=\"\\n\\n\")\n",
        "print(\"LAMBDA:\\n\", LAMBDA,end=\"\\n\\n\")\n",
        "print(\"Q^-1:\\n\",np.linalg.inv(egienvectors),end=\"\\n\\n\")\n",
        "print(\"Q.LAMBDA.Q^-1:\\n\",egienvectors.dot(LAMBDA).dot(np.linalg.inv(egienvectors)))"
      ],
      "metadata": {
        "colab": {
          "base_uri": "https://localhost:8080/"
        },
        "id": "p6sd2kddVmlR",
        "outputId": "4c5bf77d-1c37-465d-942d-7b281a823d73"
      },
      "execution_count": null,
      "outputs": [
        {
          "output_type": "stream",
          "name": "stdout",
          "text": [
            "A:\n",
            " [[6 1 6]\n",
            " [1 4 4]\n",
            " [3 1 7]]\n",
            "\n",
            "Q:\n",
            " [ 0.25988498 -0.96418998  0.05289115]\n",
            "\n",
            "LAMBDA:\n",
            " [[11.41869517  0.          0.        ]\n",
            " [ 0.          2.07026403  0.        ]\n",
            " [ 0.          0.          3.5110408 ]]\n",
            "\n",
            "Q^-1:\n",
            " [[-0.54761025 -0.19823473 -0.92303276]\n",
            " [-0.75466687 -0.14650459  1.03738204]\n",
            " [ 0.77477515 -0.8480632  -0.36010684]]\n",
            "\n",
            "Q.LAMBDA.Q^-1:\n",
            " [[6. 1. 6.]\n",
            " [1. 4. 4.]\n",
            " [3. 1. 7.]]\n"
          ]
        }
      ]
    },
    {
      "cell_type": "code",
      "source": [
        "# Cholesky Ayrıştırma \n",
        "import pprint\n",
        "import scipy\n",
        "import scipy.linalg # SciPy Linear Algebra Library\n",
        "\n",
        "A = scipy.array([[6, 3, 4, 8], [3, 6, 5, 1], [4, 5, 10, 7], [8, 1, 7, 25]])\n",
        "L = scipy.linalg.cholesky(A, lower=True)\n",
        "U = scipy.linalg.cholesky(A, lower=False)\n",
        "\n",
        "print(\"A:\")\n",
        "pprint.pprint(A)\n",
        "\n",
        "print(\"L:\")\n",
        "pprint.pprint(L)\n",
        "\n",
        "\n",
        "print(\"U:\")\n",
        "pprint.pprint(U)\n",
        "\n"
      ],
      "metadata": {
        "id": "rZPQarDQmCB4",
        "colab": {
          "base_uri": "https://localhost:8080/"
        },
        "outputId": "1c9e626f-6802-40a7-d939-0ac43c942c00"
      },
      "execution_count": null,
      "outputs": [
        {
          "output_type": "stream",
          "name": "stdout",
          "text": [
            "A:\n",
            "array([[ 6,  3,  4,  8],\n",
            "       [ 3,  6,  5,  1],\n",
            "       [ 4,  5, 10,  7],\n",
            "       [ 8,  1,  7, 25]])\n",
            "L:\n",
            "array([[ 2.44948974,  0.        ,  0.        ,  0.        ],\n",
            "       [ 1.22474487,  2.12132034,  0.        ,  0.        ],\n",
            "       [ 1.63299316,  1.41421356,  2.30940108,  0.        ],\n",
            "       [ 3.26598632, -1.41421356,  1.58771324,  3.13249102]])\n",
            "U:\n",
            "array([[ 2.44948974,  1.22474487,  1.63299316,  3.26598632],\n",
            "       [ 0.        ,  2.12132034,  1.41421356, -1.41421356],\n",
            "       [ 0.        ,  0.        ,  2.30940108,  1.58771324],\n",
            "       [ 0.        ,  0.        ,  0.        ,  3.13249102]])\n"
          ]
        },
        {
          "output_type": "stream",
          "name": "stderr",
          "text": [
            "<ipython-input-6-1fe63bf5b49f>:6: DeprecationWarning: scipy.array is deprecated and will be removed in SciPy 2.0.0, use numpy.array instead\n",
            "  A = scipy.array([[6, 3, 4, 8], [3, 6, 5, 1], [4, 5, 10, 7], [8, 1, 7, 25]])\n"
          ]
        }
      ]
    },
    {
      "cell_type": "markdown",
      "source": [],
      "metadata": {
        "id": "C_iMAlcB97Te"
      }
    },
    {
      "cell_type": "code",
      "source": [
        "''' A'nın bir Cholesky ayrıştırmasını gerçekleştirir, ki bu simetrik ve pozitif tanımlı bir matris olsun. \n",
        "İşlev alt değişken üçgen matrisi L'yi döndürür.'''"
      ],
      "metadata": {
        "id": "dlKBVJU_-A2u"
      },
      "execution_count": null,
      "outputs": []
    },
    {
      "cell_type": "code",
      "source": [
        "from math import sqrt\n",
        "from pprint import pprint\n",
        "\n",
        "def cholesky(A):\n",
        "    n = len(A)\n",
        "    \n",
        "# L için sıfır matrisi oluşturmak\n",
        "    L = [[0.0] * n for i in range(n)]\n",
        "\n",
        "# Cholesky ayrıştırmasını gerçekleştirme\n",
        "    for i in range(n):\n",
        "        for k in range(i+1):\n",
        "            tmp_sum = sum(L[i][j] * L[k][j] for j in range(k))\n",
        "\n",
        "            if(i == k): # çapraz elemanlar\n",
        "               L[i][k] = sqrt(A[i][i] - tmp_sum)\n",
        "\n",
        "            else:\n",
        "               L[i][k] = (1.0 / L[k][k] * (A[i][k] - tmp_sum))\n",
        "\n",
        "    return L\n",
        "\n",
        "A = [[6, 3, 4, 8], [3, 6, 5, 1], [4, 5, 10, 7], [8, 1, 7, 25]]\n",
        "L = cholesky(A)\n",
        "\n",
        "print(\"A:\")\n",
        "pprint(A)\n",
        "\n",
        "print(\"L:\")\n",
        "pprint(L)\n",
        "\n",
        "print(\"U:\")\n",
        "pprint(U)\n",
        "\n",
        "\n",
        "\n"
      ],
      "metadata": {
        "colab": {
          "base_uri": "https://localhost:8080/"
        },
        "id": "WKIaMUeiZCUj",
        "outputId": "a8ff889b-fcd2-46eb-bd08-68ed5aa0fa4d"
      },
      "execution_count": null,
      "outputs": [
        {
          "output_type": "stream",
          "name": "stdout",
          "text": [
            "A:\n",
            "[[6, 3, 4, 8], [3, 6, 5, 1], [4, 5, 10, 7], [8, 1, 7, 25]]\n",
            "L:\n",
            "[[2.449489742783178, 0.0, 0.0, 0.0],\n",
            " [1.2247448713915892, 2.1213203435596424, 0.0, 0.0],\n",
            " [1.6329931618554523, 1.414213562373095, 2.309401076758503, 0.0],\n",
            " [3.2659863237109046,\n",
            "  -1.4142135623730956,\n",
            "  1.5877132402714704,\n",
            "  3.1324910215354165]]\n",
            "U:\n",
            "array([[ 2.44948974,  1.22474487,  1.63299316,  3.26598632],\n",
            "       [ 0.        ,  2.12132034,  1.41421356, -1.41421356],\n",
            "       [ 0.        ,  0.        ,  2.30940108,  1.58771324],\n",
            "       [ 0.        ,  0.        ,  0.        ,  3.13249102]])\n"
          ]
        }
      ]
    },
    {
      "cell_type": "code",
      "source": [
        "# Vektör Normları\n",
        "a = np.array([1, -2, 4, -5, 1, -8, 7, -2])\n",
        "l1 = np.sum(np.absolute(a))\n",
        "l2 = np.sqrt(np.sum(a ** 2))\n",
        "max_norm = np.max(np.abs(a))\n",
        "min_norm = np.min(np.abs(a))\n",
        "frobenius_norm = np.sqrt(np.sum(a ** 2))\n",
        "\n",
        "print(\"a    :\", a)\n",
        "print(\"l1 norm:\", l1.astype(np.float32))\n",
        "print(\"l2 norm:{:.2f}\".format(l2))\n",
        "print(\"max norm:\", max_norm.astype(np.float32))\n",
        "print(\"min norm:\", min_norm.astype(np.float32))\n",
        "print(\"frobenius norm:{:.2f}\".format(frobenius_norm))\n",
        "\n"
      ],
      "metadata": {
        "id": "2pH5HAKa_CZd",
        "colab": {
          "base_uri": "https://localhost:8080/"
        },
        "outputId": "8c2a4bcf-7d13-44d1-897b-95a25bcd1328"
      },
      "execution_count": null,
      "outputs": [
        {
          "output_type": "stream",
          "name": "stdout",
          "text": [
            "a    : [ 1 -2  4 -5  1 -8  7 -2]\n",
            "l1 norm: 30.0\n",
            "l2 norm:12.81\n",
            "max norm: 8.0\n",
            "min norm: 1.0\n",
            "frobenius norm:12.81\n"
          ]
        }
      ]
    },
    {
      "cell_type": "code",
      "source": [
        "# numpy.linalg.norm\n",
        "import math\n",
        "l1 = np.linalg.norm(a, ord=1)\n",
        "l2 = np.linalg.norm(a, ord=2)\n",
        "max_norm = np.linalg.norm(a, ord=math.inf)\n",
        "min_norm = np.linalg.norm(a, ord=math.inf)\n",
        "frobenius_norm = np.linalg.norm(a, ord=None)\n",
        "\n",
        "print(\"a    :\", a)\n",
        "print(\"l1 norm:\", l1.astype(np.float32))\n",
        "print(\"l2 norm:{:.2f}\".format(l2))\n",
        "print(\"max norm:\", max_norm.astype(np.float32))\n",
        "print(\"min norm:\", min_norm.astype(np.float32))\n",
        "print(\"frobenius norm:{:.2f}\".format(frobenius_norm))"
      ],
      "metadata": {
        "colab": {
          "base_uri": "https://localhost:8080/"
        },
        "id": "kRZM8-qpFW-m",
        "outputId": "6ee4ca3c-5e15-406f-e0a6-285d27586759"
      },
      "execution_count": null,
      "outputs": [
        {
          "output_type": "stream",
          "name": "stdout",
          "text": [
            "a    : [ 1 -2  4 -5  1 -8  7 -2]\n",
            "l1 norm: 30.0\n",
            "l2 norm:12.81\n",
            "max norm: 8.0\n",
            "min norm: 8.0\n",
            "frobenius norm:12.81\n"
          ]
        }
      ]
    }
  ]
}