{
  "nbformat": 4,
  "nbformat_minor": 0,
  "metadata": {
    "colab": {
      "provenance": [],
      "authorship_tag": "ABX9TyM87RELPehHGrODlFnl6bUl",
      "include_colab_link": true
    },
    "kernelspec": {
      "name": "python3",
      "display_name": "Python 3"
    },
    "language_info": {
      "name": "python"
    }
  },
  "cells": [
    {
      "cell_type": "markdown",
      "metadata": {
        "id": "view-in-github",
        "colab_type": "text"
      },
      "source": [
        "<a href=\"https://colab.research.google.com/github/merve-karagoz/ml_projects/blob/main/veri_bilimi_%C3%B6rnekleri.ipynb\" target=\"_parent\"><img src=\"https://colab.research.google.com/assets/colab-badge.svg\" alt=\"Open In Colab\"/></a>"
      ]
    },
    {
      "cell_type": "markdown",
      "source": [
        "**Loops and Range Örnekleri**"
      ],
      "metadata": {
        "id": "KtUOoSeexQPB"
      }
    },
    {
      "cell_type": "markdown",
      "source": [
        "1) Bir while döngüsü kullanarak ilk on doğal sayıyı yazdırın."
      ],
      "metadata": {
        "id": "ire4OzvNxldn"
      }
    },
    {
      "cell_type": "code",
      "execution_count": 1,
      "metadata": {
        "id": "MtWhwsAzwM7Z",
        "colab": {
          "base_uri": "https://localhost:8080/"
        },
        "outputId": "910ca3bd-de82-43dd-88b5-4432ff72958a"
      },
      "outputs": [
        {
          "output_type": "stream",
          "name": "stdout",
          "text": [
            "1\n",
            "2\n",
            "3\n",
            "4\n",
            "5\n",
            "6\n",
            "7\n",
            "8\n",
            "9\n",
            "10\n"
          ]
        }
      ],
      "source": [
        "x = 1\n",
        "while x <= 10:\n",
        "  print(x)\n",
        "  x = x + 1"
      ]
    },
    {
      "cell_type": "markdown",
      "source": [
        "2) Aşağıdaki listeyi yineleyin ve öğeleri yazdırın:\n",
        "\n",
        "list1 = [12, 15, 32, 42, 55, 75, 122, 132, 150, 180, 200]"
      ],
      "metadata": {
        "id": "4jM5cg-vxkp4"
      }
    },
    {
      "cell_type": "code",
      "source": [
        "list1 = [12, 15, 32, 42, 55, 75, 122, 132, 150, 180, 200]\n",
        "for list in list1:\n",
        "  print(list)"
      ],
      "metadata": {
        "colab": {
          "base_uri": "https://localhost:8080/"
        },
        "id": "-JQLl9mWwZiI",
        "outputId": "817c7871-19c3-42df-e7e5-6cd4df73c1ef"
      },
      "execution_count": null,
      "outputs": [
        {
          "output_type": "stream",
          "name": "stdout",
          "text": [
            "12\n",
            "15\n",
            "32\n",
            "42\n",
            "55\n",
            "75\n",
            "122\n",
            "132\n",
            "150\n",
            "180\n",
            "200\n"
          ]
        }
      ]
    },
    {
      "cell_type": "markdown",
      "source": [
        "3) Kullanıcıdan bir n sayısı alın ve çarpım tablosunu yazdırın:"
      ],
      "metadata": {
        "id": "VidthqXoyG0f"
      }
    },
    {
      "cell_type": "code",
      "source": [
        "n = int(input())\n",
        "\n",
        "for j in range(n):\n",
        "    print(\" - \" * 20)\n",
        "    print(j, \" 'ler \")\n",
        "    \n",
        "    print(\" - \" * 20)\n",
        "    for k in range(1,11):\n",
        "        print(j, \"x\", k, \" = \", j * k)\n"
      ],
      "metadata": {
        "colab": {
          "base_uri": "https://localhost:8080/"
        },
        "id": "LLdTuLrAwcxX",
        "outputId": "08561189-5ff9-4cc1-cb1c-e98fb18ed01d"
      },
      "execution_count": 2,
      "outputs": [
        {
          "output_type": "stream",
          "name": "stdout",
          "text": [
            "5\n",
            " -  -  -  -  -  -  -  -  -  -  -  -  -  -  -  -  -  -  -  - \n",
            "0  'ler \n",
            " -  -  -  -  -  -  -  -  -  -  -  -  -  -  -  -  -  -  -  - \n",
            "0 x 1  =  0\n",
            "0 x 2  =  0\n",
            "0 x 3  =  0\n",
            "0 x 4  =  0\n",
            "0 x 5  =  0\n",
            "0 x 6  =  0\n",
            "0 x 7  =  0\n",
            "0 x 8  =  0\n",
            "0 x 9  =  0\n",
            "0 x 10  =  0\n",
            " -  -  -  -  -  -  -  -  -  -  -  -  -  -  -  -  -  -  -  - \n",
            "1  'ler \n",
            " -  -  -  -  -  -  -  -  -  -  -  -  -  -  -  -  -  -  -  - \n",
            "1 x 1  =  1\n",
            "1 x 2  =  2\n",
            "1 x 3  =  3\n",
            "1 x 4  =  4\n",
            "1 x 5  =  5\n",
            "1 x 6  =  6\n",
            "1 x 7  =  7\n",
            "1 x 8  =  8\n",
            "1 x 9  =  9\n",
            "1 x 10  =  10\n",
            " -  -  -  -  -  -  -  -  -  -  -  -  -  -  -  -  -  -  -  - \n",
            "2  'ler \n",
            " -  -  -  -  -  -  -  -  -  -  -  -  -  -  -  -  -  -  -  - \n",
            "2 x 1  =  2\n",
            "2 x 2  =  4\n",
            "2 x 3  =  6\n",
            "2 x 4  =  8\n",
            "2 x 5  =  10\n",
            "2 x 6  =  12\n",
            "2 x 7  =  14\n",
            "2 x 8  =  16\n",
            "2 x 9  =  18\n",
            "2 x 10  =  20\n",
            " -  -  -  -  -  -  -  -  -  -  -  -  -  -  -  -  -  -  -  - \n",
            "3  'ler \n",
            " -  -  -  -  -  -  -  -  -  -  -  -  -  -  -  -  -  -  -  - \n",
            "3 x 1  =  3\n",
            "3 x 2  =  6\n",
            "3 x 3  =  9\n",
            "3 x 4  =  12\n",
            "3 x 5  =  15\n",
            "3 x 6  =  18\n",
            "3 x 7  =  21\n",
            "3 x 8  =  24\n",
            "3 x 9  =  27\n",
            "3 x 10  =  30\n",
            " -  -  -  -  -  -  -  -  -  -  -  -  -  -  -  -  -  -  -  - \n",
            "4  'ler \n",
            " -  -  -  -  -  -  -  -  -  -  -  -  -  -  -  -  -  -  -  - \n",
            "4 x 1  =  4\n",
            "4 x 2  =  8\n",
            "4 x 3  =  12\n",
            "4 x 4  =  16\n",
            "4 x 5  =  20\n",
            "4 x 6  =  24\n",
            "4 x 7  =  28\n",
            "4 x 8  =  32\n",
            "4 x 9  =  36\n",
            "4 x 10  =  40\n"
          ]
        }
      ]
    },
    {
      "cell_type": "markdown",
      "source": [
        "4) Bu listenin öğelerini dizinlerle birlikte yazdırmak için numaralandırma işlevini kullanın:\n",
        "\n",
        "grocery = ['bread', 'milk', 'butter']"
      ],
      "metadata": {
        "id": "Wnnxn9r9ySH7"
      }
    },
    {
      "cell_type": "code",
      "source": [
        "# enumerate function, bir listenin öğeleri üzerinde yinelenir ve bunlarla bir dizin ilişkilendirir.\n",
        "grocery = ['bread', 'milk', 'butter']\n",
        "for index, i in enumerate(grocery):\n",
        "    print(\"index \" + str(index) + \" : \" + str(i))"
      ],
      "metadata": {
        "colab": {
          "base_uri": "https://localhost:8080/"
        },
        "id": "uaTvJjA_wcoJ",
        "outputId": "3754e614-7c35-4d64-d5cd-6443cd039434"
      },
      "execution_count": null,
      "outputs": [
        {
          "output_type": "stream",
          "name": "stdout",
          "text": [
            "index 0 : bread\n",
            "index 1 : milk\n",
            "index 2 : butter\n"
          ]
        }
      ]
    },
    {
      "cell_type": "markdown",
      "source": [
        "5) Kullanıcıdan bir n sayısı alın ve 1 ile n arasındaki tüm sayıların toplamını bulun."
      ],
      "metadata": {
        "id": "XsG2Q81zyY71"
      }
    },
    {
      "cell_type": "code",
      "source": [
        "n2 = int(input())\n",
        "total = 0\n",
        "for i in range(total, n2):\n",
        "  total += i\n",
        "  print(total)"
      ],
      "metadata": {
        "colab": {
          "base_uri": "https://localhost:8080/"
        },
        "id": "xLJgeV9gzAg9",
        "outputId": "b0067b1f-ca46-488c-f3d7-20de35cb7f97"
      },
      "execution_count": 10,
      "outputs": [
        {
          "output_type": "stream",
          "name": "stdout",
          "text": [
            "5\n",
            "0\n",
            "1\n",
            "3\n",
            "6\n",
            "10\n"
          ]
        }
      ]
    },
    {
      "cell_type": "markdown",
      "source": [
        "6) 3'ten 5'e kadar bir sayı dizisi oluşturun ve dizideki her öğeyi yazdırın."
      ],
      "metadata": {
        "id": "sbuj5OfVycof"
      }
    },
    {
      "cell_type": "code",
      "source": [
        "for j in range(3, 5):\n",
        "  print(j, end=', ')"
      ],
      "metadata": {
        "colab": {
          "base_uri": "https://localhost:8080/"
        },
        "id": "iQBLEoQRwzGn",
        "outputId": "a8bb72a5-9606-4a16-846b-13a1729c9cea"
      },
      "execution_count": null,
      "outputs": [
        {
          "output_type": "stream",
          "name": "stdout",
          "text": [
            "3, 4, "
          ]
        }
      ]
    },
    {
      "cell_type": "markdown",
      "source": [
        "\n",
        "7) 3'ten 19'a kadar bir sayı dizisi oluşturun, ancak 1 yerine 2 artırın."
      ],
      "metadata": {
        "id": "rHwVEDbryeZ9"
      }
    },
    {
      "cell_type": "code",
      "source": [
        "for i in range(3, 19):\n",
        "  i += 2\n",
        "  print(i, end=', ')"
      ],
      "metadata": {
        "colab": {
          "base_uri": "https://localhost:8080/"
        },
        "id": "-UncvJ57zCHp",
        "outputId": "97758082-491a-4928-f891-ad51e1c18897"
      },
      "execution_count": null,
      "outputs": [
        {
          "output_type": "stream",
          "name": "stdout",
          "text": [
            "5, 6, 7, 8, 9, 10, 11, 12, 13, 14, 15, 16, 17, 18, 19, 20, "
          ]
        }
      ]
    },
    {
      "cell_type": "markdown",
      "source": [
        "8) \"Python\" dizisinin harflerini aynı satıra yazdırın:\n",
        "\n",
        "- Basit bir for döngüsü kullanma\n",
        "\n",
        "- range function kullanma"
      ],
      "metadata": {
        "id": "lrGBD1V9yiIW"
      }
    },
    {
      "cell_type": "code",
      "source": [
        "for i in \"Python\":\n",
        "  print(i, end=', ')"
      ],
      "metadata": {
        "colab": {
          "base_uri": "https://localhost:8080/"
        },
        "id": "mF-4PSIxwjqZ",
        "outputId": "b9f41a45-fc90-4861-8b0c-e503a00796fd"
      },
      "execution_count": 12,
      "outputs": [
        {
          "output_type": "stream",
          "name": "stdout",
          "text": [
            "P, y, t, h, o, n, "
          ]
        }
      ]
    },
    {
      "cell_type": "code",
      "source": [
        "for x in [0,5,1]:\n",
        "    print(x)"
      ],
      "metadata": {
        "colab": {
          "base_uri": "https://localhost:8080/"
        },
        "id": "HI8pZ5JA6yZR",
        "outputId": "6fc42da6-f480-43d4-93b9-d74c09bfb423"
      },
      "execution_count": 16,
      "outputs": [
        {
          "output_type": "stream",
          "name": "stdout",
          "text": [
            "0\n",
            "5\n",
            "1\n"
          ]
        }
      ]
    }
  ]
}