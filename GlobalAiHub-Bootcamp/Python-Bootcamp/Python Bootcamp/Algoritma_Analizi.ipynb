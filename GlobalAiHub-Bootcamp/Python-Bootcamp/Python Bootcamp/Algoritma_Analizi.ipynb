{
  "nbformat": 4,
  "nbformat_minor": 0,
  "metadata": {
    "colab": {
      "provenance": []
    },
    "kernelspec": {
      "name": "python3",
      "display_name": "Python 3"
    },
    "language_info": {
      "name": "python"
    }
  },
  "cells": [
    {
      "cell_type": "markdown",
      "source": [
        "**Akbank Python Bootcamp Algoritma Analizi**"
      ],
      "metadata": {
        "id": "oVRj4rQOUMfd"
      }
    },
    {
      "cell_type": "code",
      "source": [
        "def print_bootcamp_participant():\n",
        "  print(\"Hello Bootcamp Participants!\")"
      ],
      "metadata": {
        "id": "VKad6gy8URcA"
      },
      "execution_count": null,
      "outputs": []
    },
    {
      "cell_type": "code",
      "source": [
        "print_bootcamp_participant()"
      ],
      "metadata": {
        "colab": {
          "base_uri": "https://localhost:8080/"
        },
        "id": "gstrolErUR8L",
        "outputId": "44ba64e9-14b3-4468-ced3-f66b891a8763"
      },
      "execution_count": null,
      "outputs": [
        {
          "output_type": "stream",
          "name": "stdout",
          "text": [
            "Hello Bootcamp Participants!\n"
          ]
        }
      ]
    },
    {
      "cell_type": "code",
      "source": [
        "def print_return():\n",
        "  return \"Hello Bootcamp Participants!\""
      ],
      "metadata": {
        "id": "uT7LGZihURzi"
      },
      "execution_count": null,
      "outputs": []
    },
    {
      "cell_type": "code",
      "source": [
        "print_return"
      ],
      "metadata": {
        "colab": {
          "base_uri": "https://localhost:8080/"
        },
        "id": "xs7DuSj3URwr",
        "outputId": "2bd09436-c9bb-40b1-a559-c4bb612d0c3a"
      },
      "execution_count": null,
      "outputs": [
        {
          "output_type": "execute_result",
          "data": {
            "text/plain": [
              "<function __main__.print_return()>"
            ]
          },
          "metadata": {},
          "execution_count": 4
        }
      ]
    },
    {
      "cell_type": "code",
      "source": [
        "def parameter_func(name):\n",
        "  return \"Hello \" + name + \" You are a genius scientisit!\""
      ],
      "metadata": {
        "id": "-Yg3-ty2cprv"
      },
      "execution_count": null,
      "outputs": []
    },
    {
      "cell_type": "code",
      "source": [
        "parameter_func(\"Tesla\")"
      ],
      "metadata": {
        "colab": {
          "base_uri": "https://localhost:8080/",
          "height": 36
        },
        "id": "tGCyJCWIcpYv",
        "outputId": "386870a5-1ac2-433c-b7db-d95733ed7f88"
      },
      "execution_count": null,
      "outputs": [
        {
          "output_type": "execute_result",
          "data": {
            "text/plain": [
              "'Hello Tesla You are a genius scientisit!'"
            ],
            "application/vnd.google.colaboratory.intrinsic+json": {
              "type": "string"
            }
          },
          "metadata": {},
          "execution_count": 14
        }
      ]
    },
    {
      "cell_type": "code",
      "source": [
        "list = [1, 2, 3, 4]\n",
        "result = 0\n",
        "\n",
        "for i in list:\n",
        "  result += i\n",
        "print(result)"
      ],
      "metadata": {
        "id": "3s36I3NgcpV4",
        "colab": {
          "base_uri": "https://localhost:8080/"
        },
        "outputId": "676737d8-0794-48f0-c149-7dba9b8463a1"
      },
      "execution_count": null,
      "outputs": [
        {
          "output_type": "stream",
          "name": "stdout",
          "text": [
            "10\n"
          ]
        }
      ]
    },
    {
      "cell_type": "code",
      "source": [
        "def sum_list(list):\n",
        "  result = 0\n",
        "  for i in list:\n",
        "    result += i\n",
        "  print(result)"
      ],
      "metadata": {
        "id": "NRfphpfhcpTA"
      },
      "execution_count": null,
      "outputs": []
    },
    {
      "cell_type": "code",
      "source": [
        "sum_list(list)"
      ],
      "metadata": {
        "id": "4B48RMnPcpQP",
        "colab": {
          "base_uri": "https://localhost:8080/"
        },
        "outputId": "ac2376fb-ac1c-40bd-c591-ff1d0236a24f"
      },
      "execution_count": null,
      "outputs": [
        {
          "output_type": "stream",
          "name": "stdout",
          "text": [
            "10\n"
          ]
        }
      ]
    },
    {
      "cell_type": "code",
      "source": [
        "# o' dan n'e kadar değerlerin karelerinin toplamını bulacağımız bir algoritma yazın.\n",
        "def square_sum(n):\n",
        "  result = 0\n",
        "  for x in range(1, n+1):\n",
        "    result = result + x ** 2\n",
        "  return result"
      ],
      "metadata": {
        "id": "p-nrc8ZrcpMy"
      },
      "execution_count": null,
      "outputs": []
    },
    {
      "cell_type": "code",
      "source": [
        "square_sum(7)"
      ],
      "metadata": {
        "id": "oG050porcpJf",
        "colab": {
          "base_uri": "https://localhost:8080/"
        },
        "outputId": "5e7b56c8-10e4-4a98-ce23-62baad256068"
      },
      "execution_count": null,
      "outputs": [
        {
          "output_type": "execute_result",
          "data": {
            "text/plain": [
              "140"
            ]
          },
          "metadata": {},
          "execution_count": 21
        }
      ]
    },
    {
      "cell_type": "code",
      "source": [
        "# 2. yol\n",
        "def square_sum2(n):\n",
        "  return n * (n + 1) * (2 * n + 1)/6"
      ],
      "metadata": {
        "id": "rmXoe2L0cpHT"
      },
      "execution_count": null,
      "outputs": []
    },
    {
      "cell_type": "code",
      "source": [
        "square_sum2(7)"
      ],
      "metadata": {
        "id": "cEJ2sIlVcpFA",
        "colab": {
          "base_uri": "https://localhost:8080/"
        },
        "outputId": "2bfdd46c-7f3b-4941-f178-66ce3ad89acd"
      },
      "execution_count": null,
      "outputs": [
        {
          "output_type": "execute_result",
          "data": {
            "text/plain": [
              "140.0"
            ]
          },
          "metadata": {},
          "execution_count": 23
        }
      ]
    },
    {
      "cell_type": "code",
      "source": [
        "# %timeit fonksiyonu metotların hızını, runtime söyler\n",
        "%timeit square_sum(7) # microsecond -> 10 üzeri -6 -> for döngülü olan "
      ],
      "metadata": {
        "id": "EZ9okFdXco9D",
        "colab": {
          "base_uri": "https://localhost:8080/"
        },
        "outputId": "9bad0e7d-4142-43fe-ea94-af621f145474"
      },
      "execution_count": null,
      "outputs": [
        {
          "output_type": "stream",
          "name": "stdout",
          "text": [
            "2.07 µs ± 90.7 ns per loop (mean ± std. dev. of 7 runs, 1000000 loops each)\n"
          ]
        }
      ]
    },
    {
      "cell_type": "code",
      "source": [
        "%timeit square_sum2(7)  # nanosecond -> 10 üzeri -9 -> for döngüsüz olan "
      ],
      "metadata": {
        "id": "ouI3ZvuQco_w",
        "colab": {
          "base_uri": "https://localhost:8080/"
        },
        "outputId": "cfc9dba8-d408-4ea0-f9b8-416f9adf379c"
      },
      "execution_count": null,
      "outputs": [
        {
          "output_type": "stream",
          "name": "stdout",
          "text": [
            "147 ns ± 32.1 ns per loop (mean ± std. dev. of 7 runs, 10000000 loops each)\n"
          ]
        }
      ]
    },
    {
      "cell_type": "markdown",
      "source": [
        "**Big-O Notation**\n",
        "\n",
        "Tasarlanılan bir algoritmanın performansını ve zaman karmaşıklığını (time complexity) ölçmek için kullanılan bir metriktir. "
      ],
      "metadata": {
        "id": "BbhkgJ5VoxlN"
      }
    },
    {
      "cell_type": "code",
      "source": [
        "a = [2, 3, 4]\n",
        "b = [3, 2, 4]\n",
        "c = [3, 4, 2]"
      ],
      "metadata": {
        "id": "CqO3jKQxco6d"
      },
      "execution_count": null,
      "outputs": []
    },
    {
      "cell_type": "code",
      "source": [
        "# Constant 0(1)\n",
        "def constant_bigo(liste):\n",
        "  print(liste[0])"
      ],
      "metadata": {
        "id": "SBBpRrwQco33"
      },
      "execution_count": null,
      "outputs": []
    },
    {
      "cell_type": "code",
      "source": [
        "constant_bigo([1, 2, 3, 4, 5])"
      ],
      "metadata": {
        "id": "NTwRvbbAco1S",
        "colab": {
          "base_uri": "https://localhost:8080/"
        },
        "outputId": "a82c3d3e-38a6-4cf3-96cb-3cd8a47f5fad"
      },
      "execution_count": null,
      "outputs": [
        {
          "output_type": "stream",
          "name": "stdout",
          "text": [
            "1\n"
          ]
        }
      ]
    },
    {
      "cell_type": "code",
      "source": [
        "constant_bigo([10, 1, 2, 3, 4, 5, 6, 7, 8, 9])"
      ],
      "metadata": {
        "id": "AhgLEC9xcoyf",
        "colab": {
          "base_uri": "https://localhost:8080/"
        },
        "outputId": "30de2f01-062c-4e98-9ed6-fc20d02980f8"
      },
      "execution_count": null,
      "outputs": [
        {
          "output_type": "stream",
          "name": "stdout",
          "text": [
            "10\n"
          ]
        }
      ]
    },
    {
      "cell_type": "code",
      "source": [
        "# Linear 0(n)\n",
        "\n",
        "def linear_bigo_o(liste):\n",
        "  for i in liste:\n",
        "    print(i)"
      ],
      "metadata": {
        "id": "rHYhau7Ucotq"
      },
      "execution_count": null,
      "outputs": []
    },
    {
      "cell_type": "code",
      "source": [
        "linear_bigo_o([1, 2, 3, 4])"
      ],
      "metadata": {
        "colab": {
          "base_uri": "https://localhost:8080/"
        },
        "id": "Y5mtVir8rwdz",
        "outputId": "9f76f1ac-b502-401c-9c78-0be2f2b90cf5"
      },
      "execution_count": null,
      "outputs": [
        {
          "output_type": "stream",
          "name": "stdout",
          "text": [
            "1\n",
            "2\n",
            "3\n",
            "4\n"
          ]
        }
      ]
    },
    {
      "cell_type": "code",
      "source": [
        "# Cubic 0(n^3)\n",
        "# input = 3 -> output 3^3 = 27\n",
        "\n",
        "def cubic_bigo_o(liste):\n",
        "  for i in liste:\n",
        "     for j in liste:\n",
        "        for k in liste:\n",
        "          print(i, j, k)"
      ],
      "metadata": {
        "id": "Tk9lcGWXrwbd"
      },
      "execution_count": null,
      "outputs": []
    },
    {
      "cell_type": "code",
      "source": [
        "cubic_bigo_o([1, 2, 3, 4, 5])"
      ],
      "metadata": {
        "id": "Qf4htS1VrwOw"
      },
      "execution_count": null,
      "outputs": []
    },
    {
      "cell_type": "code",
      "source": [
        "# Calculatting Scale of Big-O\n",
        "# insignificant constant value \n",
        "# 0(n) -> Linear \n",
        "# 0(2n) -> Linear "
      ],
      "metadata": {
        "id": "xgDOwMLfrwJX"
      },
      "execution_count": null,
      "outputs": []
    },
    {
      "cell_type": "code",
      "source": [
        "def linear_bigo_o(liste):\n",
        "  for i in liste:\n",
        "    print(i)"
      ],
      "metadata": {
        "id": "49QzEJ1ouQv1"
      },
      "execution_count": null,
      "outputs": []
    },
    {
      "cell_type": "code",
      "source": [
        "linear_bigo_o([1, 3]) # O(n)"
      ],
      "metadata": {
        "colab": {
          "base_uri": "https://localhost:8080/"
        },
        "id": "ZydD0iqpuPpF",
        "outputId": "75a3235a-ce83-498a-bce5-66f9f2652110"
      },
      "execution_count": null,
      "outputs": [
        {
          "output_type": "stream",
          "name": "stdout",
          "text": [
            "1\n",
            "3\n"
          ]
        }
      ]
    },
    {
      "cell_type": "code",
      "source": [
        "def linear_bigo_o(liste):\n",
        "  for i in liste:\n",
        "    print(i)\n",
        "  for i in liste:\n",
        "    print(i)"
      ],
      "metadata": {
        "id": "oIL9iCXwuf35"
      },
      "execution_count": null,
      "outputs": []
    },
    {
      "cell_type": "code",
      "source": [
        "linear_bigo_o([1, 3]) # O(n)"
      ],
      "metadata": {
        "colab": {
          "base_uri": "https://localhost:8080/"
        },
        "id": "6uKpPcT0uyVi",
        "outputId": "805f79ee-4d95-4809-ed28-c9b040c6c735"
      },
      "execution_count": null,
      "outputs": [
        {
          "output_type": "stream",
          "name": "stdout",
          "text": [
            "1\n",
            "3\n",
            "1\n",
            "3\n"
          ]
        }
      ]
    },
    {
      "cell_type": "code",
      "source": [
        "# 0(1+n) -> n ifadesine sonsuz verelim ve test edelim \n",
        "# 0(1+n) ->  0(n)\n",
        "\n",
        "def example(liste):\n",
        "  print([liste[0]]) # 0(1)\n",
        "\n",
        "  for j in liste: # 0(n)\n",
        "    print(j)"
      ],
      "metadata": {
        "id": "l5nHMKJou5Ll"
      },
      "execution_count": null,
      "outputs": []
    }
  ]
}