{
  "nbformat": 4,
  "nbformat_minor": 0,
  "metadata": {
    "colab": {
      "provenance": []
    },
    "kernelspec": {
      "name": "python3",
      "display_name": "Python 3"
    },
    "language_info": {
      "name": "python"
    }
  },
  "cells": [
    {
      "cell_type": "markdown",
      "source": [
        "Exercise - Coding Challenge"
      ],
      "metadata": {
        "id": "KKGHk48n4M_-"
      }
    },
    {
      "cell_type": "markdown",
      "source": [
        "1. Consider two numbers, a = 5, b = 16. Write a Python program to print the sum of these two numbers."
      ],
      "metadata": {
        "id": "YAuf39A_Fzmq"
      }
    },
    {
      "cell_type": "code",
      "source": [
        "a = 5\n",
        "b = 16\n",
        "\n",
        "c = a + b\n",
        "\n",
        "print(c)"
      ],
      "metadata": {
        "colab": {
          "base_uri": "https://localhost:8080/"
        },
        "id": "QJdYoBib4CUn",
        "outputId": "391588a8-ebd3-486e-90b7-0115ef9a023e"
      },
      "execution_count": null,
      "outputs": [
        {
          "output_type": "stream",
          "name": "stdout",
          "text": [
            "21\n"
          ]
        }
      ]
    },
    {
      "cell_type": "markdown",
      "source": [
        "2. Write a Python program to take a number from the user as input and print the cube of the number."
      ],
      "metadata": {
        "id": "lEbVbDaBF7yW"
      }
    },
    {
      "cell_type": "code",
      "execution_count": null,
      "metadata": {
        "colab": {
          "base_uri": "https://localhost:8080/"
        },
        "id": "01S32nnV3w6i",
        "outputId": "1825f72b-4e19-4d53-f080-1b1af95e4bc9"
      },
      "outputs": [
        {
          "output_type": "stream",
          "name": "stdout",
          "text": [
            "Please Enter Any Numeric Value:10\n",
            "The Cube of a Given Number:10 = 1000\n"
          ]
        }
      ],
      "source": [
        "num = int(input(\"Please Enter Any Numeric Value:\"))\n",
        "\n",
        "cube = num ** 3\n",
        "\n",
        "print(\"The Cube of a Given Number:{0} = {1}\".format(num, cube))"
      ]
    },
    {
      "cell_type": "markdown",
      "source": [
        "3. Consider the given two list of numbers. L1 = [10, 20, 30, 25, 32, 45, 50] and L2 = [80, 70, 78, 55, 62]. Write a Python program that will add all the numbers present in L1 and assign the sum to a variable S1, similarly, add all the numbers present in L2 and assign the sum to a variable S2. Select the correct value of (S1 - S2)."
      ],
      "metadata": {
        "id": "UcOg94C_FdGq"
      }
    },
    {
      "cell_type": "code",
      "source": [
        "L1 = [10, 20, 30, 25, 32, 45, 50]\n",
        "S1 = sum(L1)\n",
        "print(S1)\n",
        "\n",
        "L2 = [80, 70, 78, 55, 62]\n",
        "S2 = sum(L2)\n",
        "print(S2)\n",
        "\n",
        "S1 - S2"
      ],
      "metadata": {
        "colab": {
          "base_uri": "https://localhost:8080/"
        },
        "id": "78mf-xo2Fhoc",
        "outputId": "bbe5a639-a8c8-4582-aaa7-80ea740c512a"
      },
      "execution_count": null,
      "outputs": [
        {
          "output_type": "stream",
          "name": "stdout",
          "text": [
            "212\n",
            "345\n"
          ]
        },
        {
          "output_type": "execute_result",
          "data": {
            "text/plain": [
              "-133"
            ]
          },
          "metadata": {},
          "execution_count": 19
        }
      ]
    }
  ]
}