{
  "nbformat": 4,
  "nbformat_minor": 0,
  "metadata": {
    "colab": {
      "provenance": []
    },
    "kernelspec": {
      "name": "python3",
      "display_name": "Python 3"
    },
    "language_info": {
      "name": "python"
    }
  },
  "cells": [
    {
      "cell_type": "markdown",
      "source": [
        "**Numpy**\n",
        "\n",
        "* Numerical Python Numpy popüler olarak bilimsel bilgi işlem için çekirdek kitaplık olarak bilinir. Yüksek performanslı çok boyutlu array nesnesi ve bu nesnelerle çalışmak için araçlar sağlar.\n",
        "\n"
      ],
      "metadata": {
        "id": "ASds6On-C1gL"
      }
    },
    {
      "cell_type": "markdown",
      "source": [
        "**1. Python Liste ve Numpy Array Karşılaştırması**\n",
        "\n",
        "* numpy ve kütüphanelerini içe aktarmaya başlıyoruz timeit. \n",
        "\n",
        "* Numpy, belirttiğimiz gibi, çok boyutlu veya n boyutlu dizilerle bilimsel hesaplama ve yüksek performanslı görevlerin yürütülmesini sağlar. \n",
        "\n",
        "* Timer Kütüphaneden gelen modül, belirli timeit komut dosyalarının aldığı süreyi hesaplamak amacıyla kullanılır."
      ],
      "metadata": {
        "id": "hfLCbsdFC1yl"
      }
    },
    {
      "cell_type": "code",
      "source": [
        "import numpy as np\n",
        "from timeit import Timer"
      ],
      "metadata": {
        "id": "SpMt3ZpODu25"
      },
      "execution_count": null,
      "outputs": []
    },
    {
      "cell_type": "markdown",
      "source": [
        "İçe aktarılan kitaplıklarla, [0, 9999] aralığındaki sayılarla iki örnek dizi oluşturmaya devam ediyoruz:"
      ],
      "metadata": {
        "id": "zipZ_QxlC14g"
      }
    },
    {
      "cell_type": "code",
      "source": [
        "size_of_vec = 10000\n",
        "X_list = range(size_of_vec)\n",
        "Y_list = range(size_of_vec)\n",
        "X = np.arange(size_of_vec)\n",
        "Y = np.arange(size_of_vec)"
      ],
      "metadata": {
        "id": "P6dmhsjCEBle"
      },
      "execution_count": null,
      "outputs": []
    },
    {
      "cell_type": "markdown",
      "source": [
        "Python biri açık bir şekilde ile ve diğeri ile geliştirilen iki komut dosyasının performansını karşılaştırmak için Numpy iki kullanıcı işlevi tanımladık:"
      ],
      "metadata": {
        "id": "dzv7V0ZUC2AL"
      }
    },
    {
      "cell_type": "code",
      "source": [
        "def pure_python_version():\n",
        "  Z = []\n",
        "for i in range(len(X_list)):\n",
        "  Z.append(X_list[i] + Y_list[i])\n",
        "\n",
        "def numpy_version():\n",
        "  Z = X + Y"
      ],
      "metadata": {
        "colab": {
          "base_uri": "https://localhost:8080/",
          "height": 235
        },
        "id": "DBxAkT5SGmWC",
        "outputId": "e9f07f17-63a3-4510-b9ca-2c2a32c86af9"
      },
      "execution_count": null,
      "outputs": [
        {
          "output_type": "error",
          "ename": "NameError",
          "evalue": "ignored",
          "traceback": [
            "\u001b[0;31m---------------------------------------------------------------------------\u001b[0m",
            "\u001b[0;31mNameError\u001b[0m                                 Traceback (most recent call last)",
            "\u001b[0;32m<ipython-input-4-c28a8e196219>\u001b[0m in \u001b[0;36m<cell line: 3>\u001b[0;34m()\u001b[0m\n\u001b[1;32m      2\u001b[0m   \u001b[0mZ\u001b[0m \u001b[0;34m=\u001b[0m \u001b[0;34m[\u001b[0m\u001b[0;34m]\u001b[0m\u001b[0;34m\u001b[0m\u001b[0;34m\u001b[0m\u001b[0m\n\u001b[1;32m      3\u001b[0m \u001b[0;32mfor\u001b[0m \u001b[0mi\u001b[0m \u001b[0;32min\u001b[0m \u001b[0mrange\u001b[0m\u001b[0;34m(\u001b[0m\u001b[0mlen\u001b[0m\u001b[0;34m(\u001b[0m\u001b[0mX_list\u001b[0m\u001b[0;34m)\u001b[0m\u001b[0;34m)\u001b[0m\u001b[0;34m:\u001b[0m\u001b[0;34m\u001b[0m\u001b[0;34m\u001b[0m\u001b[0m\n\u001b[0;32m----> 4\u001b[0;31m   \u001b[0mZ\u001b[0m\u001b[0;34m.\u001b[0m\u001b[0mappend\u001b[0m\u001b[0;34m(\u001b[0m\u001b[0mX_list\u001b[0m\u001b[0;34m[\u001b[0m\u001b[0mi\u001b[0m\u001b[0;34m]\u001b[0m \u001b[0;34m+\u001b[0m \u001b[0mY_list\u001b[0m\u001b[0;34m[\u001b[0m\u001b[0mi\u001b[0m\u001b[0;34m]\u001b[0m\u001b[0;34m)\u001b[0m\u001b[0;34m\u001b[0m\u001b[0;34m\u001b[0m\u001b[0m\n\u001b[0m\u001b[1;32m      5\u001b[0m \u001b[0;34m\u001b[0m\u001b[0m\n\u001b[1;32m      6\u001b[0m \u001b[0;32mdef\u001b[0m \u001b[0mnumpy_version\u001b[0m\u001b[0;34m(\u001b[0m\u001b[0;34m)\u001b[0m\u001b[0;34m:\u001b[0m\u001b[0;34m\u001b[0m\u001b[0;34m\u001b[0m\u001b[0m\n",
            "\u001b[0;31mNameError\u001b[0m: name 'Z' is not defined"
          ]
        }
      ]
    },
    {
      "cell_type": "markdown",
      "source": [],
      "metadata": {
        "id": "HY_QMwiCC2Iz"
      }
    },
    {
      "cell_type": "markdown",
      "source": [],
      "metadata": {
        "id": "cehQnS2ZC2M-"
      }
    },
    {
      "cell_type": "markdown",
      "source": [],
      "metadata": {
        "id": "DgXVMX_-C2Pr"
      }
    },
    {
      "cell_type": "markdown",
      "source": [],
      "metadata": {
        "id": "CoikQ-mIC2SX"
      }
    },
    {
      "cell_type": "markdown",
      "source": [],
      "metadata": {
        "id": "uSA0B1O9C2Vk"
      }
    },
    {
      "cell_type": "markdown",
      "source": [],
      "metadata": {
        "id": "xh79kX0vC2YJ"
      }
    },
    {
      "cell_type": "markdown",
      "source": [],
      "metadata": {
        "id": "Dz3t3oAhC2ai"
      }
    },
    {
      "cell_type": "markdown",
      "source": [],
      "metadata": {
        "id": "X2UQ03MJC2dU"
      }
    }
  ]
}