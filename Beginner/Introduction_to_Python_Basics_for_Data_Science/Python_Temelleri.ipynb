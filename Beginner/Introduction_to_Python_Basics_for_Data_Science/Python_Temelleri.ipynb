{
  "nbformat": 4,
  "nbformat_minor": 0,
  "metadata": {
    "colab": {
      "provenance": []
    },
    "kernelspec": {
      "name": "python3",
      "display_name": "Python 3"
    },
    "language_info": {
      "name": "python"
    }
  },
  "cells": [
    {
      "cell_type": "markdown",
      "source": [
        "**Python'da Değişkenler, Veri Tipleri ve Operatörler Yorumlar**\n",
        "\n",
        "Python'da yorumlar, programın yürütülmesi sırasında yorumlayıcı tarafından yok sayılan koddaki satırlardır.\n",
        "\n",
        "Python'da üç tür yorum vardır:\n",
        "\n",
        "*   Tek satır Yorumlar\n",
        "\n",
        "*   Çok Satırlı Yorumlar\n",
        "\n",
        "*   Doküman Yorumları\n"
      ],
      "metadata": {
        "id": "86AWMlhYM-Fq"
      }
    },
    {
      "cell_type": "markdown",
      "source": [
        "**Tek Satır Yorumlar (#)**\n",
        "\n",
        "Python tek satırlık yorum, boşluk bırakmadan hashtag sembolü (#) ile başlar ve satırın sonuna kadar devam eder."
      ],
      "metadata": {
        "id": "jfC7IT0rNlpJ"
      }
    },
    {
      "cell_type": "markdown",
      "source": [
        "**Çok Satırlı Yorumlar (\" \" \"yorum\" \" \")**\n",
        "\n",
        "Birden Çok Hashtag Kullanma  "
      ],
      "metadata": {
        "id": "V6d_6OEuN0NH"
      }
    },
    {
      "cell_type": "markdown",
      "source": [
        "**Python'da Operatörler**\n"
      ],
      "metadata": {
        "id": "AmTgqF42Oto-"
      }
    },
    {
      "cell_type": "code",
      "source": [
        "# Aritmetik Operatör Örnekleri\n",
        "x = 7\n",
        "y = 3\n",
        "\n",
        "# x ve y'nin Toplanması\n",
        "add = x + y \n",
        "\n",
        "# y'nin x'ten çıkarılması\n",
        "sub = x - y\n",
        "\n",
        "# x ve y'nin çarpımı\n",
        "mul = x * y\n",
        "\n",
        "# Bölme(float) sayı\n",
        "div_float = x / y\n",
        "\n",
        "# Sayının bölümü(kat)\n",
        "div_floor = x // y\n",
        "\n",
        "# İki sayının Mod\n",
        "mod = x % y\n",
        "\n",
        "# power\n",
        "pow = x ** y\n",
        "\n",
        "# sonuçları yazdır (print)\n",
        "print(add)\n",
        "print(sub)\n",
        "print(mul)\n",
        "print(div_float)\n",
        "print(div_floor)\n",
        "print(mod)\n",
        "print(pow)"
      ],
      "metadata": {
        "colab": {
          "base_uri": "https://localhost:8080/"
        },
        "id": "n52wSOf2OF4z",
        "outputId": "6ee0d3d8-9b92-4161-8b84-e2b84cebf1b0"
      },
      "execution_count": null,
      "outputs": [
        {
          "output_type": "stream",
          "name": "stdout",
          "text": [
            "10\n",
            "4\n",
            "21\n",
            "2.3333333333333335\n",
            "2\n",
            "1\n",
            "343\n"
          ]
        }
      ]
    },
    {
      "cell_type": "markdown",
      "source": [
        "**Karşılaştırma Operatörleri**\n",
        "\n",
        "İlişkisel işleçlerin karşılaştırılması değerleri karşılaştırır. Koşula göre True veya False döndürür."
      ],
      "metadata": {
        "id": "-BlJDsosQH8P"
      }
    },
    {
      "cell_type": "code",
      "source": [
        "# İlişkisel Operatör Örnekleri\n",
        "a = 9\n",
        "b = 17\n",
        "\n",
        "# a > b, Yanlış\n",
        "print( a > b )\n",
        "\n",
        "# a < b, Doğru\n",
        "print( a < b )\n",
        "\n",
        "# a == b, Yanlış\n",
        "print( a == b )\n",
        "\n",
        "# a != b, Doğru\n",
        "print( a != b )\n",
        "\n",
        "# a >= b, Yanlış\n",
        "print( a >= b )\n",
        "\n",
        "# a <= b, Doğru\n",
        "print( a <= b )"
      ],
      "metadata": {
        "colab": {
          "base_uri": "https://localhost:8080/"
        },
        "id": "vL3-mcUOQQpy",
        "outputId": "9532b550-0ae1-408b-a0d3-3577687d94f1"
      },
      "execution_count": null,
      "outputs": [
        {
          "output_type": "stream",
          "name": "stdout",
          "text": [
            "False\n",
            "True\n",
            "False\n",
            "True\n",
            "False\n",
            "True\n"
          ]
        }
      ]
    },
    {
      "cell_type": "markdown",
      "source": [
        "**Mantıksal Operatörler**\n",
        "\n",
        "Mantıksal işleçler, Mantıksal AND, Mantıksal OR ve Mantıksal DEĞİL işlemlerini gerçekleştirir. \n",
        "\n",
        "Koşullu ifadeleri birleştirmek için kullanılır."
      ],
      "metadata": {
        "id": "WV8t73N5QK5W"
      }
    },
    {
      "cell_type": "code",
      "source": [
        "# Mantıksal Operatör Örnekleri\n",
        "a = True\n",
        "b = False\n",
        "\n",
        "# Print a and b is False\n",
        "print(a and b)\n",
        "\n",
        "# Print a or b is True\n",
        "print(a or b)\n",
        "\n",
        "# Print not a is False\n",
        "print(not a)"
      ],
      "metadata": {
        "colab": {
          "base_uri": "https://localhost:8080/"
        },
        "id": "aiBPyANqP1UL",
        "outputId": "04a8eb48-11a6-4bcd-fe0b-5060a1ae07f7"
      },
      "execution_count": null,
      "outputs": [
        {
          "output_type": "stream",
          "name": "stdout",
          "text": [
            "False\n",
            "True\n",
            "False\n"
          ]
        }
      ]
    },
    {
      "cell_type": "markdown",
      "source": [
        "**Python Değişkeni**\n",
        "\n",
        "Python Değişkenleri, değerleri depolayan kaplardır."
      ],
      "metadata": {
        "id": "Q26kkgi5RUn8"
      }
    },
    {
      "cell_type": "code",
      "source": [
        "variable = \"I Love Python\"\n",
        "print(variable)"
      ],
      "metadata": {
        "colab": {
          "base_uri": "https://localhost:8080/"
        },
        "id": "kknEzF3oRXDk",
        "outputId": "5f057705-c2f6-449e-969d-0435f51c6b6d"
      },
      "execution_count": null,
      "outputs": [
        {
          "output_type": "stream",
          "name": "stdout",
          "text": [
            "I Love Python\n"
          ]
        }
      ]
    },
    {
      "cell_type": "code",
      "source": [
        "# integer\n",
        "age = 15\n",
        "\n",
        "# float\n",
        "net_worth = 35.5\n",
        "\n",
        "# string\n",
        "name = \"İzmir\"\n",
        "\n",
        "print(age)\n",
        "print(net_worth)\n",
        "print(name)"
      ],
      "metadata": {
        "colab": {
          "base_uri": "https://localhost:8080/"
        },
        "id": "MuhWM644RcNk",
        "outputId": "2ee43b0b-7a94-4537-ffc8-f0714ed0ffa4"
      },
      "execution_count": null,
      "outputs": [
        {
          "output_type": "stream",
          "name": "stdout",
          "text": [
            "15\n",
            "35.5\n",
            "İzmir\n"
          ]
        }
      ]
    },
    {
      "cell_type": "code",
      "source": [
        "# Birden çok değişkene tek bir değer atama\n",
        "a = b = c = 6\n",
        "\n",
        "print(a)\n",
        "print(b)\n",
        "print(c)"
      ],
      "metadata": {
        "colab": {
          "base_uri": "https://localhost:8080/"
        },
        "id": "JDE9M5gDRcD0",
        "outputId": "f63ecf73-8a57-4490-adeb-ea1afa86995a"
      },
      "execution_count": null,
      "outputs": [
        {
          "output_type": "stream",
          "name": "stdout",
          "text": [
            "6\n",
            "6\n",
            "6\n"
          ]
        }
      ]
    },
    {
      "cell_type": "markdown",
      "source": [
        "**Python'da Input ve Output**\n",
        "\n",
        "Python'da Kullanıcıdan Girdi Alma "
      ],
      "metadata": {
        "id": "DoD-pLqYSVnv"
      }
    },
    {
      "cell_type": "code",
      "source": [
        "# Integer input\n",
        "x = int(input())"
      ],
      "metadata": {
        "colab": {
          "base_uri": "https://localhost:8080/"
        },
        "id": "sXwpAPSgSTi3",
        "outputId": "ceaa7492-2a5e-402a-a7da-3fa4d0bb666b"
      },
      "execution_count": null,
      "outputs": [
        {
          "name": "stdout",
          "output_type": "stream",
          "text": [
            "3\n"
          ]
        }
      ]
    },
    {
      "cell_type": "code",
      "source": [
        "# String input\n",
        "x = input()"
      ],
      "metadata": {
        "colab": {
          "base_uri": "https://localhost:8080/"
        },
        "id": "2J78s5nKSTZ5",
        "outputId": "3a003372-c446-4bc4-c934-7934ed144c1e"
      },
      "execution_count": null,
      "outputs": [
        {
          "name": "stdout",
          "output_type": "stream",
          "text": [
            "Karşıyaka\n"
          ]
        }
      ]
    },
    {
      "cell_type": "code",
      "source": [
        "# Python'da Birden Fazla Girdi Alma\n",
        "x, y, z = map(int, input(\"Kullanıcıdan girdi olarak birden çok sayı alma: \").split())\n",
        "print(\"Sayılar şu şekildedir: \" ,end = \" \")\n",
        "print(x, y, z)"
      ],
      "metadata": {
        "colab": {
          "base_uri": "https://localhost:8080/"
        },
        "id": "g8POkJDvSTQa",
        "outputId": "4e417158-3a49-4bff-a639-ce0f63ae83a2"
      },
      "execution_count": null,
      "outputs": [
        {
          "output_type": "stream",
          "name": "stdout",
          "text": [
            "Kullanıcıdan girdi olarak birden çok sayı alma: 5 1 4\n",
            "Sayılar şu şekildedir:  5 1 4\n"
          ]
        }
      ]
    },
    {
      "cell_type": "markdown",
      "source": [
        "**Veri Yapıları ve Veri Tipleri - 1**\n",
        "\n",
        "Veri yapısı, verimli erişim ve değişiklik sağlayan bir veri organizasyonu, yönetimi ve depolama biçimidir.\n",
        "\n",
        "* Metin Türü: str\n",
        "\n",
        "* Sayısal Türler: int, float, complex\n",
        "\n",
        "* Sıra Türleri: liste, demet, range\n",
        "\n",
        "* Mapping Type: dict\n",
        "\n",
        "* Set Types: set, frozenset\n",
        "\n",
        "* Boolean Type: bool\n",
        "\n",
        "* Binary Types: bytes, bytearray, memoryview\n",
        "\n",
        "* None Type: NoneType\n"
      ],
      "metadata": {
        "id": "-Df7g0ERUP3p"
      }
    },
    {
      "cell_type": "code",
      "source": [
        "x = \"Data Science\"\n",
        "print(x, type(x))\n",
        "\n",
        "x = 17\n",
        "print(x, type(x))\n",
        "\n",
        "x = 35.5\n",
        "print(x, type(x))\n",
        "\n",
        "x = 7j\n",
        "print(x, type(x))\n",
        "\n",
        "x = [\"ai\", \"ml\", \"dl\", \"python\"]\n",
        "print(x, type(x))\n",
        "\n",
        "x = (\"ai\", \"ml\", \"dl\", \"python\")\n",
        "print(x, type(x))\n",
        "\n",
        "x = range(7)\n",
        "print(x, type(x))\n",
        "\n",
        "x = {\"name\" : \"Tesla\", \"age\" : 35}\n",
        "print(x, type(x))\n",
        "\n",
        "x = {\"ai\", \"ml\", \"dl\", \"python\"}\n",
        "print(x, type(x))\n",
        "\n",
        "x = False\n",
        "print(x, type(x))"
      ],
      "metadata": {
        "colab": {
          "base_uri": "https://localhost:8080/"
        },
        "id": "JAOEkb8hSTWp",
        "outputId": "e644fa23-b1b7-4d99-bf02-90df52509195"
      },
      "execution_count": null,
      "outputs": [
        {
          "output_type": "stream",
          "name": "stdout",
          "text": [
            "Data Science <class 'str'>\n",
            "17 <class 'int'>\n",
            "35.5 <class 'float'>\n",
            "7j <class 'complex'>\n",
            "['ai', 'ml', 'dl', 'python'] <class 'list'>\n",
            "('ai', 'ml', 'dl', 'python') <class 'tuple'>\n",
            "range(0, 7) <class 'range'>\n",
            "{'name': 'Tesla', 'age': 35} <class 'dict'>\n",
            "{'ai', 'ml', 'dl', 'python'} <class 'set'>\n",
            "False <class 'bool'>\n"
          ]
        }
      ]
    },
    {
      "cell_type": "markdown",
      "source": [
        "**Strings**"
      ],
      "metadata": {
        "id": "diEKcUt1Wvbz"
      }
    },
    {
      "cell_type": "markdown",
      "source": [
        "Dizeler, birden çok değeri organize ve verimli bir şekilde saklamamıza izin veren bir karakter dizisidir."
      ],
      "metadata": {
        "id": "B9qSvHYXMtoy"
      }
    },
    {
      "cell_type": "code",
      "source": [
        "print(\"Artificial Intelligence\")"
      ],
      "metadata": {
        "colab": {
          "base_uri": "https://localhost:8080/"
        },
        "id": "3lxyzvZAM2Wv",
        "outputId": "25c1c874-bb76-43a1-ffac-0dd815c4ea77"
      },
      "execution_count": 1,
      "outputs": [
        {
          "output_type": "stream",
          "name": "stdout",
          "text": [
            "Artificial Intelligence\n"
          ]
        }
      ]
    },
    {
      "cell_type": "code",
      "source": [
        "# Python'da bir diziyi yinelemek için “for…in” gösterimi kullanılır.\n",
        "str = \"Ai\"\n",
        "for x in str:\n",
        "  print(x)"
      ],
      "metadata": {
        "id": "2Tk0FbM6WvHa",
        "colab": {
          "base_uri": "https://localhost:8080/"
        },
        "outputId": "cda46d0b-5412-4c8b-ad30-1f275db4c6c2"
      },
      "execution_count": 2,
      "outputs": [
        {
          "output_type": "stream",
          "name": "stdout",
          "text": [
            "A\n",
            "i\n"
          ]
        }
      ]
    },
    {
      "cell_type": "markdown",
      "source": [
        "len() işlevi, bir nesnenin uzunluğunu belirlemek için kullanılabilir. Dizelerin, listelerin, kümelerin ve diğer sayılabilir nesnelerin uzunluğunu hesaplamak için kullanılabilir.\n",
        "\n",
        " Python, iki dizenin içeriğini tek bir dizide birleştirmek için + operatörünü sağlar. Dizeleri birleştirme işlemine birleştirme denir."
      ],
      "metadata": {
        "id": "__xC01BFN4lo"
      }
    },
    {
      "cell_type": "code",
      "source": [
        "x = \"Artificial \"\n",
        "y = \"Intelligence\"\n",
        "\n",
        "z = x + y\n",
        "print(z)\n",
        "print(len(z))"
      ],
      "metadata": {
        "colab": {
          "base_uri": "https://localhost:8080/"
        },
        "id": "hv7r9zX0NeEm",
        "outputId": "145f2f28-0e84-4e0b-eda8-8fbd635d83b3"
      },
      "execution_count": 5,
      "outputs": [
        {
          "output_type": "stream",
          "name": "stdout",
          "text": [
            "Artificial Intelligence\n",
            "23\n"
          ]
        }
      ]
    },
    {
      "cell_type": "code",
      "source": [
        "# .lower() dize yöntemi, tüm büyük harflerin küçük harfe dönüştürüldüğü bir dize döndürür.\n",
        "print(z.lower())"
      ],
      "metadata": {
        "colab": {
          "base_uri": "https://localhost:8080/"
        },
        "id": "yiezZuyJNlpe",
        "outputId": "fdaab842-203c-458c-bc0b-cbe2a721e1b7"
      },
      "execution_count": 6,
      "outputs": [
        {
          "output_type": "stream",
          "name": "stdout",
          "text": [
            "artificial intelligence\n"
          ]
        }
      ]
    },
    {
      "cell_type": "markdown",
      "source": [
        "**Dize Öğelerine Erişim**"
      ],
      "metadata": {
        "id": "1Xx8S5VLN_f7"
      }
    },
    {
      "cell_type": "code",
      "source": [
        "String1 = \"Artificial Intelligence\"\n",
        "\n",
        "print(\"Initial String: \")\n",
        "print(String1)\n",
        "\n",
        "# İlk karakter\n",
        "print(\"\\nFirst character of String is: \")\n",
        "print(String1[0])\n",
        "\n",
        "# Son karakter\n",
        "print(\"\\nLast character of String is: \")\n",
        "print(String1[-1])"
      ],
      "metadata": {
        "colab": {
          "base_uri": "https://localhost:8080/"
        },
        "id": "Z0nDCmEuNilR",
        "outputId": "45f788a6-5350-42fe-8128-34a4a3ed42cb"
      },
      "execution_count": 7,
      "outputs": [
        {
          "output_type": "stream",
          "name": "stdout",
          "text": [
            "Initial String: \n",
            "Artificial Intelligence\n",
            "\n",
            "First character of String is: \n",
            "A\n",
            "\n",
            "Last character of String is: \n",
            "e\n"
          ]
        }
      ]
    },
    {
      "cell_type": "markdown",
      "source": [
        "**Dizeleri Dizinleme ve Dilimleme (Indexing and Slicing Strings)**\n",
        "\n",
        "Python dizileri, karakter listeleri olduğundan, listelerle aynı gösterim kullanılarak dizine eklenebilir. \n",
        "\n",
        "Köşeli parantez notasyonuyla ([index]) tek bir karaktere erişilebilir veya dilimleme ([start:end]) kullanılarak bir alt dizeye erişilebilir.\n",
        "\n",
        "Negatif sayılarla indeksleme, dizgenin sonundan itibaren sayılır."
      ],
      "metadata": {
        "id": "dUF-B4HyPmDO"
      }
    },
    {
      "cell_type": "code",
      "source": [
        "str = 'algorithm'\n",
        "str[1] # => 'l'\n",
        "str[-1] # => 'm'\n",
        "str[4:6] # => 'ri'\n",
        "str[:4] # => 'algo'\n",
        "str[-3:] # => 'thm'"
      ],
      "metadata": {
        "colab": {
          "base_uri": "https://localhost:8080/",
          "height": 36
        },
        "id": "mk_FzxWNNpR5",
        "outputId": "2033d481-d487-4575-a8bc-d3baec7a3514"
      },
      "execution_count": 8,
      "outputs": [
        {
          "output_type": "execute_result",
          "data": {
            "text/plain": [
              "'thm'"
            ],
            "application/vnd.google.colaboratory.intrinsic+json": {
              "type": "string"
            }
          },
          "metadata": {},
          "execution_count": 8
        }
      ]
    },
    {
      "cell_type": "markdown",
      "source": [
        "**String Method .strip()**\n",
        "\n",
        ".strip() dize yöntemi, bir dizenin başındaki ve sonundaki karakterleri kaldırmak için kullanılabilir.\n",
        "\n",
        "Ayıklanacak karakter kümesini belirten bir dize bağımsız değişkeni yönteme iletilebilir. Yöntemde hiçbir argüman olmadan boşluk kaldırılır."
      ],
      "metadata": {
        "id": "MLXYmdo-Qf52"
      }
    },
    {
      "cell_type": "code",
      "source": [
        "text1 = ' apples and oranges '\n",
        "text1.strip() # => 'apples and oranges'\n",
        "\n",
        "text2 = '...+...lemons and limes...-...'\n",
        "\n",
        "# Here we strip just the \".\" characters\n",
        "text2.strip('.') # => '+...lemons and limes...-'\n",
        "\n",
        "# Here we strip both \".\" and \"+\" characters\n",
        "text2.strip('.+') # => 'lemons and limes...-'\n",
        "\n",
        "# Here we strip \".\", \"+\", and \"-\" characters\n",
        "text2.strip('.+-') # => 'lemons and limes'"
      ],
      "metadata": {
        "colab": {
          "base_uri": "https://localhost:8080/",
          "height": 36
        },
        "id": "v8G861LwQWgs",
        "outputId": "dfb94ce5-f07b-4460-ccc9-f2a0eb0fc358"
      },
      "execution_count": 11,
      "outputs": [
        {
          "output_type": "execute_result",
          "data": {
            "text/plain": [
              "'lemons and limes'"
            ],
            "application/vnd.google.colaboratory.intrinsic+json": {
              "type": "string"
            }
          },
          "metadata": {},
          "execution_count": 11
        }
      ]
    },
    {
      "cell_type": "markdown",
      "source": [
        "**Dize Yöntemi .split()**\n",
        "\n",
        ".split() dize yöntemi, bir dizeyi öğeler listesine böler:\n",
        "\n",
        "Herhangi bir argüman iletilmezse, varsayılan davranış boşlukta bölmek şeklindedir. Yönteme bir bağımsız değişken iletilirse, bu değer dizenin bölüneceği sınırlayıcı olarak kullanılır."
      ],
      "metadata": {
        "id": "Lhq98cRbRCj7"
      }
    },
    {
      "cell_type": "code",
      "source": [
        "text = \"Deep Learning\"\n",
        "\n",
        "print(text.split())\n",
        "\n",
        "print(text.split('i'))"
      ],
      "metadata": {
        "colab": {
          "base_uri": "https://localhost:8080/"
        },
        "id": "TlxRz2DQQqTg",
        "outputId": "3d299bf7-aad5-4083-9fd2-a38e4b9c5f0a"
      },
      "execution_count": 12,
      "outputs": [
        {
          "output_type": "stream",
          "name": "stdout",
          "text": [
            "['Deep', 'Learning']\n",
            "['Deep Learn', 'ng']\n"
          ]
        }
      ]
    },
    {
      "cell_type": "markdown",
      "source": [
        "**Python dize yöntemi .find()**\n",
        "\n",
        "Python dize yöntemi .find(), argüman olarak iletilen dizenin ilk geçtiği dizinin dizinini döndürür. Oluşum bulunmazsa -1 değerini döndürür."
      ],
      "metadata": {
        "id": "ZF2VWqkdRRqq"
      }
    },
    {
      "cell_type": "code",
      "source": [
        "highest_peak = \"Deep Learning\"\n",
        "print(highest_peak.find(\"o\"))\n",
        "print(highest_peak.find(\"e\"))"
      ],
      "metadata": {
        "colab": {
          "base_uri": "https://localhost:8080/"
        },
        "id": "jnfxBtAcQvDy",
        "outputId": "5dbcfa71-d6d6-4dc5-8f9c-58d2398aee2e"
      },
      "execution_count": 14,
      "outputs": [
        {
          "output_type": "stream",
          "name": "stdout",
          "text": [
            "-1\n",
            "1\n"
          ]
        }
      ]
    },
    {
      "cell_type": "markdown",
      "source": [
        "**String .replace()**\n",
        "\n",
        "\n",
        ".replace() yöntemi, dizedeki ilk bağımsız değişkenin oluşumunu ikinci bağımsız değişkenle değiştirmek için kullanılır.\n",
        "\n",
        "İlk bağımsız değişken, değiştirilecek eski alt dizedir ve ikinci bağımsız değişken, dize içinde birincinin her oluşumunu değiştirecek yeni alt dizedir."
      ],
      "metadata": {
        "id": "kjb7Az7GQytm"
      }
    },
    {
      "cell_type": "code",
      "source": [
        "fruit = \"Raspberry Pi\"\n",
        "print(fruit.replace('r', 'R'))"
      ],
      "metadata": {
        "colab": {
          "base_uri": "https://localhost:8080/"
        },
        "id": "LpybFneZRllf",
        "outputId": "1876d989-26af-43be-9baa-5623f4404243"
      },
      "execution_count": 15,
      "outputs": [
        {
          "output_type": "stream",
          "name": "stdout",
          "text": [
            "RaspbeRRy Pi\n"
          ]
        }
      ]
    },
    {
      "cell_type": "markdown",
      "source": [
        "**Veri Yapıları ve Veri Tipleri - 2**\n",
        "\n",
        "**Python'da Listeler nedir?**\n",
        "\n",
        "Python Listeleri, diğer dillerde bildirilen dinamik olarak boyutlandırılmış diziler gibidir (C++'da vektör ve Java'da ArrayList).\n",
        "\n",
        " Basit bir dille, bir liste, [ ] içine alınmış ve virgülle ayrılmış bir şeyler koleksiyonudur."
      ],
      "metadata": {
        "id": "b9ROPT0CRxiQ"
      }
    },
    {
      "cell_type": "code",
      "source": [
        "list = [\"Algorithm\", \"Data-Science\", \"Deep Learning\"]\n",
        "print(list)"
      ],
      "metadata": {
        "colab": {
          "base_uri": "https://localhost:8080/"
        },
        "id": "Hva_cNf0R3Z7",
        "outputId": "c396945a-4a94-4547-ef64-637e08c661fb"
      },
      "execution_count": 16,
      "outputs": [
        {
          "output_type": "stream",
          "name": "stdout",
          "text": [
            "['Algorithm', 'Data-Science', 'Deep Learning']\n"
          ]
        }
      ]
    },
    {
      "cell_type": "code",
      "source": [
        "# Çeşitli liste yöntemlerine genel bakış\n",
        "\n",
        "# Listeden öğelere erişme\n",
        "List = [\"Algorithm\", \"Data-Science\", \"Deep Learning\"]\n",
        "\n",
        "# indeks numarasını kullanarak listeden bir öğeye erişmemiz gerekiyor\n",
        "print(\"Listeden bir öğeye erişim:\")\n",
        "print(List[0])\n",
        "print(List[2])"
      ],
      "metadata": {
        "colab": {
          "base_uri": "https://localhost:8080/"
        },
        "id": "alMulgzSSFaM",
        "outputId": "40b201d7-b7e0-4c51-c263-1ae0807c555d"
      },
      "execution_count": 19,
      "outputs": [
        {
          "output_type": "stream",
          "name": "stdout",
          "text": [
            "Listeden bir öğeye erişim:\n",
            "Algorithm\n",
            "Deep Learning\n"
          ]
        }
      ]
    },
    {
      "cell_type": "code",
      "source": [
        "# Öğelere çok boyutlu bir listeden erişme\n",
        "\n",
        "List = [['Star' , 'Space'], ['AI']]\n",
        "\n",
        "# dizin numarasını kullanarak Çok Boyutlu Listeden bir öğeye erişme\n",
        "print(\"Bir Çok Boyutlu listeden bir öğeye erişme:\")\n",
        "print(List[0][1])\n",
        "print(List[1][0])"
      ],
      "metadata": {
        "colab": {
          "base_uri": "https://localhost:8080/"
        },
        "id": "95r6eS5ySLJQ",
        "outputId": "2995485a-c653-4593-8960-948a0d0fc30e"
      },
      "execution_count": 22,
      "outputs": [
        {
          "output_type": "stream",
          "name": "stdout",
          "text": [
            "Bir Çok Boyutlu listeden bir öğeye erişme:\n",
            "Space\n",
            "AI\n"
          ]
        }
      ]
    },
    {
      "cell_type": "code",
      "source": [
        "# Append in Python Lists\n",
        "my_list = ['Star' , 'Space']\n",
        "my_list.append('AI')\n",
        "print(my_list)"
      ],
      "metadata": {
        "colab": {
          "base_uri": "https://localhost:8080/"
        },
        "id": "50HcjOgiX__p",
        "outputId": "ed7be177-51b3-4ff8-de96-2aa49ae0bfd7"
      },
      "execution_count": 25,
      "outputs": [
        {
          "output_type": "stream",
          "name": "stdout",
          "text": [
            "['Star', 'Space', 'AI']\n"
          ]
        }
      ]
    },
    {
      "cell_type": "markdown",
      "source": [
        "**insert() method**\n",
        "\n",
        "Append() yöntemi sadece listenin sonuna eleman eklenmesi için çalışır, istenilen konuma eleman eklenmesi için insert() metodu kullanılır."
      ],
      "metadata": {
        "id": "tiUsNIlCY_X8"
      }
    },
    {
      "cell_type": "code",
      "source": [
        "List = [7, 9, 3, 6]\n",
        "print(\"Initial List: \")\n",
        "print(List)\n",
        "\n",
        "# Öğenin Belirli Konuma Eklenmesi (Ekleme Yöntemi kullanılarak)\n",
        "List.insert(1, 35)\n",
        "List.insert(0, 'Ai')\n",
        "print(\"\\nList after performing Insert Operation: \")\n",
        "print(List)"
      ],
      "metadata": {
        "colab": {
          "base_uri": "https://localhost:8080/"
        },
        "id": "HwYZXLEvYB7u",
        "outputId": "cff2b132-cc22-40b6-a0e9-e13e03c57e6e"
      },
      "execution_count": 26,
      "outputs": [
        {
          "output_type": "stream",
          "name": "stdout",
          "text": [
            "Initial List: \n",
            "[7, 9, 3, 6]\n",
            "\n",
            "List after performing Insert Operation: \n",
            "['Ai', 7, 35, 9, 3, 6]\n"
          ]
        }
      ]
    },
    {
      "cell_type": "markdown",
      "source": [
        "**Bir Listeyi Tersine Çevirmek**\n",
        "\n",
        "Python'da reverse() yöntemi kullanılarak bir liste tersine çevrilebilir."
      ],
      "metadata": {
        "id": "P0Zmf8xsZUhK"
      }
    },
    {
      "cell_type": "code",
      "source": [
        "# Bir listeyi ters çevirme\n",
        "mylist = [9, 7, 3, 6,  'Data', 'Science']\n",
        "mylist.reverse()\n",
        "print(mylist)"
      ],
      "metadata": {
        "colab": {
          "base_uri": "https://localhost:8080/"
        },
        "id": "pCUNCPOVZVQT",
        "outputId": "bf693a65-4927-4c61-e4e4-549571455f9c"
      },
      "execution_count": 28,
      "outputs": [
        {
          "output_type": "stream",
          "name": "stdout",
          "text": [
            "['Science', 'Data', 6, 3, 7, 9]\n"
          ]
        }
      ]
    },
    {
      "cell_type": "markdown",
      "source": [
        "**remove() yöntemini kullanma**\n",
        "\n",
        "Öğeler, yerleşik remove() işlevi kullanılarak Listeden kaldırılabilir, ancak öğe listede yoksa bir Hata ortaya çıkar.\n",
        "\n",
        "Remove() yöntemi, her seferinde yalnızca bir öğeyi kaldırır. Remove() yöntemi, belirtilen öğeyi kaldırır."
      ],
      "metadata": {
        "id": "Exci8fWkazXs"
      }
    },
    {
      "cell_type": "code",
      "source": [
        "List = [1, 2, 3, 4, 5, 6, 7, \"Ai\", 8, 9, 10, 11, 12]\n",
        "print(\"\\nList before deletion: \")\n",
        "print(List)\n",
        "\n",
        "List.remove(\"Ai\")\n",
        "print(\"\\nList after Removing a range of elements: \")\n",
        "print(List)"
      ],
      "metadata": {
        "colab": {
          "base_uri": "https://localhost:8080/"
        },
        "id": "-q8vXgNqYLAt",
        "outputId": "c8a7dca1-8781-493b-972d-145e2acdec1d"
      },
      "execution_count": 29,
      "outputs": [
        {
          "output_type": "stream",
          "name": "stdout",
          "text": [
            "\n",
            "List before deletion: \n",
            "[1, 2, 3, 4, 5, 6, 7, 'Ai', 8, 9, 10, 11, 12]\n",
            "\n",
            "List after Removing a range of elements: \n",
            "[1, 2, 3, 4, 5, 6, 7, 8, 9, 10, 11, 12]\n"
          ]
        }
      ]
    },
    {
      "cell_type": "code",
      "source": [
        "# Slicing in Python\n",
        "List = ['M', 'A', 'C', 'H', 'I', 'N', 'E', 'L', 'E', 'A', 'R', 'N', 'I', 'N', 'G']\n",
        "print(\"Initial List : \")\n",
        "print(List)\n",
        "\n",
        "# Dilim işlemini kullanarak bir aralığın öğelerini yazdır Slice operation\n",
        "Sliced_List = List[3:8]\n",
        "print(\"\\nSlicing elements in a range 3-8: \")\n",
        "print(Sliced_List)\n",
        "\n",
        "#  Öğeleri önceden tanımlanmış bir noktadan sona yazdır\n",
        "Sliced_List = List[5:]\n",
        "print(\"\\nElements sliced from 5th \"\n",
        "\"element till the end: \")\n",
        "print(Sliced_List)\n",
        "\n",
        "# Öğeleri baştan sona yazdırma\n",
        "Sliced_List = List[:]\n",
        "print(\"\\nPrinting all elements using slice operation: \")\n",
        "print(Sliced_List)\n",
        "\n",
        "# kullanarak öğeleri başlangıçtan önceden tanımlanmış bir noktaya yazdırın\n",
        "Sliced_List = List[:-6]\n",
        "print(\"\\nElements sliced till 6th element from last: \")\n",
        "print(Sliced_List)\n",
        "\n",
        "# Negatif indeks kullanarak bir aralığın öğelerini yazdırın Liste dilimleme\n",
        "Sliced_List = List[-6:-1]\n",
        "print(\"\\nElements sliced from index -6 to -1\")\n",
        "print(Sliced_List)\n",
        "\n",
        "# Slice işlemini kullanarak öğeleri tersten yazdırma\n",
        "Sliced_List = List[::-1]\n",
        "print(\"\\nPrinting List in reverse: \")\n",
        "print(Sliced_List)"
      ],
      "metadata": {
        "colab": {
          "base_uri": "https://localhost:8080/"
        },
        "id": "RUF4FyAIYMsG",
        "outputId": "c5167ee4-52ef-4627-d09b-76884e97fb88"
      },
      "execution_count": 30,
      "outputs": [
        {
          "output_type": "stream",
          "name": "stdout",
          "text": [
            "Initial List : \n",
            "['M', 'A', 'C', 'H', 'I', 'N', 'E', 'L', 'E', 'A', 'R', 'N', 'I', 'N', 'G']\n",
            "\n",
            "Slicing elements in a range 3-8: \n",
            "['H', 'I', 'N', 'E', 'L']\n",
            "\n",
            "Elements sliced from 5th element till the end: \n",
            "['N', 'E', 'L', 'E', 'A', 'R', 'N', 'I', 'N', 'G']\n",
            "\n",
            "Printing all elements using slice operation: \n",
            "['M', 'A', 'C', 'H', 'I', 'N', 'E', 'L', 'E', 'A', 'R', 'N', 'I', 'N', 'G']\n",
            "\n",
            "Elements sliced till 6th element from last: \n",
            "['M', 'A', 'C', 'H', 'I', 'N', 'E', 'L', 'E']\n",
            "\n",
            "Elements sliced from index -6 to -1\n",
            "['A', 'R', 'N', 'I', 'N']\n",
            "\n",
            "Printing List in reverse: \n",
            "['G', 'N', 'I', 'N', 'R', 'A', 'E', 'L', 'E', 'N', 'I', 'H', 'C', 'A', 'M']\n"
          ]
        }
      ]
    },
    {
      "cell_type": "markdown",
      "source": [
        "**count() method**\n",
        "\n",
        "Python List count() yöntemi, belirli bir nesnenin bir Listede kaç kez geçtiğinin sayısını döndürür."
      ],
      "metadata": {
        "id": "AczPMG97ceS6"
      }
    },
    {
      "cell_type": "code",
      "source": [
        "list2 = ['a', 'a', 'a', 'b', 'b', 'a', 'c', 'b']\n",
        "print(list2.count('b'))"
      ],
      "metadata": {
        "colab": {
          "base_uri": "https://localhost:8080/"
        },
        "id": "21vLgCXRchTA",
        "outputId": "5a6629ec-98bb-46aa-e02c-ca42dbf36afb"
      },
      "execution_count": 31,
      "outputs": [
        {
          "output_type": "stream",
          "name": "stdout",
          "text": [
            "3\n"
          ]
        }
      ]
    },
    {
      "cell_type": "markdown",
      "source": [
        "**sort()**\n",
        "\n",
        "Bu işlev, listeyi artan düzende sıralar."
      ],
      "metadata": {
        "id": "4Ty5nh7Hchrn"
      }
    },
    {
      "cell_type": "code",
      "source": [
        "lis = [2, 1, 3, 5, 3, 8]\n",
        "\n",
        "lis.sort()\n",
        "print(\"\\nPrinting the list in ascending order\")\n",
        "print(lis)\n",
        "\n",
        "lis.sort(reverse=True)\n",
        "print(\"\\nPrinting the list in descending order\")\n",
        "print(lis)"
      ],
      "metadata": {
        "colab": {
          "base_uri": "https://localhost:8080/"
        },
        "id": "YD1F6FYNdbOW",
        "outputId": "01155477-7982-49fc-df41-dfa6d339ac58"
      },
      "execution_count": 32,
      "outputs": [
        {
          "output_type": "stream",
          "name": "stdout",
          "text": [
            "\n",
            "Printing the list in ascending order\n",
            "[1, 2, 3, 3, 5, 8]\n",
            "\n",
            "Printing the list in descending order\n",
            "[8, 5, 3, 3, 2, 1]\n"
          ]
        }
      ]
    },
    {
      "cell_type": "markdown",
      "source": [
        "**Python'da Demetler**\n",
        "\n",
        "Virgülle ayrılmış nesneler topluluğudur. Bazı yönlerden, bir demet, indeksleme, iç içe geçmiş nesneler ve tekrarlama açısından bir listeye benzer, ancak bir demet, değişken olan listelerin aksine değişmezdir."
      ],
      "metadata": {
        "id": "WwPYzDedckyo"
      }
    },
    {
      "cell_type": "code",
      "source": [
        "tuple = ('Star', 'Space', 'AI')\n",
        "print(tuple)"
      ],
      "metadata": {
        "colab": {
          "base_uri": "https://localhost:8080/"
        },
        "id": "9L8mCKALdz2G",
        "outputId": "e15796df-91f9-41be-8891-6f1ed0e457ad"
      },
      "execution_count": 33,
      "outputs": [
        {
          "output_type": "stream",
          "name": "stdout",
          "text": [
            "('Star', 'Space', 'AI')\n"
          ]
        }
      ]
    },
    {
      "cell_type": "markdown",
      "source": [
        "**Python'da Demetlerdeki Değerlere Erişme**\n",
        "\n",
        "Yöntem 1: Pozitif İndeks Kullanmak Köşeli parantezler kullanarak Python'daki demetlerden değerler alabiliriz."
      ],
      "metadata": {
        "id": "QIt7sPAOd98t"
      }
    },
    {
      "cell_type": "code",
      "source": [
        "tuple = ('Star', 'Space', 'AI')\n",
        "\n",
        "print(\"Value in tuple[0] = \", tuple[0])\n",
        "print(\"Value in tuple[0] = \", tuple[1])\n",
        "print(\"Value in tuple[0] = \", tuple[2])"
      ],
      "metadata": {
        "colab": {
          "base_uri": "https://localhost:8080/"
        },
        "id": "gN_2WiXqd_y2",
        "outputId": "f8d8fc4d-24e3-4969-a3cb-f36a6c17d973"
      },
      "execution_count": 34,
      "outputs": [
        {
          "output_type": "stream",
          "name": "stdout",
          "text": [
            "Value in tuple[0] =  Star\n",
            "Value in tuple[0] =  Space\n",
            "Value in tuple[0] =  AI\n"
          ]
        }
      ]
    },
    {
      "cell_type": "markdown",
      "source": [
        "Yöntem 2: Negatif Dizini Kullanma. Yukarıdaki yöntemlerde, Python'daki değere erişmek için pozitif dizini kullanıyoruz ve burada [] içindeki -ve dizini kullanacağız."
      ],
      "metadata": {
        "id": "rGHCFu9hd__y"
      }
    },
    {
      "cell_type": "code",
      "source": [
        "tuple = ('Star', 'Space', 'AI')\n",
        "\n",
        "print(\"Value in tuple[-3] = \", tuple[-3])\n",
        "print(\"Value in tuple[-2] = \", tuple[-2])\n",
        "print(\"Value in tuple[-1] = \", tuple[-1])"
      ],
      "metadata": {
        "colab": {
          "base_uri": "https://localhost:8080/"
        },
        "id": "sjYW96EVfZoC",
        "outputId": "5f66934d-ec3b-4a0a-d39b-d9ba38e28c23"
      },
      "execution_count": 36,
      "outputs": [
        {
          "output_type": "stream",
          "name": "stdout",
          "text": [
            "Value in tuple[-3] =  Star\n",
            "Value in tuple[-2] =  Space\n",
            "Value in tuple[-1] =  AI\n"
          ]
        }
      ]
    },
    {
      "cell_type": "markdown",
      "source": [
        "**Python'da Demetlerin Birleştirilmesi**\n",
        "\n",
        "Python demetini birleştirmek için artı işleçleri(+) kullanacağız."
      ],
      "metadata": {
        "id": "_42omTx9iolQ"
      }
    },
    {
      "cell_type": "code",
      "source": [
        "# 2 demetin birleştirilmesi için kod\n",
        "\n",
        "tuple1 = (1, 8, 8, 1)\n",
        "tuple2 = ('Data', 'Science')\n",
        "\n",
        "# İki üzerinde birleştirme\n",
        "print(tuple1 + tuple2) \n",
        "\n",
        "# Python'da Tuple'ların Yuvalanması Yuvalanmış demetler oluşturmak için kod\n",
        "\n",
        "tuple1 = (0, 3, 6, 4)\n",
        "tuple2 = ('Data', 'Science')\n",
        "tuple3 = (tuple1 , tuple2 )\n",
        "print(tuple3)"
      ],
      "metadata": {
        "colab": {
          "base_uri": "https://localhost:8080/"
        },
        "id": "I4QSwNxsiqLN",
        "outputId": "8ab1f51d-b76f-41c6-ae26-8ab2300b0f6b"
      },
      "execution_count": 38,
      "outputs": [
        {
          "output_type": "stream",
          "name": "stdout",
          "text": [
            "(1, 8, 8, 1, 'Data', 'Science')\n",
            "((0, 3, 6, 4), ('Data', 'Science'))\n"
          ]
        }
      ]
    },
    {
      "cell_type": "code",
      "source": [
        "# Python'da Demetleri Dilimlemek (Slicing)\n",
        "# dilimlemeyi test edecek kod\n",
        "\n",
        "tuple_slice = (9, 3, 6, 7)\n",
        "\n",
        "print(tuple_slice[2:4])\n",
        "print(tuple_slice[::-1])\n",
        "print(tuple_slice[1:])"
      ],
      "metadata": {
        "colab": {
          "base_uri": "https://localhost:8080/"
        },
        "id": "kqudwwwweDBq",
        "outputId": "8f765ce8-b91b-43b1-a883-8612499a953f"
      },
      "execution_count": 39,
      "outputs": [
        {
          "output_type": "stream",
          "name": "stdout",
          "text": [
            "(6, 7)\n",
            "(7, 6, 3, 9)\n",
            "(3, 6, 7)\n"
          ]
        }
      ]
    },
    {
      "cell_type": "code",
      "source": [
        "# Bir Demetin Uzunluğunu Bulma\n",
        "# Tuple uzunluğunu yazdırmak için kod\n",
        "\n",
        "tuple_len = ('Data', 'Science')\n",
        "print(len(tuple_len))"
      ],
      "metadata": {
        "colab": {
          "base_uri": "https://localhost:8080/"
        },
        "id": "ayU5ibhJeE4n",
        "outputId": "178556fb-50b0-4ad8-ee86-a3aa3ff36e30"
      },
      "execution_count": 40,
      "outputs": [
        {
          "output_type": "stream",
          "name": "stdout",
          "text": [
            "2\n"
          ]
        }
      ]
    },
    {
      "cell_type": "markdown",
      "source": [
        "**Python'da Sözlük**\n",
        "\n",
        "Öğe olarak yalnızca tek bir değer tutan diğer veri türlerinin aksine, bir harita gibi veri değerlerini depolamak için kullanılan bir anahtar değerler koleksiyonudur.\n",
        "\n",
        "Bir sözlük, 'virgül' ile ayrılmış kaşlı {} parantezler içine bir dizi öğe yerleştirilerek oluşturulabilir. Sözlük değer çiftlerini tutar, biri Anahtar ve diğer karşılık gelen çift öğe onun Anahtar:değeridir. Bir sözlükteki değerler herhangi bir veri tipinde olabilir ve çoğaltılabilir, oysa anahtarlar tekrar edilemez ve değiştirilemez olmalıdır."
      ],
      "metadata": {
        "id": "fkBp1omflnQV"
      }
    },
    {
      "cell_type": "code",
      "source": [
        "Dict = {1: 'Data', 2: 'is', 3:'the', 4:'new', 5: 'oil' }\n",
        "print(Dict)"
      ],
      "metadata": {
        "colab": {
          "base_uri": "https://localhost:8080/"
        },
        "id": "I1U-ZJiil5PZ",
        "outputId": "64a1ed00-73ec-4789-ba1b-52cb7932962f"
      },
      "execution_count": 45,
      "outputs": [
        {
          "output_type": "stream",
          "name": "stdout",
          "text": [
            "{1: 'Data', 2: 'is', 3: 'the', 4: 'new', 5: 'oil'}\n"
          ]
        }
      ]
    },
    {
      "cell_type": "code",
      "source": [
        "# Tamsayı ve Karma Türlerin anahtarlarını içeren sözlük\n",
        "# Tamsayı Anahtarları ile Sözlük Oluşturma\n",
        "Dict = {1: 'Algorithm', 2: 'Data-Science', 3: 'Deep Learning'}\n",
        "print(\" \\nTamsayı Anahtarlarının Kullanıldığı Sözlük: \")\n",
        "print(Dict)\n",
        "\n",
        "# Karışık Tuşlarla Sözlük Oluşturma\n",
        "Dict = {'Name': 'Ai', 1: [1, 2, 3, 4]}\n",
        "print(\"\\n Karma Anahtarların kullanıldığı sözlük: \")\n",
        "print(Dict)"
      ],
      "metadata": {
        "colab": {
          "base_uri": "https://localhost:8080/"
        },
        "id": "wjnACQAdmEPD",
        "outputId": "c3d82be3-1d7e-46f8-89a7-dcf349befb19"
      },
      "execution_count": 46,
      "outputs": [
        {
          "output_type": "stream",
          "name": "stdout",
          "text": [
            " \n",
            "Tamsayı Anahtarlarının Kullanıldığı Sözlük: \n",
            "{1: 'Algorithm', 2: 'Data-Science', 3: 'Deep Learning'}\n",
            "\n",
            " Karma Anahtarların kullanıldığı sözlük: \n",
            "{'Name': 'Ai', 1: [1, 2, 3, 4]}\n"
          ]
        }
      ]
    },
    {
      "cell_type": "markdown",
      "source": [
        "**Sözlüğe öğe ekleme**\n",
        "\n",
        "Öğelerin eklenmesi çeşitli şekillerde yapılabilir. Dict[Key] = 'Value' gibi anahtarla birlikte değer tanımlanarak bir Sözlüğe her seferinde bir değer eklenebilir. Sözlükte var olan bir değeri güncellemek, yerleşik update() yöntemi kullanılarak yapılabilir.\n",
        "Not- Bir değer eklenirken, eğer anahtar/değer çifti mevcutsa, değer güncellenir, aksi takdirde sözlüğe yeni bir anahtar değeri eklenir."
      ],
      "metadata": {
        "id": "Oj--yo2BmLCh"
      }
    },
    {
      "cell_type": "code",
      "source": [
        "# Boş Sözlük oluşturma\n",
        "Dict = {}\n",
        "print(\"Boş Sözlük: \")\n",
        "print(Dict)\n",
        "\n",
        "# Öğeleri teker teker ekleme\n",
        "Dict[0] = 'Nasa'\n",
        "Dict[2] = 'Space'\n",
        "Dict[3] = 1\n",
        "print(\"\\n3 eleman ekledikten sonra sözlük: \")\n",
        "print(Dict) # Tek bir Key\n",
        "\n",
        "# tek bir Anahtara değer kümesi ekleme\n",
        "Dict['Value_set'] = 2, 3, 4\n",
        "print(\"\\nDictionary after adding 3 elements: \")\n",
        "print(Dict)\n",
        "\n",
        "# Mevcut Anahtarın Değerini güncelleme\n",
        "Dict[2]  = 'Grand Welcome'\n",
        "print(\" \\n Anahtar değeri güncellendi: \" )\n",
        "print(Dict)\n",
        "\n",
        "# Sözlüğe İç İçe Anahtar değeri ekleme\n",
        "Dict[5] = {'İç İçe': {'1': 'Hayat', '2': 'Geeks'}}\n",
        "print(\"\\nİç İçe Anahtar Ekleme: \")\n",
        "print(Dict)"
      ],
      "metadata": {
        "colab": {
          "base_uri": "https://localhost:8080/"
        },
        "id": "BPI1C23EmN4n",
        "outputId": "7bdd6236-6d49-4d9d-8b99-77f5dace38b2"
      },
      "execution_count": 47,
      "outputs": [
        {
          "output_type": "stream",
          "name": "stdout",
          "text": [
            "Boş Sözlük: \n",
            "{}\n",
            "\n",
            "3 eleman ekledikten sonra sözlük: \n",
            "{0: 'Nasa', 2: 'Space', 3: 1}\n",
            "\n",
            "Dictionary after adding 3 elements: \n",
            "{0: 'Nasa', 2: 'Space', 3: 1, 'Value_set': (2, 3, 4)}\n",
            " \n",
            " Anahtar değeri güncellendi: \n",
            "{0: 'Nasa', 2: 'Grand Welcome', 3: 1, 'Value_set': (2, 3, 4)}\n",
            "\n",
            "İç İçe Anahtar Ekleme: \n",
            "{0: 'Nasa', 2: 'Grand Welcome', 3: 1, 'Value_set': (2, 3, 4), 5: {'İç İçe': {'1': 'Hayat', '2': 'Geeks'}}}\n"
          ]
        }
      ]
    },
    {
      "cell_type": "markdown",
      "source": [
        "Bir Sözlüğün Öğelerine Erişim Bir sözlüğün öğelerine erişmek için anahtar adına bakın. Anahtar köşeli parantez içinde kullanılabilir."
      ],
      "metadata": {
        "id": "4JSAWOKqpLdV"
      }
    },
    {
      "cell_type": "code",
      "source": [
        "# Sözlük\n",
        "Dict = {1 : 'Ai' , 'Data': 'Science', 3: 'Learning'}\n",
        "\n",
        "# anahtar kullanarak bir öğeye erişme\n",
        "print(\"Bir öğeye anahtar kullanarak erişme:\" )\n",
        "print(Dict['Data'])\n",
        "\n",
        "# anahtarı kullanarak bir öğeye erişme\n",
        "print(\"Bir elemana tuş kullanarak erişme:\" )\n",
        "print(Dict[1])"
      ],
      "metadata": {
        "colab": {
          "base_uri": "https://localhost:8080/"
        },
        "id": "kXTa8LkPpKjm",
        "outputId": "e4aa3892-731a-4e3a-b1e5-391cc9866564"
      },
      "execution_count": 48,
      "outputs": [
        {
          "output_type": "stream",
          "name": "stdout",
          "text": [
            "Bir öğeye anahtar kullanarak erişme:\n",
            "Science\n",
            "Bir elemana tuş kullanarak erişme:\n",
            "Ai\n"
          ]
        }
      ]
    },
    {
      "cell_type": "markdown",
      "source": [
        "Günlük hayatımızda kullandığımız popüler Sözlük yöntemleri koleksiyonu"
      ],
      "metadata": {
        "id": "M813bPLapTtH"
      }
    },
    {
      "cell_type": "code",
      "source": [
        "# tüm sözlük yöntemleri için demo\n",
        "dictionary = {1: \"Python\", 2: \"C++\", 3: \"Ruby\", 4: \"R\"}\n",
        "\n",
        "# copy() method\n",
        "dict2 = dictionary.copy()\n",
        "print(dict2)\n",
        "\n",
        "# clear() method\n",
        "dictionary.clear()\n",
        "print(dictionary)\n",
        "\n",
        "# get() method\n",
        "print(dict2.get(3))\n",
        "\n",
        "# items() method\n",
        "print(dict2.items())\n",
        "\n",
        "# keys() method\n",
        "print(dict2.keys())\n",
        "\n",
        "# pop() method\n",
        "dict2.pop(2)\n",
        "print(dict2)\n",
        "\n",
        "# popitem() method\n",
        "dict2.popitem()\n",
        "print(dict2)\n",
        "\n",
        "# update() method\n",
        "dict2.update({4: \"Kotlin\"})\n",
        "print(dict2)\n",
        "\n",
        "# values() method\n",
        "print(dict2.values())"
      ],
      "metadata": {
        "colab": {
          "base_uri": "https://localhost:8080/"
        },
        "id": "90U2SkeeqA_1",
        "outputId": "3f790dd2-df66-4dc0-9653-5028970dc815"
      },
      "execution_count": 49,
      "outputs": [
        {
          "output_type": "stream",
          "name": "stdout",
          "text": [
            "{1: 'Python', 2: 'C++', 3: 'Ruby', 4: 'R'}\n",
            "{}\n",
            "Ruby\n",
            "dict_items([(1, 'Python'), (2, 'C++'), (3, 'Ruby'), (4, 'R')])\n",
            "dict_keys([1, 2, 3, 4])\n",
            "{1: 'Python', 3: 'Ruby', 4: 'R'}\n",
            "{1: 'Python', 3: 'Ruby'}\n",
            "{1: 'Python', 3: 'Ruby', 4: 'Kotlin'}\n",
            "dict_values(['Python', 'Ruby', 'Kotlin'])\n"
          ]
        }
      ]
    }
  ]
}