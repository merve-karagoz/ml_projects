{
  "nbformat": 4,
  "nbformat_minor": 0,
  "metadata": {
    "colab": {
      "provenance": []
    },
    "kernelspec": {
      "name": "python3",
      "display_name": "Python 3"
    },
    "language_info": {
      "name": "python"
    }
  },
  "cells": [
    {
      "cell_type": "markdown",
      "source": [
        "**Koşullu Bildirim ve Sözlükler Örnekleri**\n",
        "\n",
        "Python, sıfır olmayan değerleri True (hatta negatif değerler) olarak yorumlar. Yok ve 0, Yanlış olarak yorumlanır."
      ],
      "metadata": {
        "id": "nU-6FADuXGcN"
      }
    },
    {
      "cell_type": "markdown",
      "source": [
        "1 ) Kullanıcıdan bir dikdörtgenin uzunluk ve genişlik değerlerini alın ve kare olup olmadığına bakın.\n"
      ],
      "metadata": {
        "id": "9jdWCcdvXrMD"
      }
    },
    {
      "cell_type": "code",
      "execution_count": null,
      "metadata": {
        "colab": {
          "base_uri": "https://localhost:8080/"
        },
        "id": "lKRiJzpGXAL-",
        "outputId": "cc29e0e1-6334-43b8-93b5-b7fd7cdeb9d5"
      },
      "outputs": [
        {
          "output_type": "stream",
          "name": "stdout",
          "text": [
            "dikdörtgenin uzunluk değeri: 25\n",
            "dikdörtgenin genişlik değeri: 25\n",
            "Kare\n"
          ]
        }
      ],
      "source": [
        "height = int(input(\"dikdörtgenin uzunluk değeri: \"))\n",
        "weight = int(input(\"dikdörtgenin genişlik değeri: \"))\n",
        "\n",
        "if height == weight:\n",
        "  print(\"Kare\")\n",
        "else:\n",
        "  print(\"Kare değil.\")"
      ]
    },
    {
      "cell_type": "markdown",
      "source": [
        "2) Kullanıcıdan iki int değeri alın ve aralarından en büyüğünü yazdırın."
      ],
      "metadata": {
        "id": "CH8A5xx5bxFl"
      }
    },
    {
      "cell_type": "code",
      "source": [
        "number = int(input(\"sayı giriniz: \"))\n",
        "number2 = int(input(\"ikinci sayısı giriniz: \"))\n",
        "\n",
        "if number > number2:\n",
        "  print(\"en büyük sayı: \", number)\n",
        "elif number2 > number:\n",
        "  print(\"en büyük sayı: \", number2)\n",
        "else:\n",
        "  print(\"yeniden deneyin\")"
      ],
      "metadata": {
        "id": "hDuNVLNKXlsG",
        "colab": {
          "base_uri": "https://localhost:8080/"
        },
        "outputId": "6a9b0130-f056-4272-97ad-e49a2a05b398"
      },
      "execution_count": null,
      "outputs": [
        {
          "output_type": "stream",
          "name": "stdout",
          "text": [
            "sayı giriniz: 7\n",
            "ikinci sayısı giriniz: 5\n",
            "en büyük sayı:  7\n"
          ]
        }
      ]
    },
    {
      "cell_type": "markdown",
      "source": [
        "3) Bir adayın yaşını okumak ve oy kullanmaya uygun olup olmadığını belirlemek için bir program yazın"
      ],
      "metadata": {
        "id": "5EFocQ_hX5mp"
      }
    },
    {
      "cell_type": "code",
      "source": [
        "yas = int(input(\"Yaşınızı giriniz: \"))\n",
        "if yas >= 18:\n",
        "  print(\"Oy kullanmaya uygun.\")\n",
        "else:\n",
        "  print(\"Oy kullanmaya uygun değil.\")"
      ],
      "metadata": {
        "colab": {
          "base_uri": "https://localhost:8080/"
        },
        "id": "Qpr4Tjl3X8E2",
        "outputId": "aeb02e40-9017-4621-db6b-b66139477076"
      },
      "execution_count": null,
      "outputs": [
        {
          "output_type": "stream",
          "name": "stdout",
          "text": [
            "Yaşınızı giriniz: 25\n",
            "Oy kullanmaya uygun.\n"
          ]
        }
      ]
    },
    {
      "cell_type": "markdown",
      "source": [
        "4) Bir sözlüğe anahtar eklemek için bir Python programı yazın.\n",
        "\n",
        "Sample Dictionary : {0: 10, 1: 20}\n",
        "\n",
        "Expected Result : {0: 10, 1: 20, 2: 30}"
      ],
      "metadata": {
        "id": "qV86QE_2ZL-3"
      }
    },
    {
      "cell_type": "code",
      "source": [
        "sample_dictionary = {0: 10, 1: 20}\n",
        "sample_dictionary[2] = 30\n",
        "print(\"Expected Result = \", sample_dictionary)"
      ],
      "metadata": {
        "colab": {
          "base_uri": "https://localhost:8080/"
        },
        "id": "1YcHuI6Ta5Ey",
        "outputId": "b249554b-6be0-4cbd-f99f-15d393950fe0"
      },
      "execution_count": null,
      "outputs": [
        {
          "output_type": "stream",
          "name": "stdout",
          "text": [
            "Expected Result =  {0: 10, 1: 20, 2: 30}\n"
          ]
        }
      ]
    },
    {
      "cell_type": "markdown",
      "source": [
        "5) Aşağıda iki liste bulunmaktadır; onları bir sözlüğe dönüştürün.\n",
        "\n",
        "keys = ['Ten', 'Twenty', 'Thirty']\n",
        "\n",
        "values = [10, 20, 30]\n",
        "\n",
        "Expected output:\n",
        "{'Ten': 10, 'Twenty': 20, 'Thirty': 30}"
      ],
      "metadata": {
        "id": "0Q9v7YYvcfYd"
      }
    },
    {
      "cell_type": "code",
      "source": [
        "keys = ['Ten', 'Twenty', 'Thirty']\n",
        "values = [10, 20, 30]\n",
        "print(keys + values)"
      ],
      "metadata": {
        "colab": {
          "base_uri": "https://localhost:8080/"
        },
        "id": "jRGbUmGBcz4U",
        "outputId": "274aad60-afbe-4bc6-a038-d924dc2f7aa6"
      },
      "execution_count": null,
      "outputs": [
        {
          "output_type": "stream",
          "name": "stdout",
          "text": [
            "['Ten', 'Twenty', 'Thirty', 10, 20, 30]\n"
          ]
        }
      ]
    },
    {
      "cell_type": "markdown",
      "source": [
        "6) 'history' anahtarının değerine erişin.\n",
        "\n",
        "sampleDict = {\n",
        "\n",
        "\"class\":{\n",
        "\n",
        "\"student\":{\n",
        "\n",
        "\"name\":\"Mike\",\n",
        "\n",
        "\"marks\":{\n",
        "\n",
        "\"physics\":70,\n",
        "\n",
        "\"history\":80\n",
        "\n",
        "}\n",
        "\n",
        "}\n",
        "\n",
        "}\n",
        "\n",
        "}\n",
        "\n",
        "Expected output:\n",
        "\n",
        "80"
      ],
      "metadata": {
        "id": "66sO-AB9eB0Q"
      }
    },
    {
      "cell_type": "code",
      "source": [
        "sampleDict = {\n",
        "\"class\":{\n",
        "\"student\":{\n",
        "\"name\": \"Mike\",\n",
        "\"marks\":{\n",
        "\"physics\": 70,\n",
        "\"history\": 80\n",
        "}\n",
        "}\n",
        "}\n",
        "}"
      ],
      "metadata": {
        "id": "neV4VZgVeCQk"
      },
      "execution_count": 55,
      "outputs": []
    },
    {
      "cell_type": "code",
      "source": [
        "print(sampleDict['class']['student']['marks']['history'])"
      ],
      "metadata": {
        "colab": {
          "base_uri": "https://localhost:8080/"
        },
        "id": "j4HE5AA3ozUt",
        "outputId": "58ce5c5b-5ce5-4dd7-cf21-e3a53d49bc99"
      },
      "execution_count": 54,
      "outputs": [
        {
          "output_type": "stream",
          "name": "stdout",
          "text": [
            "80\n"
          ]
        }
      ]
    },
    {
      "cell_type": "markdown",
      "source": [
        "7) Aşağıdaki sözlük verildiğinde:\n",
        "\n",
        "inventory = {'gold' : 500,\n",
        "             'pouch' : ['flint', 'twine', 'gemstone'],\n",
        "             'backpack' : ['xylophone','dagger', 'bedroll','bread loaf']\n",
        "            }\n",
        "\n",
        "Aşağıdakileri yapmayı deneyin:\n",
        "*  inventory 'pocket' adı verilen bir anahtar ekleyin.\n",
        "*  'pocket' değerini 'seashell', 'strange berry', and 'lint' dizelerinden oluşan bir liste olacak şekilde ayarlayın.\n",
        "*  sort() 'backpack' altında saklanan listedeki öğeler.\n",
        "*  Ardından, 'backpack' anahtarı altında saklanan öğeler listesinden remove('dagger').\n",
        "* 'gold' altında saklanan sayıya 50 ekleyin."
      ],
      "metadata": {
        "id": "WEzX8l-reDN9"
      }
    },
    {
      "cell_type": "code",
      "source": [
        "inventory = {\n",
        "    'gold' : 500,\n",
        "    'pouch' : ['flint', 'twine', 'gemstone'],\n",
        "    'backpack' : ['xylophone','dagger', 'bedroll','bread loaf']\n",
        "}\n",
        "\n",
        "inventory['pocket'] = ['seashell', 'strange berry', 'lint']\n",
        "\n",
        "inventory['backpack'].sort()\n",
        "\n",
        "inventory['backpack'].remove('dagger')\n",
        "\n",
        "inventory['gold'] = inventory['gold'] + 50\n",
        "\n",
        "print(inventory)"
      ],
      "metadata": {
        "id": "-feTWQf0fwfe",
        "colab": {
          "base_uri": "https://localhost:8080/"
        },
        "outputId": "9dfdd6bc-287b-47b0-842b-1ddc28ff40dc"
      },
      "execution_count": 57,
      "outputs": [
        {
          "output_type": "stream",
          "name": "stdout",
          "text": [
            "{'gold': 550, 'pouch': ['flint', 'twine', 'gemstone'], 'backpack': ['bedroll', 'bread loaf', 'xylophone'], 'pocket': ['seashell', 'strange berry', 'lint']}\n"
          ]
        }
      ]
    }
  ]
}